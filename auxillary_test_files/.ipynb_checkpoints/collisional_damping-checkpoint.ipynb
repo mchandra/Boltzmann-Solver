{
 "cells": [
  {
   "cell_type": "markdown",
   "metadata": {},
   "source": [
    "Refer to the Sage Worksheet at https://goo.gl/dXarsP to understand the expression that has been used to arrive at the solution for collisional damping using linear theory."
   ]
  },
  {
   "cell_type": "code",
   "execution_count": 1,
   "metadata": {
    "collapsed": true
   },
   "outputs": [],
   "source": [
    "import numpy as np\n",
    "import pylab as pl\n",
    "from scipy.integrate import odeint\n",
    "import h5py\n",
    "%matplotlib inline"
   ]
  },
  {
   "cell_type": "code",
   "execution_count": 2,
   "metadata": {
    "collapsed": true
   },
   "outputs": [],
   "source": [
    "# Setting plot parameters:\n",
    "pl.rcParams['figure.figsize']  = 12, 7.5\n",
    "pl.rcParams['lines.linewidth'] = 1.5\n",
    "pl.rcParams['font.family']     = 'serif'\n",
    "pl.rcParams['font.weight']     = 'bold'\n",
    "pl.rcParams['font.size']       = 20\n",
    "pl.rcParams['font.sans-serif'] = 'serif'\n",
    "pl.rcParams['text.usetex']     = True\n",
    "pl.rcParams['axes.linewidth']  = 1.5\n",
    "pl.rcParams['axes.titlesize']  = 'medium'\n",
    "pl.rcParams['axes.labelsize']  = 'medium'\n",
    "\n",
    "pl.rcParams['xtick.major.size'] = 8\n",
    "pl.rcParams['xtick.minor.size'] = 4\n",
    "pl.rcParams['xtick.major.pad']  = 8\n",
    "pl.rcParams['xtick.minor.pad']  = 8\n",
    "pl.rcParams['xtick.color']      = 'k'\n",
    "pl.rcParams['xtick.labelsize']  = 'medium'\n",
    "pl.rcParams['xtick.direction']  = 'in'\n",
    "\n",
    "pl.rcParams['ytick.major.size'] = 8\n",
    "pl.rcParams['ytick.minor.size'] = 4\n",
    "pl.rcParams['ytick.major.pad']  = 8\n",
    "pl.rcParams['ytick.minor.pad']  = 8\n",
    "pl.rcParams['ytick.color']      = 'k'\n",
    "pl.rcParams['ytick.labelsize']  = 'medium'\n",
    "pl.rcParams['ytick.direction']  = 'in'"
   ]
  },
  {
   "cell_type": "code",
   "execution_count": 3,
   "metadata": {
    "collapsed": false
   },
   "outputs": [],
   "source": [
    "# Setting the variables in the maxwell distribution\n",
    "mass_particle      = 1 # mass of particle\n",
    "boltzmann_constant = 1 # boltzmann-constant\n",
    "T_background       = 1 # background temperature\n",
    "rho_background     = 1 # background density\n",
    "\n",
    "# k for the mode in fourier space\n",
    "k   = 2*np.pi\n",
    "\n",
    "# Collisional time-scale tau\n",
    "tau = 0.005"
   ]
  },
  {
   "cell_type": "code",
   "execution_count": 4,
   "metadata": {
    "collapsed": true
   },
   "outputs": [],
   "source": [
    "# The maxwell Boltzmann function\n",
    "def f_0(v):\n",
    "    return (np.sqrt(mass_particle/(2*np.pi*boltzmann_constant*T_background))*\\\n",
    "            np.exp(-mass_particle*v**2/(2*boltzmann_constant*T_background))\n",
    "           )"
   ]
  },
  {
   "cell_type": "code",
   "execution_count": 5,
   "metadata": {
    "collapsed": true
   },
   "outputs": [],
   "source": [
    "# Assign the maxim and minimum velocity for the velocity grid\n",
    "velocity_max =  +6\n",
    "velocity_min =  -6"
   ]
  },
  {
   "cell_type": "code",
   "execution_count": 6,
   "metadata": {
    "collapsed": true
   },
   "outputs": [],
   "source": [
    "# Set the divisions for the velocity grid\n",
    "N_vel      = 121\n",
    "velocity_x = np.linspace(velocity_min, velocity_max, N_vel)\n",
    "dv         = velocity_x[1] - velocity_x[0]"
   ]
  },
  {
   "cell_type": "code",
   "execution_count": 7,
   "metadata": {
    "collapsed": false
   },
   "outputs": [],
   "source": [
    "# The expressions used below are only valid for all background parameters at unity:\n",
    "\n",
    "def diff_delta_f(Y,t):\n",
    "    f_r = Y[:N_vel]\n",
    "    f_i = Y[N_vel:]\n",
    "\n",
    "    delta_v  = velocity_x[1]-velocity_x[0]\n",
    "    int_Df_i = np.sum(f_i) * delta_v\n",
    "    int_Df_r = np.sum(f_r) * delta_v\n",
    "\n",
    "    delta_rho_r = int_Df_r\n",
    "    delta_rho_i = int_Df_i\n",
    "    \n",
    "    delta_T_r = np.sum(f_r * (velocity_x**2 - T_background)) * delta_v\n",
    "    delta_T_i = np.sum(f_i * (velocity_x**2 - T_background)) * delta_v\n",
    "    \n",
    "    v_bulk_r  = np.sum(f_r * velocity_x) * delta_v\n",
    "    v_bulk_i  = np.sum(f_i * velocity_x) * delta_v\n",
    "    \n",
    "    expr_term_1_r = np.sqrt(2) * delta_T_r * velocity_x**2\n",
    "    expr_term_2_r = 2*np.sqrt(2) * velocity_x * v_bulk_r\n",
    "    expr_term_3_r = -1 * np.sqrt(2) * delta_T_r\n",
    "    expr_term_4_r = 2*np.sqrt(2) * delta_rho_r\n",
    "    \n",
    "    expr_r = ((expr_term_1_r + expr_term_2_r + expr_term_3_r + expr_term_4_r \\\n",
    "              )*np.exp(-(velocity_x**2)/(2)) \\\n",
    "             )/(4*np.sqrt(np.pi))\n",
    "    \n",
    "    expr_term_1_i = np.sqrt(2) * delta_T_i * velocity_x**2\n",
    "    expr_term_2_i = 2*np.sqrt(2) * velocity_x * v_bulk_i\n",
    "    expr_term_3_i = -1 * np.sqrt(2) * delta_T_i\n",
    "    expr_term_4_i = 2*np.sqrt(2) * delta_rho_i\n",
    "    \n",
    "    expr_i = ((expr_term_1_i + expr_term_2_i + expr_term_3_i + expr_term_4_i \\\n",
    "              )*np.exp(-(velocity_x**2)/(2)) \\\n",
    "             )/(4*np.sqrt(np.pi))\n",
    "    \n",
    "    dYdt =np.concatenate([(k * velocity_x * f_i) + (expr_r - f_r)/tau, \\\n",
    "                         -(k * velocity_x * f_r) + (expr_i - f_i)/tau  \\\n",
    "                         ], axis = 0\n",
    "                        )\n",
    "    \n",
    "    return dYdt "
   ]
  },
  {
   "cell_type": "code",
   "execution_count": 8,
   "metadata": {
    "collapsed": false
   },
   "outputs": [],
   "source": [
    "# Set the Initial Conditions for delta f(v,t) here\n",
    "\n",
    "delta_f_initial         = np.zeros(2*N_vel)\n",
    "\n",
    "delta_f_initial[:N_vel] = 1e-5 * f_0(velocity_x) # Real Part\n",
    "delta_f_initial[N_vel:] = 2e-5 * f_0(velocity_x) # Imaginary Part"
   ]
  },
  {
   "cell_type": "code",
   "execution_count": 9,
   "metadata": {
    "collapsed": false
   },
   "outputs": [],
   "source": [
    "delta_rho_r = np.sum(delta_f_initial[:N_vel])*dv\n",
    "delta_rho_i = np.sum(delta_f_initial[N_vel:])*dv\n",
    "N_pos       = 1024\n",
    "x           = np.linspace(0, 1, N_pos)"
   ]
  },
  {
   "cell_type": "code",
   "execution_count": 10,
   "metadata": {
    "collapsed": true
   },
   "outputs": [],
   "source": [
    "# Setting the parameters for time here\n",
    "final_time = 5.0\n",
    "dt         = 0.005\n",
    "time       = np.arange(0, final_time, dt)"
   ]
  },
  {
   "cell_type": "code",
   "execution_count": 11,
   "metadata": {
    "collapsed": true
   },
   "outputs": [],
   "source": [
    "# Variable for temperorily storing the real and imaginary parts of delta f used for odeint\n",
    "initial_conditions_delta_f = np.zeros(2 * N_vel)\n",
    "old_delta_f                = np.zeros(2 * N_vel)"
   ]
  },
  {
   "cell_type": "code",
   "execution_count": 12,
   "metadata": {
    "collapsed": false
   },
   "outputs": [
    {
     "name": "stdout",
     "output_type": "stream",
     "text": [
      "Computing for TimeIndex =  0\n",
      "Computing for TimeIndex =  100\n",
      "Computing for TimeIndex =  200\n",
      "Computing for TimeIndex =  300\n",
      "Computing for TimeIndex =  400\n",
      "Computing for TimeIndex =  500\n",
      "Computing for TimeIndex =  600\n",
      "Computing for TimeIndex =  700\n",
      "Computing for TimeIndex =  800\n",
      "Computing for TimeIndex =  900\n"
     ]
    }
   ],
   "source": [
    "for time_index, t0 in enumerate(time):\n",
    "    if(time_index%100==0):\n",
    "        print(\"Computing for TimeIndex = \", time_index)\n",
    "    t0 = time[time_index]\n",
    "    if (time_index == time.size - 1):\n",
    "        break\n",
    "    t1 = time[time_index + 1]\n",
    "    t = [t0, t1]\n",
    "\n",
    "    if(time_index == 0):\n",
    "        initial_conditions_delta_f = delta_f_initial.copy()\n",
    "        \n",
    "    else:\n",
    "        initial_conditions_delta_f= old_delta_f.copy()\n",
    "        \n",
    "    # Integrating delta f\n",
    "    temporary_delta_f = odeint(diff_delta_f, initial_conditions_delta_f, t)[1]\n",
    "    \n",
    "    # Saving the solution for to use it for the next time step\n",
    "    old_delta_f = temporary_delta_f.copy()"
   ]
  },
  {
   "cell_type": "code",
   "execution_count": 13,
   "metadata": {
    "collapsed": false
   },
   "outputs": [
    {
     "name": "stdout",
     "output_type": "stream",
     "text": [
      "242\n",
      "(1024, 121)\n"
     ]
    }
   ],
   "source": [
    "print(temporary_delta_f.size)\n",
    "f_dist = np.zeros([N_pos, N_vel])\n",
    "for i in range(N_vel):\n",
    "    f_dist[:, i] = temporary_delta_f[i] * np.cos(k*x) -\\\n",
    "                   temporary_delta_f[i + N_vel] * np.sin(k*x)\n",
    "        \n",
    "print(f_dist.shape)"
   ]
  },
  {
   "cell_type": "code",
   "execution_count": 14,
   "metadata": {
    "collapsed": true
   },
   "outputs": [],
   "source": [
    "import h5py\n",
    "\n",
    "h5f = h5py.File('linear_theory_Nx_1024.h5', 'w')\n",
    "h5f.create_dataset('f_dist', data = f_dist)\n",
    "h5f.close()"
   ]
  }
 ],
 "metadata": {
  "anaconda-cloud": {},
  "kernelspec": {
   "display_name": "Python [conda root]",
   "language": "python",
   "name": "conda-root-py"
  },
  "language_info": {
   "codemirror_mode": {
    "name": "ipython",
    "version": 3
   },
   "file_extension": ".py",
   "mimetype": "text/x-python",
   "name": "python",
   "nbconvert_exporter": "python",
   "pygments_lexer": "ipython3",
   "version": "3.5.2"
  }
 },
 "nbformat": 4,
 "nbformat_minor": 0
}
