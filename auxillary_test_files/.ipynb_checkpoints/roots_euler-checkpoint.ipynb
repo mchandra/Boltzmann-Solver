{
 "cells": [
  {
   "cell_type": "markdown",
   "metadata": {},
   "source": [
    "This notebook solves for the stationary shock solution of the Euler\n",
    "equations. The state of the right state is solved for when provided \n",
    "with the left side state. An initial guess for the right-side state\n",
    "also needs to be provided"
   ]
  },
  {
   "cell_type": "code",
   "execution_count": 1,
   "metadata": {
    "collapsed": true
   },
   "outputs": [],
   "source": [
    "import numpy as np\n",
    "from scipy.optimize import root"
   ]
  },
  {
   "cell_type": "code",
   "execution_count": 2,
   "metadata": {
    "collapsed": true
   },
   "outputs": [],
   "source": [
    "def solve(right, left):\n",
    "\n",
    "    v_right   = right[0]\n",
    "    rho_right = right[1]\n",
    "    T_right   = right[2]\n",
    "\n",
    "    v_left    = left[0]\n",
    "    rho_left  = left[1]\n",
    "    T_left    = left[2]\n",
    "\n",
    "    fluxContinuityLeft  = flux(v_left, rho_left, T_left)[0]\n",
    "    fluxContinuityRight = flux(v_right, rho_right, T_right)[0]\n",
    "\n",
    "    fluxMomentumLeft  = flux(v_left, rho_left, T_left)[1]\n",
    "    fluxMomentumRight = flux(v_right, rho_right, T_right)[1]\n",
    "\n",
    "    fluxEnergyLeft  = flux(v_left, rho_left, T_left)[2]\n",
    "    fluxEnergyRight = flux(v_right, rho_right, T_right)[2]\n",
    "\n",
    "    fluxContinuityDifference = fluxContinuityLeft - fluxContinuityRight\n",
    "    fluxMomentumDifference   = fluxMomentumLeft   - fluxMomentumRight\n",
    "    fluxEnergyDifference     = fluxEnergyLeft     - fluxEnergyRight\n",
    "\n",
    "    return([fluxContinuityDifference, fluxMomentumDifference, fluxEnergyDifference])"
   ]
  },
  {
   "cell_type": "code",
   "execution_count": 3,
   "metadata": {
    "collapsed": true
   },
   "outputs": [],
   "source": [
    "# This function gives out flux values for (v,rho,e)\n",
    "\n",
    "def flux(v,rho,T):\n",
    "    fluxContinuity = rho*v\n",
    "    fluxMomentum   = rho*T + rho*v**2  \n",
    "    fluxEnergy     = ((3/2)*rho*T + (1/2)*rho*v**2)*v\n",
    "    return([fluxContinuity, fluxMomentum, fluxEnergy])"
   ]
  },
  {
   "cell_type": "code",
   "execution_count": 4,
   "metadata": {
    "collapsed": true
   },
   "outputs": [],
   "source": [
    "leftValues        = np.array([1,1,1])\n",
    "rightValuesGuess  = np.array([1,0.1,0.1])"
   ]
  },
  {
   "cell_type": "code",
   "execution_count": 5,
   "metadata": {
    "collapsed": true
   },
   "outputs": [],
   "source": [
    "sol = root(solve, rightValuesGuess, leftValues, method='lm', tol = 1e-20)"
   ]
  },
  {
   "cell_type": "code",
   "execution_count": 6,
   "metadata": {
    "collapsed": false
   },
   "outputs": [
    {
     "name": "stdout",
     "output_type": "stream",
     "text": [
      "   cov_x: None\n",
      "    fjac: array([[ 6.        ,  0.66666667,  0.66666667],\n",
      "       [ 3.50000002, -1.00000002, -1.        ],\n",
      "       [ 0.        ,  0.        , -0.        ]])\n",
      "     fun: array([ -8.98392472e-11,   8.98392472e-11,  -4.49196236e-11])\n",
      "    ipvt: array([2, 1, 3], dtype=int32)\n",
      " message: 'Both actual and predicted relative reductions in the sum of squares\\n  are at most 0.000000'\n",
      "    nfev: 43\n",
      "     qtf: array([  1.29246971e-26,  -1.33870905e-18,   1.34758871e-10])\n",
      "  status: 1\n",
      " success: True\n",
      "       x: array([  2.00000000e+00,   5.00000000e-01,   8.08553968e-10])\n"
     ]
    }
   ],
   "source": [
    "print(sol)"
   ]
  },
  {
   "cell_type": "code",
   "execution_count": 7,
   "metadata": {
    "collapsed": false
   },
   "outputs": [
    {
     "name": "stdout",
     "output_type": "stream",
     "text": [
      "The right side values of (v,rho,T) are: [  2.00000000e+00   5.00000000e-01   8.08553968e-10]\n",
      "The right side fluxes are: [1.0000000000898392, 1.9999999999101608, 2.0000000000449196]\n",
      "The left side values of (v,rho,T) are: [1 1 1]\n",
      "The left side fluxes are: [1, 2, 2.0]\n"
     ]
    }
   ],
   "source": [
    "print(\"The right side values of (v,rho,T) are:\",sol.x)\n",
    "print(\"The right side fluxes are:\", flux(sol.x[0], sol.x[1], sol.x[2]))\n",
    "print(\"The left side values of (v,rho,T) are:\", leftValues)\n",
    "print(\"The left side fluxes are:\",flux(leftValues[0], leftValues[1], leftValues[2]))"
   ]
  },
  {
   "cell_type": "code",
   "execution_count": null,
   "metadata": {
    "collapsed": true
   },
   "outputs": [],
   "source": []
  }
 ],
 "metadata": {
  "anaconda-cloud": {},
  "kernelspec": {
   "display_name": "Python [conda root]",
   "language": "python",
   "name": "conda-root-py"
  },
  "language_info": {
   "codemirror_mode": {
    "name": "ipython",
    "version": 3
   },
   "file_extension": ".py",
   "mimetype": "text/x-python",
   "name": "python",
   "nbconvert_exporter": "python",
   "pygments_lexer": "ipython3",
   "version": "3.5.2"
  }
 },
 "nbformat": 4,
 "nbformat_minor": 1
}
