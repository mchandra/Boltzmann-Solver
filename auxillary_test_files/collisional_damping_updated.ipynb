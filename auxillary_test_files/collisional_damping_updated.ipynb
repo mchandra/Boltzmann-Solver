{
 "cells": [
  {
   "cell_type": "markdown",
   "metadata": {},
   "source": [
    "Refer to the Sage Worksheet at https://goo.gl/dXarsP to understand the expression that has been used to arrive at the solution for collisional damping using linear theory."
   ]
  },
  {
   "cell_type": "code",
   "execution_count": 1,
   "metadata": {
    "collapsed": true
   },
   "outputs": [],
   "source": [
    "import numpy as np\n",
    "import pylab as pl\n",
    "from scipy.integrate import odeint\n",
    "import h5py\n",
    "%matplotlib inline"
   ]
  },
  {
   "cell_type": "code",
   "execution_count": 2,
   "metadata": {
    "collapsed": true
   },
   "outputs": [],
   "source": [
    "# Setting plot parameters:\n",
    "pl.rcParams['figure.figsize']  = 12, 7.5\n",
    "pl.rcParams['lines.linewidth'] = 1.5\n",
    "pl.rcParams['font.family']     = 'serif'\n",
    "pl.rcParams['font.weight']     = 'bold'\n",
    "pl.rcParams['font.size']       = 20\n",
    "pl.rcParams['font.sans-serif'] = 'serif'\n",
    "pl.rcParams['text.usetex']     = True\n",
    "pl.rcParams['axes.linewidth']  = 1.5\n",
    "pl.rcParams['axes.titlesize']  = 'medium'\n",
    "pl.rcParams['axes.labelsize']  = 'medium'\n",
    "\n",
    "pl.rcParams['xtick.major.size'] = 8\n",
    "pl.rcParams['xtick.minor.size'] = 4\n",
    "pl.rcParams['xtick.major.pad']  = 8\n",
    "pl.rcParams['xtick.minor.pad']  = 8\n",
    "pl.rcParams['xtick.color']      = 'k'\n",
    "pl.rcParams['xtick.labelsize']  = 'medium'\n",
    "pl.rcParams['xtick.direction']  = 'in'\n",
    "\n",
    "pl.rcParams['ytick.major.size'] = 8\n",
    "pl.rcParams['ytick.minor.size'] = 4\n",
    "pl.rcParams['ytick.major.pad']  = 8\n",
    "pl.rcParams['ytick.minor.pad']  = 8\n",
    "pl.rcParams['ytick.color']      = 'k'\n",
    "pl.rcParams['ytick.labelsize']  = 'medium'\n",
    "pl.rcParams['ytick.direction']  = 'in'"
   ]
  },
  {
   "cell_type": "code",
   "execution_count": 3,
   "metadata": {
    "collapsed": false
   },
   "outputs": [],
   "source": [
    "# Setting the variables in the maxwell distribution\n",
    "mass_particle      = 1 # mass of particle\n",
    "boltzmann_constant = 1 # boltzmann-constant\n",
    "T_background       = 1 # background temperature\n",
    "rho_background     = 1 # background density\n",
    "\n",
    "# k for the mode in fourier space\n",
    "k   = 2*np.pi\n",
    "\n",
    "# Collisional time-scale tau\n",
    "tau = 0.005"
   ]
  },
  {
   "cell_type": "code",
   "execution_count": 4,
   "metadata": {
    "collapsed": true
   },
   "outputs": [],
   "source": [
    "# The maxwell Boltzmann function\n",
    "def f_0(v):\n",
    "    return (np.sqrt(mass_particle/(2*np.pi*boltzmann_constant*T_background))*\\\n",
    "            np.exp(-mass_particle*v**2/(2*boltzmann_constant*T_background))\n",
    "           )"
   ]
  },
  {
   "cell_type": "code",
   "execution_count": 5,
   "metadata": {
    "collapsed": true
   },
   "outputs": [],
   "source": [
    "# Assign the maxim and minimum velocity for the velocity grid\n",
    "velocity_max =  +60\n",
    "velocity_min =  -60"
   ]
  },
  {
   "cell_type": "code",
   "execution_count": 6,
   "metadata": {
    "collapsed": true
   },
   "outputs": [],
   "source": [
    "# Set the divisions for the velocity grid\n",
    "N_vel      = 1201\n",
    "velocity_x = np.linspace(velocity_min, velocity_max, N_vel)\n",
    "dv         = velocity_x[1] - velocity_x[0]"
   ]
  },
  {
   "cell_type": "code",
   "execution_count": 7,
   "metadata": {
    "collapsed": true
   },
   "outputs": [],
   "source": [
    "def linearized_collision_operator(f):\n",
    "    delta_T     = np.sum(f * (velocity_x**2 - T_background)) * dv/rho_background\n",
    "    delta_rho   = np.sum(f) * dv\n",
    "    delta_v     = np.sum(f * velocity_x) * dv/rho_background\n",
    "    \n",
    "    expr_term_1 = np.sqrt(2 * mass_particle**3) * delta_T * rho_background * velocity_x**2\n",
    "    expr_term_2 = 2 * np.sqrt(2 * mass_particle) * boltzmann_constant * delta_rho * T_background**2\n",
    "    expr_term_3 = 2 * np.sqrt(2 * mass_particle**3) * rho_background * delta_v * velocity_x * T_background\n",
    "    expr_term_4 = - np.sqrt(2 * mass_particle) * boltzmann_constant * delta_T * rho_background * T_background\n",
    "    \n",
    "    C_f = (((expr_term_1 + expr_term_2 + expr_term_3 + expr_term_4)*\\\n",
    "           np.exp(-mass_particle * velocity_x**2/(2 * boltzmann_constant * T_background))/\\\n",
    "           (4 * np.sqrt(np.pi * T_background**5 * boltzmann_constant**3)) - f\n",
    "           )/tau\n",
    "          )\n",
    "    \n",
    "    return C_f"
   ]
  },
  {
   "cell_type": "code",
   "execution_count": 8,
   "metadata": {
    "collapsed": false
   },
   "outputs": [],
   "source": [
    "# The expressions used below are only valid for all background parameters at unity:\n",
    "\n",
    "def diff_delta_f(Y,t):\n",
    "    f_r = Y[:N_vel]\n",
    "    f_i = Y[N_vel:]\n",
    "\n",
    "    f     = f_r + 1j * f_i\n",
    "    C_f   = linearized_collision_operator(f)\n",
    "    C_f_r = C_f.real\n",
    "    C_f_i = C_f.imag\n",
    "    \n",
    "    dYdt =np.concatenate([(k * velocity_x * f_i)  + C_f_r,\\\n",
    "                          -(k * velocity_x * f_r) + C_f_i \\\n",
    "                         ], axis = 0\n",
    "                        )\n",
    "    \n",
    "    return dYdt "
   ]
  },
  {
   "cell_type": "code",
   "execution_count": 9,
   "metadata": {
    "collapsed": false
   },
   "outputs": [],
   "source": [
    "# Set the Initial Conditions for delta f(v,t) here\n",
    "\n",
    "delta_f_initial         = np.zeros(2*N_vel)\n",
    "\n",
    "delta_f_initial[:N_vel] = 1e-5 * f_0(velocity_x) # Real Part\n",
    "delta_f_initial[N_vel:] = 2e-5 * f_0(velocity_x) # Imaginary Part"
   ]
  },
  {
   "cell_type": "code",
   "execution_count": 10,
   "metadata": {
    "collapsed": false
   },
   "outputs": [],
   "source": [
    "delta_rho_r = np.sum(delta_f_initial[:N_vel])*dv\n",
    "delta_rho_i = np.sum(delta_f_initial[N_vel:])*dv\n",
    "N_pos       = 8192\n",
    "x           = np.linspace(0, 1, N_pos)"
   ]
  },
  {
   "cell_type": "code",
   "execution_count": 11,
   "metadata": {
    "collapsed": true
   },
   "outputs": [],
   "source": [
    "# Setting the parameters for time here\n",
    "final_time = 0.15\n",
    "dt         = 0.002\n",
    "time       = np.arange(0, final_time, dt)"
   ]
  },
  {
   "cell_type": "code",
   "execution_count": 12,
   "metadata": {
    "collapsed": true
   },
   "outputs": [],
   "source": [
    "# Variable for temperorily storing the real and imaginary parts of delta f used for odeint\n",
    "initial_conditions_delta_f = np.zeros(2 * N_vel)\n",
    "old_delta_f                = np.zeros(2 * N_vel)\n",
    "data = np.zeros(time.size)"
   ]
  },
  {
   "cell_type": "code",
   "execution_count": 13,
   "metadata": {
    "collapsed": false
   },
   "outputs": [
    {
     "name": "stdout",
     "output_type": "stream",
     "text": [
      "Computing for TimeIndex =  0\n"
     ]
    }
   ],
   "source": [
    "for time_index, t0 in enumerate(time):\n",
    "    if(time_index%100==0):\n",
    "        print(\"Computing for TimeIndex = \", time_index)\n",
    "    t0 = time[time_index]\n",
    "    if (time_index == time.size - 1):\n",
    "        break\n",
    "    t1 = time[time_index + 1]\n",
    "    t = [t0, t1]\n",
    "\n",
    "    if(time_index == 0):\n",
    "        initial_conditions_delta_f = delta_f_initial.copy()\n",
    "        \n",
    "    else:\n",
    "        initial_conditions_delta_f= old_delta_f.copy()\n",
    "        \n",
    "    # Integrating delta f\n",
    "    temporary_delta_f = odeint(diff_delta_f, initial_conditions_delta_f,\\\n",
    "                               t, rtol = 1e-20, atol = 1e-17\n",
    "                              )[1]\n",
    "    \n",
    "    rho_r = np.sum(temporary_delta_f[:N_vel])*dv\n",
    "    rho_i = np.sum(temporary_delta_f[N_vel:])*dv\n",
    "\n",
    "    data[time_index] = np.max(rho_r*np.cos(k*x) - rho_i*np.sin(k*x))\n",
    "    # Saving the solution for to use it for the next time step\n",
    "    old_delta_f = temporary_delta_f.copy()"
   ]
  },
  {
   "cell_type": "code",
   "execution_count": 14,
   "metadata": {
    "collapsed": false
   },
   "outputs": [
    {
     "name": "stdout",
     "output_type": "stream",
     "text": [
      "2402\n",
      "(8192, 1201)\n"
     ]
    }
   ],
   "source": [
    "print(temporary_delta_f.size)\n",
    "f_dist = np.zeros([N_pos, N_vel])\n",
    "for i in range(N_vel):\n",
    "    f_dist[:, i] = temporary_delta_f[i] * np.cos(k*x) -\\\n",
    "                   temporary_delta_f[i + N_vel] * np.sin(k*x)\n",
    "        \n",
    "print(f_dist.shape)"
   ]
  },
  {
   "cell_type": "code",
   "execution_count": 15,
   "metadata": {
    "collapsed": true
   },
   "outputs": [],
   "source": [
    "import h5py\n",
    "\n",
    "h5f = h5py.File('linear_theory_Nx_8192.h5', 'w')\n",
    "h5f.create_dataset('f_dist', data = f_dist)\n",
    "h5f.close()"
   ]
  },
  {
   "cell_type": "code",
   "execution_count": 16,
   "metadata": {
    "collapsed": false
   },
   "outputs": [
    {
     "data": {
      "text/plain": [
       "1.4591887895398613e-05"
      ]
     },
     "execution_count": 16,
     "metadata": {},
     "output_type": "execute_result"
    },
    {
     "data": {
      "image/png": "[encoded data removed]",
      "text/plain": [
       "<matplotlib.figure.Figure at 0x7f0e60ec0860>"
      ]
     },
     "metadata": {},
     "output_type": "display_data"
    }
   ],
   "source": [
    "velocity_x, x = np.meshgrid(velocity_x, x)\n",
    "x.shape\n",
    "pl.plot(data[:-1])\n",
    "\n",
    "data[73]"
   ]
  },
  {
   "cell_type": "code",
   "execution_count": 17,
   "metadata": {
    "collapsed": false
   },
   "outputs": [],
   "source": [
    "f_analytic = (1e-5 * np.cos(k*(x - velocity_x*t0)) -\\\n",
    "              2e-5 * np.sin(k*(x - velocity_x*t0))\n",
    "             )*np.exp(-0.5*velocity_x**2)/np.sqrt(2*np.pi)              "
   ]
  },
  {
   "cell_type": "code",
   "execution_count": 18,
   "metadata": {
    "collapsed": false
   },
   "outputs": [
    {
     "name": "stderr",
     "output_type": "stream",
     "text": [
      "/home/speed/anaconda3/lib/python3.6/site-packages/ipykernel/__main__.py:2: RuntimeWarning: divide by zero encountered in log10\n",
      "  from ipykernel import kernelapp as app\n"
     ]
    },
    {
     "data": {
      "text/plain": [
       "<matplotlib.colorbar.Colorbar at 0x7f0e595c7cc0>"
      ]
     },
     "execution_count": 18,
     "metadata": {},
     "output_type": "execute_result"
    },
    {
     "data": {
      "image/png": "[encoded data removed]",
      "text/plain": [
       "<matplotlib.figure.Figure at 0x7f0e8c07a940>"
      ]
     },
     "metadata": {},
     "output_type": "display_data"
    }
   ],
   "source": [
    "error = abs(f_dist - f_analytic)\n",
    "pl.contourf(np.log10(error), 100)\n",
    "pl.colorbar()"
   ]
  },
  {
   "cell_type": "code",
   "execution_count": 19,
   "metadata": {
    "collapsed": false
   },
   "outputs": [
    {
     "data": {
      "text/plain": [
       "1.2831674635216576e-06"
      ]
     },
     "execution_count": 19,
     "metadata": {},
     "output_type": "execute_result"
    }
   ],
   "source": [
    "np.max(error)"
   ]
  },
  {
   "cell_type": "code",
   "execution_count": 20,
   "metadata": {
    "collapsed": false
   },
   "outputs": [
    {
     "data": {
      "text/plain": [
       "0.14799999999999999"
      ]
     },
     "execution_count": 20,
     "metadata": {},
     "output_type": "execute_result"
    }
   ],
   "source": [
    "t0"
   ]
  },
  {
   "cell_type": "code",
   "execution_count": null,
   "metadata": {
    "collapsed": true
   },
   "outputs": [],
   "source": []
  }
 ],
 "metadata": {
  "anaconda-cloud": {},
  "kernelspec": {
   "display_name": "Python 3",
   "language": "python",
   "name": "python3"
  },
  "language_info": {
   "codemirror_mode": {
    "name": "ipython",
    "version": 3
   },
   "file_extension": ".py",
   "mimetype": "text/x-python",
   "name": "python",
   "nbconvert_exporter": "python",
   "pygments_lexer": "ipython3",
   "version": "3.6.0"
  }
 },
 "nbformat": 4,
 "nbformat_minor": 0
}
