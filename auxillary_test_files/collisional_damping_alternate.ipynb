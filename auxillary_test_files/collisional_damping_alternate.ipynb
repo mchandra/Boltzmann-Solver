{
 "cells": [
  {
   "cell_type": "code",
   "execution_count": 1,
   "metadata": {
    "collapsed": true
   },
   "outputs": [],
   "source": [
    "import numpy as np\n",
    "import pylab as pl\n",
    "from scipy.integrate import odeint\n",
    "import h5py\n",
    "%matplotlib inline"
   ]
  },
  {
   "cell_type": "code",
   "execution_count": 2,
   "metadata": {
    "collapsed": true
   },
   "outputs": [],
   "source": [
    "# Setting plot parameters:\n",
    "pl.rcParams['figure.figsize']  = 12, 7.5\n",
    "pl.rcParams['lines.linewidth'] = 1.5\n",
    "pl.rcParams['font.family']     = 'serif'\n",
    "pl.rcParams['font.weight']     = 'bold'\n",
    "pl.rcParams['font.size']       = 20\n",
    "pl.rcParams['font.sans-serif'] = 'serif'\n",
    "pl.rcParams['text.usetex']     = True\n",
    "pl.rcParams['axes.linewidth']  = 1.5\n",
    "pl.rcParams['axes.titlesize']  = 'medium'\n",
    "pl.rcParams['axes.labelsize']  = 'medium'\n",
    "\n",
    "pl.rcParams['xtick.major.size'] = 8\n",
    "pl.rcParams['xtick.minor.size'] = 4\n",
    "pl.rcParams['xtick.major.pad']  = 8\n",
    "pl.rcParams['xtick.minor.pad']  = 8\n",
    "pl.rcParams['xtick.color']      = 'k'\n",
    "pl.rcParams['xtick.labelsize']  = 'medium'\n",
    "pl.rcParams['xtick.direction']  = 'in'\n",
    "\n",
    "pl.rcParams['ytick.major.size'] = 8\n",
    "pl.rcParams['ytick.minor.size'] = 4\n",
    "pl.rcParams['ytick.major.pad']  = 8\n",
    "pl.rcParams['ytick.minor.pad']  = 8\n",
    "pl.rcParams['ytick.color']      = 'k'\n",
    "pl.rcParams['ytick.labelsize']  = 'medium'\n",
    "pl.rcParams['ytick.direction']  = 'in'"
   ]
  },
  {
   "cell_type": "code",
   "execution_count": 3,
   "metadata": {
    "collapsed": false
   },
   "outputs": [],
   "source": [
    "# Setting the variables in the maxwell distribution\n",
    "mass_particle      = 1 # mass of particle\n",
    "boltzmann_constant = 1 # boltzmann-constant\n",
    "T_background       = 1 # background temperature\n",
    "rho_background     = 1 # background density\n",
    "\n",
    "# k for the mode in fourier space\n",
    "k   = 2*np.pi\n",
    "\n",
    "# Collisional time-scale tau\n",
    "tau = 0.005"
   ]
  },
  {
   "cell_type": "code",
   "execution_count": 4,
   "metadata": {
    "collapsed": true
   },
   "outputs": [],
   "source": [
    "# The maxwell Boltzmann function\n",
    "def f_0(v):\n",
    "    return (np.sqrt(mass_particle/(2*np.pi*boltzmann_constant*T_background))*\\\n",
    "            np.exp(-mass_particle*v**2/(2*boltzmann_constant*T_background))\n",
    "           )"
   ]
  },
  {
   "cell_type": "code",
   "execution_count": 5,
   "metadata": {
    "collapsed": true
   },
   "outputs": [],
   "source": [
    "# Assign the maxim and minimum velocity for the velocity grid\n",
    "vel_max =  6"
   ]
  },
  {
   "cell_type": "code",
   "execution_count": 6,
   "metadata": {
    "collapsed": true
   },
   "outputs": [],
   "source": [
    "# Set the divisions for the velocity grid\n",
    "N_vel = 12001\n",
    "vel_x = np.linspace(-vel_max, vel_max, N_vel)\n",
    "dv    = vel_x[1] - vel_x[0]\n",
    "\n",
    "N_pos = 512\n",
    "x     = np.linspace(0, 1, N_pos)\n",
    "dx    = x[1] - x[0]"
   ]
  },
  {
   "cell_type": "code",
   "execution_count": 7,
   "metadata": {
    "collapsed": false
   },
   "outputs": [],
   "source": [
    "x, vel_x = np.meshgrid(x, vel_x)"
   ]
  },
  {
   "cell_type": "code",
   "execution_count": 8,
   "metadata": {
    "collapsed": true
   },
   "outputs": [],
   "source": [
    "def f_MB(f, v):\n",
    "    rho = np.sum(f, 0) * dv\n",
    "    v_b = np.sum(f*v, 0) * dv/rho\n",
    "    T   = np.sum(f*(v - v_b)**2, 0) * dv/rho\n",
    "      \n",
    "    f_MB = rho * np.sqrt(mass_particle/(2*np.pi*boltzmann_constant*T)) * \\\n",
    "                 np.exp(-mass_particle*(v - v_b)**2/(2*boltzmann_constant*T))\n",
    "        \n",
    "    return(f_MB)"
   ]
  },
  {
   "cell_type": "code",
   "execution_count": 9,
   "metadata": {
    "collapsed": true
   },
   "outputs": [],
   "source": [
    "def collision_operator(f, v):\n",
    "    C_f = -(f - f_MB(f, v))/tau\n",
    "    return(C_f)"
   ]
  },
  {
   "cell_type": "code",
   "execution_count": 10,
   "metadata": {
    "collapsed": false
   },
   "outputs": [],
   "source": [
    "# The expressions used below are only valid for all background parameters at unity:\n",
    "def d_deltafHat_dt(Y,t):\n",
    "    \n",
    "    Y   = Y.reshape([2*N_vel, N_pos])\n",
    "    f_r = Y[:N_vel, :]\n",
    "    f_i = Y[N_vel:, :]\n",
    "    \n",
    "    f   = (f_r + f_i*1j)*np.exp(1j*k*x) + f_0(vel_x)\n",
    "    \n",
    "    Cf   = collision_operator(f, vel_x)*np.exp(-1j*k*x)\n",
    "    Cf_r = Cf.real\n",
    "    Cf_i = Cf.imag\n",
    "    \n",
    "    dYdt = np.concatenate([(k * vel_x * f_i).flatten() + Cf_r.flatten() ,\\\n",
    "                          -(k * vel_x * f_r).flatten() + Cf_i.flatten()  \\\n",
    "                          ], axis = 0\n",
    "                        )\n",
    "    \n",
    "    return dYdt "
   ]
  },
  {
   "cell_type": "code",
   "execution_count": 11,
   "metadata": {
    "collapsed": false
   },
   "outputs": [],
   "source": [
    "# Set the Initial Conditions for delta f(v,t) here\n",
    "delta_f_initial = 1e-5 * f_0(vel_x) + 1j*2e-5 * f_0(vel_x)"
   ]
  },
  {
   "cell_type": "code",
   "execution_count": 12,
   "metadata": {
    "collapsed": true
   },
   "outputs": [],
   "source": [
    "# Setting the parameters for time here\n",
    "final_time = 5.0\n",
    "dt         = 0.005\n",
    "time       = np.arange(0, final_time, dt)"
   ]
  },
  {
   "cell_type": "code",
   "execution_count": 13,
   "metadata": {
    "collapsed": true
   },
   "outputs": [],
   "source": [
    "# Variable for temperorily storing the real and imaginary parts of delta f used for odeint\n",
    "initial_conditions_delta_f = np.zeros([N_pos, N_vel])\n",
    "old_delta_f                = np.zeros([N_pos, N_vel])\n",
    "data                       = np.zeros(time.size)"
   ]
  },
  {
   "cell_type": "code",
   "execution_count": null,
   "metadata": {
    "collapsed": false
   },
   "outputs": [],
   "source": [
    "for time_index, t0 in enumerate(time):\n",
    "    if(time_index%100==0):\n",
    "        print(\"Computing for TimeIndex = \", time_index)\n",
    "    t0 = time[time_index]\n",
    "    if (time_index == time.size - 1):\n",
    "        break\n",
    "    t1 = time[time_index + 1]\n",
    "    t = [t0, t1]\n",
    "\n",
    "    if(time_index == 0):\n",
    "        initial_conditions_delta_f = delta_f_initial.copy()\n",
    "        \n",
    "    else:\n",
    "        initial_conditions_delta_f = old_delta_f.copy()\n",
    "        \n",
    "    # Integrating delta f\n",
    "    \n",
    "    Y = np.concatenate([initial_conditions_delta_f.real,\n",
    "                        initial_conditions_delta_f.imag\n",
    "                       ], axis = 0\n",
    "                      )\n",
    "    \n",
    "    temporary_delta_f = odeint(diff_deltafHat_dt, Y.flatten(), t)[1]\n",
    "    \n",
    "    # Saving the solution for to use it for the next time step\n",
    "    old_delta_f = temporary_delta_f.reshape([2*N_vel, N_pos])\n",
    "    old_delta_f = old_delta_f[:N_vel, :] + 1j*old_delta_f[N_vel:, :]\n",
    "    \n",
    "    f_r = old_delta_f.real\n",
    "    f_i = old_delta_f.imag"
   ]
  },
  {
   "cell_type": "code",
   "execution_count": null,
   "metadata": {
    "collapsed": false
   },
   "outputs": [],
   "source": [
    "f_r = old_delta_f.real\n",
    "f_i = old_delta_f.imag\n",
    "\n",
    "pl.plot(np.sum(f_r, 0))"
   ]
  },
  {
   "cell_type": "code",
   "execution_count": 14,
   "metadata": {
    "collapsed": false
   },
   "outputs": [
    {
     "data": {
      "text/plain": [
       "(12001, 512)"
      ]
     },
     "execution_count": 14,
     "metadata": {},
     "output_type": "execute_result"
    }
   ],
   "source": [
    "dfHat_r = 0\n",
    "dfHat_i = 0\n",
    "\n",
    "x     = np.linspace(0, 1, N_pos)\n",
    "vel_x = np.linspace(-vel_max, vel_max, N_vel)\n",
    "\n",
    "x_local, vel_x_local = np.meshgrid(x, vel_x)\n",
    "\n",
    "f = f_0(vel_x_local)*(1 + (dfHat_r + 1j*dfHat_i) * np.exp(1j*k*x_local))\n",
    "f.shape"
   ]
  },
  {
   "cell_type": "code",
   "execution_count": 15,
   "metadata": {
    "collapsed": false
   },
   "outputs": [
    {
     "data": {
      "text/plain": [
       "<matplotlib.colorbar.Colorbar at 0x7effea346358>"
      ]
     },
     "execution_count": 15,
     "metadata": {},
     "output_type": "execute_result"
    },
    {
     "data": {
      "image/png": "[encoded data removed]",
      "text/plain": [
       "<matplotlib.figure.Figure at 0x7f0029fe8e48>"
      ]
     },
     "metadata": {},
     "output_type": "display_data"
    }
   ],
   "source": [
    "output    = collision_operator(f, vel_x_local)\n",
    "toplot    = (output/np.exp(1j*k*x_local))\n",
    "output_MB = f_MB(f, vel_x_local)\n",
    "\n",
    "pl.contourf(abs(output_MB - f), 100)\n",
    "pl.colorbar()"
   ]
  },
  {
   "cell_type": "code",
   "execution_count": 16,
   "metadata": {
    "collapsed": false
   },
   "outputs": [
    {
     "data": {
      "text/plain": [
       "[<matplotlib.lines.Line2D at 0x7effea017e10>]"
      ]
     },
     "execution_count": 16,
     "metadata": {},
     "output_type": "execute_result"
    },
    {
     "data": {
      "image/png": "[encoded data removed]",
      "text/plain": [
       "<matplotlib.figure.Figure at 0x7f0029fe8518>"
      ]
     },
     "metadata": {},
     "output_type": "display_data"
    }
   ],
   "source": [
    "# pl.contourf(x_local, vel_x_local, output.real, 100)\n",
    "# pl.colorbar()\n",
    "pl.plot(np.sum(f.real * vel_x_local**3, 0)*dv)"
   ]
  },
  {
   "cell_type": "code",
   "execution_count": null,
   "metadata": {
    "collapsed": false
   },
   "outputs": [],
   "source": [
    "f = f_0(vel_x_local)*(0. + (dfHat_r + 1j*dfHat_i) * np.exp(1j*k*x_local))\n",
    "\n",
    "rhoTest = np.sum(f, 0) * dv\n",
    "pl.plot(x, (rhoTest/np.exp(1j*k*x)).imag)\n",
    "#pl.plot(x, (rhoTest/np.exp(1j*k*x)).real)"
   ]
  },
  {
   "cell_type": "code",
   "execution_count": null,
   "metadata": {
    "collapsed": true
   },
   "outputs": [],
   "source": []
  }
 ],
 "metadata": {
  "anaconda-cloud": {},
  "kernelspec": {
   "display_name": "Python [conda root]",
   "language": "python",
   "name": "conda-root-py"
  },
  "language_info": {
   "codemirror_mode": {
    "name": "ipython",
    "version": 3
   },
   "file_extension": ".py",
   "mimetype": "text/x-python",
   "name": "python",
   "nbconvert_exporter": "python",
   "pygments_lexer": "ipython3",
   "version": "3.5.2"
  }
 },
 "nbformat": 4,
 "nbformat_minor": 0
}
