{
 "cells": [
  {
   "cell_type": "code",
   "execution_count": 85,
   "metadata": {
    "collapsed": true
   },
   "outputs": [],
   "source": [
    "import numpy as np\n",
    "from scipy.interpolate import interp1d\n",
    "import h5py\n",
    "import pylab as pl\n",
    "%matplotlib inline"
   ]
  },
  {
   "cell_type": "code",
   "execution_count": 86,
   "metadata": {
    "collapsed": true
   },
   "outputs": [],
   "source": [
    "pl.rcParams['figure.figsize']  = 12, 7.5\n",
    "pl.rcParams['lines.linewidth'] = 1.5\n",
    "pl.rcParams['font.family']     = 'serif'\n",
    "pl.rcParams['font.weight']     = 'bold'\n",
    "pl.rcParams['font.size']       = 20  \n",
    "pl.rcParams['font.sans-serif'] = 'serif'\n",
    "pl.rcParams['text.usetex']     = True\n",
    "pl.rcParams['axes.linewidth']  = 1.5\n",
    "pl.rcParams['axes.titlesize']  = 'medium'\n",
    "pl.rcParams['axes.labelsize']  = 'medium'\n",
    "\n",
    "pl.rcParams['xtick.major.size'] = 8     \n",
    "pl.rcParams['xtick.minor.size'] = 4     \n",
    "pl.rcParams['xtick.major.pad']  = 8     \n",
    "pl.rcParams['xtick.minor.pad']  = 8     \n",
    "pl.rcParams['xtick.color']      = 'k'     \n",
    "pl.rcParams['xtick.labelsize']  = 'medium'\n",
    "pl.rcParams['xtick.direction']  = 'in'    \n",
    "\n",
    "pl.rcParams['ytick.major.size'] = 8     \n",
    "pl.rcParams['ytick.minor.size'] = 4     \n",
    "pl.rcParams['ytick.major.pad']  = 8     \n",
    "pl.rcParams['ytick.minor.pad']  = 8     \n",
    "pl.rcParams['ytick.color']      = 'k'     \n",
    "pl.rcParams['ytick.labelsize']  = 'medium'\n",
    "pl.rcParams['ytick.direction']  = 'in'  "
   ]
  },
  {
   "cell_type": "code",
   "execution_count": 87,
   "metadata": {
    "collapsed": true
   },
   "outputs": [],
   "source": [
    "# Setting velocity and spatial grid points\n",
    "N_positions = 61\n",
    "ghost_zones = 3\n",
    "N_velocity  = 201"
   ]
  },
  {
   "cell_type": "code",
   "execution_count": 88,
   "metadata": {
    "collapsed": true
   },
   "outputs": [],
   "source": [
    "# Boundaries of domain\n",
    "left_boundary  = 0\n",
    "right_boundary = 1.0\n",
    "length         = right_boundary - left_boundary"
   ]
  },
  {
   "cell_type": "code",
   "execution_count": 89,
   "metadata": {
    "collapsed": true
   },
   "outputs": [],
   "source": [
    "# Setting mass of the particle, boltzmann-constant\n",
    "mass_particle      = 1.0\n",
    "boltzmann_constant = 1.0"
   ]
  },
  {
   "cell_type": "code",
   "execution_count": 90,
   "metadata": {
    "collapsed": true
   },
   "outputs": [],
   "source": [
    "# Scattering time scale\n",
    "tau   = 1.0\n",
    "# Magnitude of maximum velocity\n",
    "v_max = 10.0"
   ]
  },
  {
   "cell_type": "code",
   "execution_count": 91,
   "metadata": {
    "collapsed": true
   },
   "outputs": [],
   "source": [
    "# Time Parameters for the simulation:\n",
    "dt         = 0.01 # Size of the time-step\n",
    "final_time = 3.0\n",
    "time       = np.arange(dt, final_time, dt)"
   ]
  },
  {
   "cell_type": "code",
   "execution_count": 92,
   "metadata": {
    "collapsed": false
   },
   "outputs": [],
   "source": [
    "# Setting up the temperature parameters for the simulations:\n",
    "T_initial = 1.5\n",
    "T_walls   = 2.0"
   ]
  },
  {
   "cell_type": "code",
   "execution_count": 93,
   "metadata": {
    "collapsed": true
   },
   "outputs": [],
   "source": [
    "# Setting up of spatial and velocity grids:\n",
    "x  = np.linspace(left_boundary, right_boundary, N_positions)\n",
    "dx = x[1] - x[0]"
   ]
  },
  {
   "cell_type": "code",
   "execution_count": 94,
   "metadata": {
    "collapsed": true
   },
   "outputs": [],
   "source": [
    "# Obtaining the coordinates for the ghost-zones:\n",
    "x_ghost_left  = np.linspace(-(ghost_zones)*dx + left_boundary, left_boundary - dx, ghost_zones)\n",
    "x_ghost_right = np.linspace(right_boundary + dx, right_boundary + ghost_zones*dx , ghost_zones)"
   ]
  },
  {
   "cell_type": "code",
   "execution_count": 95,
   "metadata": {
    "collapsed": true
   },
   "outputs": [],
   "source": [
    "# Combining them to obtain the entire spatial grid\n",
    "x  = np.concatenate([x_ghost_left, x, x_ghost_right])"
   ]
  },
  {
   "cell_type": "code",
   "execution_count": 96,
   "metadata": {
    "collapsed": true
   },
   "outputs": [],
   "source": [
    "# Obtaining the velocity grid\n",
    "v  = np.linspace(-v_max, v_max, N_velocity)"
   ]
  },
  {
   "cell_type": "code",
   "execution_count": 97,
   "metadata": {
    "collapsed": true
   },
   "outputs": [],
   "source": [
    "# Conversion to allow for easy vectorization\n",
    "x = x * np.ones([N_velocity , N_positions + 2*ghost_zones])\n",
    "v = v * np.ones([N_positions + 2*ghost_zones, N_velocity])\n",
    "v = np.transpose(v)"
   ]
  },
  {
   "cell_type": "code",
   "execution_count": 98,
   "metadata": {
    "collapsed": false
   },
   "outputs": [],
   "source": [
    "def calculate_density(f, v):\n",
    "    deltav           = v[1, 0]-v[0, 0]\n",
    "    value_of_density = np.sum(f, axis = 0)*deltav\n",
    "    return(value_of_density)"
   ]
  },
  {
   "cell_type": "code",
   "execution_count": 99,
   "metadata": {
    "collapsed": true
   },
   "outputs": [],
   "source": [
    "def calculate_temperature(f, v):\n",
    "    deltav               = v[1, 0]-v[0, 0]\n",
    "    value_of_temperature = np.sum(f*v**2, axis = 0)*deltav\n",
    "    return(value_of_temperature)"
   ]
  },
  {
   "cell_type": "code",
   "execution_count": 100,
   "metadata": {
    "collapsed": true
   },
   "outputs": [],
   "source": [
    "def f_MB(x, v, f):\n",
    "    n = calculate_density(f, v) * np.ones((N_velocity, N_positions + 2*ghost_zones), dtype = np.float)\n",
    "    T = calculate_temperature(f, v) * np.ones((N_velocity, N_positions + 2*ghost_zones), dtype = np.float)\n",
    "    f_MB = n*np.sqrt(mass_particle/(2*np.pi*boltzmann_constant*T))*\\\n",
    "       np.exp(-mass_particle*v**2/(2*boltzmann_constant*T))\n",
    "    return(f_MB)"
   ]
  },
  {
   "cell_type": "code",
   "execution_count": 101,
   "metadata": {
    "collapsed": true
   },
   "outputs": [],
   "source": [
    "def f_walls(v):\n",
    "    f_walls = np.sqrt(mass_particle/(2*np.pi*boltzmann_constant*T_walls))*\\\n",
    "        np.exp(-mass_particle*v**2/(2*boltzmann_constant*T_walls))\n",
    "    return(f_walls)"
   ]
  },
  {
   "cell_type": "code",
   "execution_count": 102,
   "metadata": {
    "collapsed": false
   },
   "outputs": [],
   "source": [
    "def f_interp(dt, x, v, f):\n",
    "    x_new     = x - v*dt\n",
    "    f_interp  = np.zeros([N_velocity, N_positions + 2*ghost_zones])\n",
    "    f_interp  = np.sqrt(mass_particle/(2*np.pi*boltzmann_constant*T_walls)) * \\\n",
    "              np.exp(-mass_particle*v**2/(2*boltzmann_constant*T_walls))\n",
    "    for i in range(N_velocity):\n",
    "        wall_indices   = np.where(  (x_new[i, ghost_zones:-ghost_zones]<=left_boundary) \\\n",
    "                      + (x_new[i, ghost_zones:-ghost_zones]>=right_boundary) \\\n",
    "                     )[0]\n",
    "        all_indices    = np.arange(N_positions)\n",
    "        indices_domain = np.delete(all_indices, wall_indices)\n",
    "\n",
    "        f_interp[i, ghost_zones + indices_domain] = interp1d(x[i, :], f[i, :], 'cubic')(x_new[i, ghost_zones + indices_domain])\n",
    "        f_interp[i, wall_indices + ghost_zones]   = f_walls(v[:, 0])[i]\n",
    "    return f_interp"
   ]
  },
  {
   "cell_type": "code",
   "execution_count": 103,
   "metadata": {
    "collapsed": true
   },
   "outputs": [],
   "source": [
    "# Intializing the values for f\n",
    "f_initial = np.sqrt(mass_particle/(2*np.pi*boltzmann_constant*T_initial)) * \\\n",
    "            np.exp(-mass_particle*v**2/(2*boltzmann_constant*T_initial))\n",
    "\n",
    "# Declaring the indices of the ghost cells at the left and right walls\n",
    "indices_left  = np.arange(ghost_zones)\n",
    "indices_right = np.arange(N_positions + ghost_zones, N_positions + 2 * ghost_zones)\n",
    "indices_walls = np.concatenate([indices_left, indices_right])\n",
    "\n",
    "# Setting temperature at the walls:\n",
    "for i in indices_walls:\n",
    "    f_initial[:, i] = np.sqrt(mass_particle/(2*np.pi*boltzmann_constant*T_walls)) * \\\n",
    "                      np.exp(-mass_particle*v[:, 0]**2/(2*boltzmann_constant*T_walls))\n",
    "\n",
    "f_current = f_initial\n",
    "data      = np.zeros(time.size)"
   ]
  },
  {
   "cell_type": "code",
   "execution_count": 104,
   "metadata": {
    "collapsed": false
   },
   "outputs": [],
   "source": [
    "for time_index, t0 in enumerate(time):\n",
    "  \n",
    "    #print(\"Computing For Time Index = \", time_index)\n",
    "    #print(\"Physical Time            = \", t0)\n",
    "\n",
    "    # We shall split the Boltzmann-Equation and solve it:\n",
    "\n",
    "    # In this step we are solving the collisionless equation\n",
    "    fstar = f_interp(dt, x, v, f_current)\n",
    "    # We turn off the term v(df/dx) for the following two steps\n",
    "    f0             = f_MB(x, v, fstar)\n",
    "\n",
    "    f_intermediate = fstar - (dt/2)*(fstar          - f0)/tau\n",
    "    f_new          = fstar - (dt)  *(f_intermediate - f0)/tau\n",
    "    \n",
    "\n",
    "    \n",
    "    indices_left  = np.arange(ghost_zones)\n",
    "    indices_right = np.arange(N_positions + ghost_zones, N_positions + 2 * ghost_zones)\n",
    "    indices_walls = np.concatenate([indices_left, indices_right])\n",
    "\n",
    "    for i in indices_walls:\n",
    "        f_new[:, i] = np.sqrt(mass_particle/(2*np.pi*boltzmann_constant*T_walls)) * \\\n",
    "                      np.exp(-mass_particle*v[:, 0]**2/(2*boltzmann_constant*T_walls))\n",
    "    T = calculate_temperature(f_new, v)\n",
    "    T = np.sum(T[ghost_zones:-ghost_zones])/(N_positions)\n",
    "    data[time_index] = T\n",
    "    f_current = f_new"
   ]
  },
  {
   "cell_type": "code",
   "execution_count": 105,
   "metadata": {
    "collapsed": true
   },
   "outputs": [],
   "source": [
    "import h5py\n",
    "h5f = h5py.File('analytical.h5', 'r')\n",
    "sol = h5f['soln'][:]\n",
    "time2 = h5f['time'][:]\n",
    "h5f.close()\n",
    "new=np.zeros(time2.size)\n",
    "for i in range(1,31):\n",
    "    new+=sol[i][:]\n",
    "new=new/30"
   ]
  },
  {
   "cell_type": "code",
   "execution_count": 106,
   "metadata": {
    "collapsed": false
   },
   "outputs": [
    {
     "data": {
      "text/plain": [
       "<matplotlib.text.Text at 0x7f3a9d0709e8>"
      ]
     },
     "execution_count": 106,
     "metadata": {},
     "output_type": "execute_result"
    },
    {
     "data": {
      "image/png": "[encoded data removed]",
      "text/plain": [
       "<matplotlib.figure.Figure at 0x7f3a9d0c1b00>"
      ]
     },
     "metadata": {},
     "output_type": "display_data"
    }
   ],
   "source": [
    "pl.plot(time2, np.abs(new),'b', label='$\\mathrm{Analytical}$')\n",
    "pl.plot(time,  np.abs(data),'r', label='$\\mathrm{Numerical}$')\n",
    "pl.title('$\\mathrm{Analytical/Numerical}$ $\\mathrm{Solution}$')"
   ]
  },
  {
   "cell_type": "code",
   "execution_count": null,
   "metadata": {
    "collapsed": true
   },
   "outputs": [],
   "source": []
  }
 ],
 "metadata": {
  "anaconda-cloud": {},
  "kernelspec": {
   "display_name": "Python [conda root]",
   "language": "python",
   "name": "conda-root-py"
  },
  "language_info": {
   "codemirror_mode": {
    "name": "ipython",
    "version": 3
   },
   "file_extension": ".py",
   "mimetype": "text/x-python",
   "name": "python",
   "nbconvert_exporter": "python",
   "pygments_lexer": "ipython3",
   "version": "3.5.2"
  }
 },
 "nbformat": 4,
 "nbformat_minor": 1
}
