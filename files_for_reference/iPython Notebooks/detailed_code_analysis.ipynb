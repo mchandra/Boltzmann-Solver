{
 "cells": [
  {
   "cell_type": "code",
   "execution_count": 1,
   "metadata": {
    "collapsed": true
   },
   "outputs": [],
   "source": [
    "import numpy as np\n",
    "import arrayfire as af\n",
    "import pylab as pl\n",
    "af.set_backend(\"cpu\")\n",
    "%matplotlib inline"
   ]
  },
  {
   "cell_type": "code",
   "execution_count": 2,
   "metadata": {
    "collapsed": false
   },
   "outputs": [],
   "source": [
    "pl.rcParams['figure.figsize']  = 12, 7.5\n",
    "pl.rcParams['lines.linewidth'] = 1.5\n",
    "pl.rcParams['font.family']     = 'serif'\n",
    "pl.rcParams['font.weight']     = 'bold'\n",
    "pl.rcParams['font.size']       = 20  \n",
    "pl.rcParams['font.sans-serif'] = 'serif'\n",
    "pl.rcParams['text.usetex']     = True\n",
    "pl.rcParams['axes.linewidth']  = 1.5\n",
    "pl.rcParams['axes.titlesize']  = 'medium'\n",
    "pl.rcParams['axes.labelsize']  = 'medium'\n",
    "\n",
    "pl.rcParams['xtick.major.size'] = 8     \n",
    "pl.rcParams['xtick.minor.size'] = 4     \n",
    "pl.rcParams['xtick.major.pad']  = 8     \n",
    "pl.rcParams['xtick.minor.pad']  = 8     \n",
    "pl.rcParams['xtick.color']      = 'k'     \n",
    "pl.rcParams['xtick.labelsize']  = 'medium'\n",
    "pl.rcParams['xtick.direction']  = 'in'    \n",
    "\n",
    "pl.rcParams['ytick.major.size'] = 8     \n",
    "pl.rcParams['ytick.minor.size'] = 4     \n",
    "pl.rcParams['ytick.major.pad']  = 8     \n",
    "pl.rcParams['ytick.minor.pad']  = 8     \n",
    "pl.rcParams['ytick.color']      = 'k'     \n",
    "pl.rcParams['ytick.labelsize']  = 'medium'\n",
    "pl.rcParams['ytick.direction']  = 'in'  "
   ]
  },
  {
   "cell_type": "code",
   "execution_count": 3,
   "metadata": {
    "collapsed": true
   },
   "outputs": [],
   "source": [
    "# Setting velocity and spatial grid points\n",
    "N_positions = 10000\n",
    "N_velocity  = 10000\n",
    "ghost_zones = 3"
   ]
  },
  {
   "cell_type": "code",
   "execution_count": 4,
   "metadata": {
    "collapsed": true
   },
   "outputs": [],
   "source": [
    "# Boundaries of domain\n",
    "left_boundary  = 0\n",
    "right_boundary = 1.0\n",
    "length         = right_boundary - left_boundary"
   ]
  },
  {
   "cell_type": "code",
   "execution_count": 5,
   "metadata": {
    "collapsed": true
   },
   "outputs": [],
   "source": [
    "# Setting mass of the particle, boltzmann-constant\n",
    "mass_particle      = 1.0\n",
    "boltzmann_constant = 1.0"
   ]
  },
  {
   "cell_type": "code",
   "execution_count": 6,
   "metadata": {
    "collapsed": true
   },
   "outputs": [],
   "source": [
    "# Scattering time scale\n",
    "tau   = 0.05\n",
    "# Magnitude of maximum velocity\n",
    "v_max = 5.0"
   ]
  },
  {
   "cell_type": "code",
   "execution_count": 7,
   "metadata": {
    "collapsed": false
   },
   "outputs": [],
   "source": [
    "# Time Parameters for the simulation:\n",
    "dt         = 0.005 # Size of the time-step\n",
    "final_time = 1.0\n",
    "time       = np.arange(dt, (final_time + dt), dt)"
   ]
  },
  {
   "cell_type": "code",
   "execution_count": 8,
   "metadata": {
    "collapsed": false
   },
   "outputs": [],
   "source": [
    "# Setting up of spatial and velocity grids:\n",
    "x  = np.linspace(left_boundary, right_boundary, N_positions)\n",
    "dx = x[1] - x[0]"
   ]
  },
  {
   "cell_type": "code",
   "execution_count": 9,
   "metadata": {
    "collapsed": false
   },
   "outputs": [],
   "source": [
    "# Obtaining the coordinates for the ghost-zones:\n",
    "x_ghost_left  = np.linspace(-(ghost_zones)*dx + left_boundary, left_boundary - dx, ghost_zones)\n",
    "x_ghost_right = np.linspace(right_boundary + dx, right_boundary + ghost_zones*dx , ghost_zones)"
   ]
  },
  {
   "cell_type": "code",
   "execution_count": 10,
   "metadata": {
    "collapsed": true
   },
   "outputs": [],
   "source": [
    "# Combining them to obtain the entire spatial grid\n",
    "x  = np.concatenate([x_ghost_left, x, x_ghost_right])"
   ]
  },
  {
   "cell_type": "code",
   "execution_count": 11,
   "metadata": {
    "collapsed": false
   },
   "outputs": [],
   "source": [
    "# Obtaining the velocity grid\n",
    "v  = np.linspace(-v_max, v_max, N_velocity)\n",
    "\n",
    "# Converting the arrayfire's native format\n",
    "x  = af.to_array(x)\n",
    "v  = af.to_array(v)"
   ]
  },
  {
   "cell_type": "code",
   "execution_count": 12,
   "metadata": {
    "collapsed": false
   },
   "outputs": [],
   "source": [
    "# Conversion to allow for easy vectorization\n",
    "x = af.tile(x, 1, N_velocity)\n",
    "v = af.tile(af.reorder(v), N_positions + 2*ghost_zones, 1)"
   ]
  },
  {
   "cell_type": "code",
   "execution_count": 13,
   "metadata": {
    "collapsed": true
   },
   "outputs": [],
   "source": [
    "def calculate_density(f, v):\n",
    "    deltav           = af.sum(v[0, 1]-v[0, 0])\n",
    "    value_of_density = af.sum(f, 1)*deltav\n",
    "    af.eval(value_of_density)\n",
    "    return(value_of_density)"
   ]
  },
  {
   "cell_type": "code",
   "execution_count": 14,
   "metadata": {
    "collapsed": true
   },
   "outputs": [],
   "source": [
    "def calculate_momentum(f, v):\n",
    "    deltav            = af.sum(v[0, 1]-v[0, 0])\n",
    "    value_of_momentum = af.sum(f*v, 1)*deltav\n",
    "    af.eval(value_of_momentum)\n",
    "    return(value_of_momentum)"
   ]
  },
  {
   "cell_type": "code",
   "execution_count": 15,
   "metadata": {
    "collapsed": false
   },
   "outputs": [],
   "source": [
    "def calculate_temperature(f, v):\n",
    "    deltav               = af.sum(v[0, 1]-v[0, 0])\n",
    "    value_of_temperature = af.sum(f*v**2, 1)*deltav\n",
    "    value_of_temperature = value_of_temperature/calculate_density(f, v)\n",
    "    af.eval(value_of_temperature)\n",
    "    return(value_of_temperature)"
   ]
  },
  {
   "cell_type": "code",
   "execution_count": 16,
   "metadata": {
    "collapsed": true
   },
   "outputs": [],
   "source": [
    "def f_MB(x, v, f):\n",
    "    n = af.tile(calculate_density(f, v), 1, N_velocity)\n",
    "    T = af.tile(calculate_temperature(f, v), 1, N_velocity)\n",
    "    f_MB = n*af.sqrt(mass_particle/(2*np.pi*boltzmann_constant*T))*\\\n",
    "             af.exp(-mass_particle*v**2/(2*boltzmann_constant*T))\n",
    "    af.eval(f_MB)\n",
    "    return(f_MB)"
   ]
  },
  {
   "cell_type": "code",
   "execution_count": 17,
   "metadata": {
    "collapsed": true
   },
   "outputs": [],
   "source": [
    "def f_interp(dt, x, v, f):\n",
    "    x_new     = x - v*dt\n",
    "    step_size = af.sum(x[1,0] - x[0,0])\n",
    "    f_inter   = af.constant(0, N_positions + 2*ghost_zones, N_velocity)\n",
    "    f_inter   = af.Array.as_type(f_inter, af.Dtype.f64)\n",
    "    \n",
    "    # Implementing periodic B.C's :\n",
    "    x_new[ghost_zones:-ghost_zones, :] =\\\n",
    "    af.select(x_new[ghost_zones:-ghost_zones, :]<=left_boundary,\n",
    "              x_new[ghost_zones:-ghost_zones, :] + length,\n",
    "              x_new[ghost_zones:-ghost_zones, :]\n",
    "             )\n",
    "    \n",
    "    x_new[ghost_zones:-ghost_zones, :] =\\\n",
    "    af.select(x_new[ghost_zones:-ghost_zones, :]>=right_boundary,\n",
    "              x_new[ghost_zones:-ghost_zones, :] - length,\n",
    "              x_new[ghost_zones:-ghost_zones, :]\n",
    "             )\n",
    "    \n",
    "    # Interpolating:\n",
    "    f_inter[ghost_zones:-ghost_zones,:] = af.approx1(f, (x_new[ghost_zones:-ghost_zones,:]/step_size), af.INTERP.CUBIC)\n",
    "    \n",
    "    af.eval(f_inter)\n",
    "    return f_inter\n"
   ]
  },
  {
   "cell_type": "code",
   "execution_count": 18,
   "metadata": {
    "collapsed": false
   },
   "outputs": [],
   "source": [
    "# Intializing the values for f\n",
    "f_initial = af.constant(0, N_positions + 2*ghost_zones, N_velocity)\n",
    "rho       = 0.1*af.sin(2*np.pi*x) + 1"
   ]
  },
  {
   "cell_type": "code",
   "execution_count": 19,
   "metadata": {
    "collapsed": false
   },
   "outputs": [],
   "source": [
    "f_initial = rho * np.sqrt(mass_particle/(2*np.pi*boltzmann_constant*1))*\\\n",
    "                  af.exp(-mass_particle*v**2/(2*boltzmann_constant*1))"
   ]
  },
  {
   "cell_type": "code",
   "execution_count": 20,
   "metadata": {
    "collapsed": false
   },
   "outputs": [],
   "source": [
    "# Implementing periodic B.C's:\n",
    "\n",
    "f_initial[:ghost_zones, :] = \\\n",
    "f_initial[N_positions - 1:N_positions - 1 + ghost_zones, :]\n",
    "\n",
    "f_initial[ghost_zones + N_positions:, :] = \\\n",
    "f_initial[1 + ghost_zones:1 + 2*ghost_zones, :]"
   ]
  },
  {
   "cell_type": "code",
   "execution_count": 21,
   "metadata": {
    "collapsed": false
   },
   "outputs": [],
   "source": [
    "# Initializing the starting value for the simulation\n",
    "f_current   = f_initial\n",
    "data        = np.zeros(time.size + 1)\n",
    "data_rho    = np.zeros(time.size + 1)\n",
    "data_rho[0] = af.max(af.abs(calculate_density(f_initial, v)))\n",
    "data[0]     = af.sum(af.abs(calculate_momentum(f_initial, v)))"
   ]
  },
  {
   "cell_type": "code",
   "execution_count": 22,
   "metadata": {
    "collapsed": false
   },
   "outputs": [
    {
     "ename": "RuntimeError",
     "evalue": "In function virtual void* cpu::MemoryManager::nativeAlloc(size_t)\nIn file src/backend/cpu/memory.cpp:67\nUnable to allocate memory\n",
     "output_type": "error",
     "traceback": [
      "\u001b[0;31m---------------------------------------------------------------------------\u001b[0m",
      "\u001b[0;31mRuntimeError\u001b[0m                              Traceback (most recent call last)",
      "\u001b[0;32m<ipython-input-22-2b6616e24823>\u001b[0m in \u001b[0;36m<module>\u001b[0;34m()\u001b[0m\n\u001b[1;32m     10\u001b[0m \u001b[0;34m\u001b[0m\u001b[0m\n\u001b[1;32m     11\u001b[0m     \u001b[0mf_current\u001b[0m \u001b[0;34m=\u001b[0m \u001b[0maf\u001b[0m\u001b[0;34m.\u001b[0m\u001b[0mArray\u001b[0m\u001b[0;34m.\u001b[0m\u001b[0mas_type\u001b[0m\u001b[0;34m(\u001b[0m\u001b[0mf_current\u001b[0m\u001b[0;34m,\u001b[0m \u001b[0maf\u001b[0m\u001b[0;34m.\u001b[0m\u001b[0mDtype\u001b[0m\u001b[0;34m.\u001b[0m\u001b[0mf64\u001b[0m\u001b[0;34m)\u001b[0m\u001b[0;34m\u001b[0m\u001b[0m\n\u001b[0;32m---> 12\u001b[0;31m     \u001b[0mfstar\u001b[0m     \u001b[0;34m=\u001b[0m \u001b[0mf_interp\u001b[0m\u001b[0;34m(\u001b[0m\u001b[0mdt\u001b[0m\u001b[0;34m,\u001b[0m \u001b[0mx\u001b[0m\u001b[0;34m,\u001b[0m \u001b[0mv\u001b[0m\u001b[0;34m,\u001b[0m \u001b[0mf_current\u001b[0m\u001b[0;34m)\u001b[0m\u001b[0;34m\u001b[0m\u001b[0m\n\u001b[0m\u001b[1;32m     13\u001b[0m \u001b[0;34m\u001b[0m\u001b[0m\n\u001b[1;32m     14\u001b[0m     \u001b[0;31m# Implementing periodic B.C's\u001b[0m\u001b[0;34m\u001b[0m\u001b[0;34m\u001b[0m\u001b[0m\n",
      "\u001b[0;32m<ipython-input-17-af2e354f5960>\u001b[0m in \u001b[0;36mf_interp\u001b[0;34m(dt, x, v, f)\u001b[0m\n\u001b[1;32m      8\u001b[0m     x_new[ghost_zones:-ghost_zones, :] =    af.select(x_new[ghost_zones:-ghost_zones, :]<=left_boundary,\n\u001b[1;32m      9\u001b[0m               \u001b[0mx_new\u001b[0m\u001b[0;34m[\u001b[0m\u001b[0mghost_zones\u001b[0m\u001b[0;34m:\u001b[0m\u001b[0;34m-\u001b[0m\u001b[0mghost_zones\u001b[0m\u001b[0;34m,\u001b[0m \u001b[0;34m:\u001b[0m\u001b[0;34m]\u001b[0m \u001b[0;34m+\u001b[0m \u001b[0mlength\u001b[0m\u001b[0;34m,\u001b[0m\u001b[0;34m\u001b[0m\u001b[0m\n\u001b[0;32m---> 10\u001b[0;31m               \u001b[0mx_new\u001b[0m\u001b[0;34m[\u001b[0m\u001b[0mghost_zones\u001b[0m\u001b[0;34m:\u001b[0m\u001b[0;34m-\u001b[0m\u001b[0mghost_zones\u001b[0m\u001b[0;34m,\u001b[0m \u001b[0;34m:\u001b[0m\u001b[0;34m]\u001b[0m\u001b[0;34m\u001b[0m\u001b[0m\n\u001b[0m\u001b[1;32m     11\u001b[0m              )\n\u001b[1;32m     12\u001b[0m \u001b[0;34m\u001b[0m\u001b[0m\n",
      "\u001b[0;32m/home/hyperion/anaconda3/lib/python3.5/site-packages/arrayfire/data.py\u001b[0m in \u001b[0;36mselect\u001b[0;34m(cond, lhs, rhs)\u001b[0m\n\u001b[1;32m    744\u001b[0m \u001b[0;34m\u001b[0m\u001b[0m\n\u001b[1;32m    745\u001b[0m     \u001b[0;32melif\u001b[0m \u001b[0;34m(\u001b[0m\u001b[0mis_left_array\u001b[0m \u001b[0;32mand\u001b[0m \u001b[0mis_right_array\u001b[0m\u001b[0;34m)\u001b[0m\u001b[0;34m:\u001b[0m\u001b[0;34m\u001b[0m\u001b[0m\n\u001b[0;32m--> 746\u001b[0;31m         \u001b[0msafe_call\u001b[0m\u001b[0;34m(\u001b[0m\u001b[0mbackend\u001b[0m\u001b[0;34m.\u001b[0m\u001b[0mget\u001b[0m\u001b[0;34m(\u001b[0m\u001b[0;34m)\u001b[0m\u001b[0;34m.\u001b[0m\u001b[0maf_select\u001b[0m\u001b[0;34m(\u001b[0m\u001b[0mc_pointer\u001b[0m\u001b[0;34m(\u001b[0m\u001b[0mout\u001b[0m\u001b[0;34m.\u001b[0m\u001b[0marr\u001b[0m\u001b[0;34m)\u001b[0m\u001b[0;34m,\u001b[0m \u001b[0mcond\u001b[0m\u001b[0;34m.\u001b[0m\u001b[0marr\u001b[0m\u001b[0;34m,\u001b[0m \u001b[0mlhs\u001b[0m\u001b[0;34m.\u001b[0m\u001b[0marr\u001b[0m\u001b[0;34m,\u001b[0m \u001b[0mrhs\u001b[0m\u001b[0;34m.\u001b[0m\u001b[0marr\u001b[0m\u001b[0;34m)\u001b[0m\u001b[0;34m)\u001b[0m\u001b[0;34m\u001b[0m\u001b[0m\n\u001b[0m\u001b[1;32m    747\u001b[0m \u001b[0;34m\u001b[0m\u001b[0m\n\u001b[1;32m    748\u001b[0m     \u001b[0;32melif\u001b[0m \u001b[0;34m(\u001b[0m\u001b[0m_is_number\u001b[0m\u001b[0;34m(\u001b[0m\u001b[0mrhs\u001b[0m\u001b[0;34m)\u001b[0m\u001b[0;34m)\u001b[0m\u001b[0;34m:\u001b[0m\u001b[0;34m\u001b[0m\u001b[0m\n",
      "\u001b[0;32m/home/hyperion/anaconda3/lib/python3.5/site-packages/arrayfire/util.py\u001b[0m in \u001b[0;36msafe_call\u001b[0;34m(af_error)\u001b[0m\n\u001b[1;32m     77\u001b[0m         \u001b[0merr_len\u001b[0m \u001b[0;34m=\u001b[0m \u001b[0mc_dim_t\u001b[0m\u001b[0;34m(\u001b[0m\u001b[0;36m0\u001b[0m\u001b[0;34m)\u001b[0m\u001b[0;34m\u001b[0m\u001b[0m\n\u001b[1;32m     78\u001b[0m         \u001b[0mbackend\u001b[0m\u001b[0;34m.\u001b[0m\u001b[0mget\u001b[0m\u001b[0;34m(\u001b[0m\u001b[0;34m)\u001b[0m\u001b[0;34m.\u001b[0m\u001b[0maf_get_last_error\u001b[0m\u001b[0;34m(\u001b[0m\u001b[0mc_pointer\u001b[0m\u001b[0;34m(\u001b[0m\u001b[0merr_str\u001b[0m\u001b[0;34m)\u001b[0m\u001b[0;34m,\u001b[0m \u001b[0mc_pointer\u001b[0m\u001b[0;34m(\u001b[0m\u001b[0merr_len\u001b[0m\u001b[0;34m)\u001b[0m\u001b[0;34m)\u001b[0m\u001b[0;34m\u001b[0m\u001b[0m\n\u001b[0;32m---> 79\u001b[0;31m         \u001b[0;32mraise\u001b[0m \u001b[0mRuntimeError\u001b[0m\u001b[0;34m(\u001b[0m\u001b[0mto_str\u001b[0m\u001b[0;34m(\u001b[0m\u001b[0merr_str\u001b[0m\u001b[0;34m)\u001b[0m\u001b[0;34m)\u001b[0m\u001b[0;34m\u001b[0m\u001b[0m\n\u001b[0m\u001b[1;32m     80\u001b[0m \u001b[0;34m\u001b[0m\u001b[0m\n\u001b[1;32m     81\u001b[0m \u001b[0;32mdef\u001b[0m \u001b[0mget_version\u001b[0m\u001b[0;34m(\u001b[0m\u001b[0;34m)\u001b[0m\u001b[0;34m:\u001b[0m\u001b[0;34m\u001b[0m\u001b[0m\n",
      "\u001b[0;31mRuntimeError\u001b[0m: In function virtual void* cpu::MemoryManager::nativeAlloc(size_t)\nIn file src/backend/cpu/memory.cpp:67\nUnable to allocate memory\n"
     ]
    }
   ],
   "source": [
    "for time_index, t0 in enumerate(time):\n",
    "    \n",
    "    # print(\"Computing For Time Index = \", time_index)\n",
    "    # print(\"Physical Time            = \", t0)\n",
    "    # print() # To leave a blank line.\n",
    "    \n",
    "    # We shall split the Boltzmann-Equation and solve it:\n",
    "    \n",
    "    # In this step we are solving the collisionless equation\n",
    "    \n",
    "    f_current = af.Array.as_type(f_current, af.Dtype.f64)\n",
    "    fstar     = f_interp(dt, x, v, f_current)\n",
    "    \n",
    "    # Implementing periodic B.C's\n",
    "    \n",
    "    fstar[:ghost_zones, :] = \\\n",
    "    fstar[N_positions - 1:N_positions - 1 + ghost_zones, :]\n",
    "\n",
    "    fstar[ghost_zones + N_positions:, :] = \\\n",
    "    fstar[1 + ghost_zones:1 + 2*ghost_zones, :]\n",
    "    \n",
    "#     We turn off the term v(df/dx) for the following two steps\n",
    "#     f0             = f_MB(x, v, fstar)\n",
    "#     f_intermediate = fstar - (dt/2)*(fstar          - f0)/tau\n",
    "#     f_new          = fstar - (dt)  *(f_intermediate - f0)/tau \n",
    "\n",
    "#     # Implementing periodic B.C's\n",
    "    \n",
    "#     f_new[:ghost_zones, :] = \\\n",
    "#     f_new[N_positions - 1:N_positions - 1 + ghost_zones, :]\n",
    "\n",
    "#     f_new[ghost_zones + N_positions:, :] = \\\n",
    "#     f_new[1 + ghost_zones:1 + 2*ghost_zones, :]\n",
    "\n",
    "    f_current = fstar\n",
    "    \n",
    "    mom                = af.abs(calculate_momentum(f_current, v))\n",
    "    data[time_index+1] = af.sum(mom)\n",
    "    data_rho[time_index + 1] = af.max(af.abs(calculate_density(f_current, v)))"
   ]
  },
  {
   "cell_type": "code",
   "execution_count": null,
   "metadata": {
    "collapsed": false
   },
   "outputs": [],
   "source": [
    "pl.plot(time, data[:time.size])\n",
    "pl.ylabel('$p_{\\mathrm{total}}$')\n",
    "pl.xlabel('$t$')\n",
    "pl.title('$\\mathrm{Variation\\;of\\;total\\;momentum\\;with\\;time}$')"
   ]
  },
  {
   "cell_type": "code",
   "execution_count": null,
   "metadata": {
    "collapsed": false
   },
   "outputs": [],
   "source": [
    "N  = 512\n",
    "Nt = 100\n",
    "dx = 1./N\n",
    "i  = np.arange(0, N, 1)\n",
    "x  = (i + 0.5)*dx\n",
    "tFinal  = 1.\n",
    "t  = np.linspace(0, tFinal, Nt)\n",
    "\n",
    "amplitude   = 0.1\n",
    "k           = 2*np.pi\n",
    "theta0      = 1\n",
    "rho0        = 1.0\n",
    "\n",
    "def rhoInit(x):\n",
    "    return rho0 + amplitude*np.sin(k*x)\n",
    "\n",
    "def thetaInit(x):\n",
    "    return theta0\n",
    "\n",
    "thetaInit = np.vectorize(thetaInit)"
   ]
  },
  {
   "cell_type": "code",
   "execution_count": null,
   "metadata": {
    "collapsed": true
   },
   "outputs": [],
   "source": [
    "from scipy.integrate import quad\n",
    "def f0(v, x):    \n",
    "    rho   = rhoInit(x)\n",
    "    theta = thetaInit(x)\n",
    "    \n",
    "    m = 1.\n",
    "    k = 1.\n",
    "        \n",
    "    return rho * (m/(2*np.pi*k*theta))**(1./2.) * np.exp(-m*v**2./(2.*k*theta))\n",
    "\n",
    "def f(v, x, t):\n",
    "\n",
    "    return f0(v, x - v*t)\n",
    "\n",
    "def rhoIntegrand(v, x, t):\n",
    "\n",
    "    integralMeasure = 1.0\n",
    "    \n",
    "    return integralMeasure * f(v, x, t)"
   ]
  },
  {
   "cell_type": "code",
   "execution_count": null,
   "metadata": {
    "collapsed": false
   },
   "outputs": [],
   "source": [
    "gridPoint = N/4\n",
    "solnVst = np.zeros(Nt)\n",
    "for n in range(Nt):\n",
    "    #print (\"n = \", n)\n",
    "    integral = quad(rhoIntegrand, -np.inf, np.inf, args=(x[gridPoint], t[n]))\n",
    "    solnVst[n]  = integral[0]"
   ]
  },
  {
   "cell_type": "code",
   "execution_count": null,
   "metadata": {
    "collapsed": false
   },
   "outputs": [],
   "source": [
    "pl.plot(t, np.abs(solnVst - rho0), label='Analytical')\n",
    "pl.plot(time, np.abs(data_rho[:time.size] - 1), label='Numerical')\n",
    "pl.xlim([0, 0.9])\n",
    "pl.ylim([0, 0.3])\n",
    "pl.legend()"
   ]
  },
  {
   "cell_type": "code",
   "execution_count": null,
   "metadata": {
    "collapsed": true
   },
   "outputs": [],
   "source": []
  }
 ],
 "metadata": {
  "anaconda-cloud": {},
  "kernelspec": {
   "display_name": "Python [default]",
   "language": "python",
   "name": "python3"
  },
  "language_info": {
   "codemirror_mode": {
    "name": "ipython",
    "version": 3
   },
   "file_extension": ".py",
   "mimetype": "text/x-python",
   "name": "python",
   "nbconvert_exporter": "python",
   "pygments_lexer": "ipython3",
   "version": "3.5.2"
  }
 },
 "nbformat": 4,
 "nbformat_minor": 1
}
