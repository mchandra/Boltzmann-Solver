{
 "cells": [
  {
   "cell_type": "code",
   "execution_count": 1,
   "metadata": {
    "collapsed": true
   },
   "outputs": [],
   "source": [
    "import numpy as np\n",
    "import pylab as pl\n",
    "import arrayfire as af\n",
    "af.set_backend(\"cpu\")"
   ]
  },
  {
   "cell_type": "code",
   "execution_count": 2,
   "metadata": {
    "collapsed": true
   },
   "outputs": [],
   "source": [
    "pl.rcParams['figure.figsize']  = 12, 7.5\n",
    "pl.rcParams['lines.linewidth'] = 1.5\n",
    "pl.rcParams['font.family']     = 'serif'\n",
    "pl.rcParams['font.weight']     = 'bold'\n",
    "pl.rcParams['font.size']       = 20  \n",
    "pl.rcParams['font.sans-serif'] = 'serif'\n",
    "pl.rcParams['text.usetex']     = True\n",
    "pl.rcParams['axes.linewidth']  = 1.5\n",
    "pl.rcParams['axes.titlesize']  = 'medium'\n",
    "pl.rcParams['axes.labelsize']  = 'medium'\n",
    "\n",
    "pl.rcParams['xtick.major.size'] = 8     \n",
    "pl.rcParams['xtick.minor.size'] = 4     \n",
    "pl.rcParams['xtick.major.pad']  = 8     \n",
    "pl.rcParams['xtick.minor.pad']  = 8     \n",
    "pl.rcParams['xtick.color']      = 'k'     \n",
    "pl.rcParams['xtick.labelsize']  = 'medium'\n",
    "pl.rcParams['xtick.direction']  = 'in'    \n",
    "\n",
    "pl.rcParams['ytick.major.size'] = 8     \n",
    "pl.rcParams['ytick.minor.size'] = 4     \n",
    "pl.rcParams['ytick.major.pad']  = 8     \n",
    "pl.rcParams['ytick.minor.pad']  = 8     \n",
    "pl.rcParams['ytick.color']      = 'k'     \n",
    "pl.rcParams['ytick.labelsize']  = 'medium'\n",
    "pl.rcParams['ytick.direction']  = 'in' "
   ]
  },
  {
   "cell_type": "code",
   "execution_count": 3,
   "metadata": {
    "collapsed": true
   },
   "outputs": [],
   "source": [
    "# Setting velocity and spatial grid points\n",
    "N_positions = 500\n",
    "ghost_zones = 3\n",
    "N_velocity  = 500"
   ]
  },
  {
   "cell_type": "code",
   "execution_count": 4,
   "metadata": {
    "collapsed": true
   },
   "outputs": [],
   "source": [
    "# Boundaries of domain\n",
    "left_boundary  = 0\n",
    "right_boundary = 1.0\n",
    "length         = right_boundary - left_boundary"
   ]
  },
  {
   "cell_type": "code",
   "execution_count": 5,
   "metadata": {
    "collapsed": true
   },
   "outputs": [],
   "source": [
    "# Setting mass of the particle, boltzmann-constant\n",
    "mass_particle      = 1.0\n",
    "boltzmann_constant = 1.0"
   ]
  },
  {
   "cell_type": "code",
   "execution_count": 6,
   "metadata": {
    "collapsed": true
   },
   "outputs": [],
   "source": [
    "# Scattering time scale\n",
    "tau   = 0.01\n",
    "# Magnitude of maximum velocity\n",
    "v_max = 5.0"
   ]
  },
  {
   "cell_type": "code",
   "execution_count": 7,
   "metadata": {
    "collapsed": true
   },
   "outputs": [],
   "source": [
    "# Time Parameters for the simulation:\n",
    "dt         = 0.001 # Size of the time-step\n",
    "final_time = 10.0\n",
    "time       = np.arange(dt, final_time, dt)"
   ]
  },
  {
   "cell_type": "code",
   "execution_count": 8,
   "metadata": {
    "collapsed": true
   },
   "outputs": [],
   "source": [
    "# Setting up the temperature parameters for the simulations:\n",
    "T_left   = 0.24055809477\n",
    "T_right  = 0.22802902812"
   ]
  },
  {
   "cell_type": "code",
   "execution_count": 9,
   "metadata": {
    "collapsed": true
   },
   "outputs": [],
   "source": [
    "# Setting up of the density parameters for the simulation:\n",
    "rho_left  = 1.0\n",
    "rho_right = 0.92307692"
   ]
  },
  {
   "cell_type": "code",
   "execution_count": 10,
   "metadata": {
    "collapsed": true
   },
   "outputs": [],
   "source": [
    "# Bulk velocity parameters for left and right states:\n",
    "v_bulk_l = 1.0\n",
    "v_bulk_r = 1.08333333"
   ]
  },
  {
   "cell_type": "code",
   "execution_count": 11,
   "metadata": {
    "collapsed": false
   },
   "outputs": [],
   "source": [
    "# Setting up of spatial and velocity grids:\n",
    "x  = np.linspace(left_boundary, right_boundary, N_positions)\n",
    "dx = x[1] - x[0]"
   ]
  },
  {
   "cell_type": "code",
   "execution_count": 12,
   "metadata": {
    "collapsed": false
   },
   "outputs": [],
   "source": [
    "# Obtaining the coordinates for the ghost-zones:\n",
    "x_ghost_left  = np.linspace(-(ghost_zones)*dx + left_boundary, left_boundary - dx, ghost_zones)\n",
    "x_ghost_right = np.linspace(right_boundary + dx, right_boundary + ghost_zones*dx , ghost_zones)"
   ]
  },
  {
   "cell_type": "code",
   "execution_count": 13,
   "metadata": {
    "collapsed": true
   },
   "outputs": [],
   "source": [
    "# Combining them to obtain the entire spatial grid\n",
    "x  = np.concatenate([x_ghost_left, x, x_ghost_right])"
   ]
  },
  {
   "cell_type": "code",
   "execution_count": 14,
   "metadata": {
    "collapsed": false
   },
   "outputs": [],
   "source": [
    "# Obtaining the velocity grid\n",
    "v  = np.linspace(-v_max, v_max, N_velocity)\n",
    "x  = af.to_array(x)\n",
    "v  = af.to_array(v)\n",
    "\n",
    "v_bulk = af.constant(0, N_positions + 2*ghost_zones, N_velocity)\n",
    "v_bulk[:ghost_zones + 0.5*N_positions, :] = v_bulk_l\n",
    "v_bulk[ghost_zones + 0.5*N_positions:, :]  = v_bulk_r"
   ]
  },
  {
   "cell_type": "code",
   "execution_count": 15,
   "metadata": {
    "collapsed": false
   },
   "outputs": [],
   "source": [
    "# Conversion to allow for easy vectorization\n",
    "x = af.tile(x, 1, N_velocity)\n",
    "v = af.tile(af.reorder(v), N_positions + 2*ghost_zones, 1)"
   ]
  },
  {
   "cell_type": "code",
   "execution_count": 16,
   "metadata": {
    "collapsed": true
   },
   "outputs": [],
   "source": [
    "def calculate_density(f, v):\n",
    "    deltav           = af.sum(v[0, 1]-v[0, 0])\n",
    "    value_of_density = af.sum(f, 1)*deltav\n",
    "    af.eval(value_of_density)\n",
    "    return(value_of_density)"
   ]
  },
  {
   "cell_type": "code",
   "execution_count": 17,
   "metadata": {
    "collapsed": false
   },
   "outputs": [],
   "source": [
    "def calculate_temperature(f, v):\n",
    "    deltav               = af.sum(v[0, 1]-v[0, 0])\n",
    "    value_of_temperature = af.sum(f*(v - v_bulk)**2, 1)*deltav\n",
    "    value_of_temperature = value_of_temperature/calculate_density(f, v)\n",
    "    af.eval(value_of_temperature)\n",
    "    return(value_of_temperature)"
   ]
  },
  {
   "cell_type": "code",
   "execution_count": 18,
   "metadata": {
    "collapsed": true
   },
   "outputs": [],
   "source": [
    "def f_MB(x, v, f):\n",
    "    n = af.tile(calculate_density(f, v), 1, N_velocity)\n",
    "    T = af.tile(calculate_temperature(f, v), 1, N_velocity)\n",
    "    f_MB = n*af.sqrt(mass_particle/(2*np.pi*boltzmann_constant*T))*\\\n",
    "             af.exp(-mass_particle*(v - v_bulk)**2/(2*boltzmann_constant*T))\n",
    "    af.eval(f_MB)\n",
    "    return(f_MB)\n"
   ]
  },
  {
   "cell_type": "code",
   "execution_count": 19,
   "metadata": {
    "collapsed": true
   },
   "outputs": [],
   "source": [
    "def f_interp(dt, x, v, f):\n",
    "    x_new     = x - v*dt\n",
    "    step_size = af.sum(x[1,0] - x[0,0])\n",
    "    f_inter   = af.constant(0, N_positions + 2*ghost_zones, N_velocity)\n",
    "    \n",
    "    f_inter   = af.Array.as_type(f_inter, af.Dtype.f64)\n",
    "    \n",
    "    \n",
    "    f_inter[ghost_zones:-ghost_zones,:] = af.approx1(f, (x_new[ghost_zones:-ghost_zones,:]/step_size), af.INTERP.CUBIC)\n",
    "      \n",
    "    f_left    = rho_left * np.sqrt(mass_particle/(2*np.pi*boltzmann_constant*T_left))*\\\n",
    "                af.exp(-mass_particle*(v - v_bulk_l)**2/(2*boltzmann_constant*T_left))\n",
    "    \n",
    "    f_right   = rho_right * np.sqrt(mass_particle/(2*np.pi*boltzmann_constant*T_right))*\\\n",
    "                af.exp(-mass_particle*(v - v_bulk_r)**2/(2*boltzmann_constant*T_right))\n",
    "    \n",
    "    f_inter[ghost_zones:-ghost_zones,:] = af.select(x_new[ghost_zones:-ghost_zones, :]<=left_boundary, \\\n",
    "                                                     f_left[ghost_zones:-ghost_zones,:], \\\n",
    "                                                     f_inter[ghost_zones:-ghost_zones,:] \\\n",
    "                                                    )\n",
    "    \n",
    "    f_inter[ghost_zones:-ghost_zones,:] = af.select(x_new[ghost_zones:-ghost_zones, :]>=right_boundary, \\\n",
    "                                                     f_right[ghost_zones:-ghost_zones,:], \\\n",
    "                                                     f_inter[ghost_zones:-ghost_zones,:] \\\n",
    "                                                    )\n",
    "    af.eval(f_inter)\n",
    "    return f_inter\n"
   ]
  },
  {
   "cell_type": "code",
   "execution_count": 20,
   "metadata": {
    "collapsed": false
   },
   "outputs": [],
   "source": [
    "# Intializing the values for f\n",
    "f_initial = af.constant(0, N_positions + 2*ghost_zones, N_velocity)"
   ]
  },
  {
   "cell_type": "code",
   "execution_count": 21,
   "metadata": {
    "collapsed": false
   },
   "outputs": [],
   "source": [
    "f_initial[:ghost_zones + (N_positions/2),:] = \\\n",
    "(rho_left * np.sqrt(mass_particle/(2*np.pi*boltzmann_constant*T_left))*\\\n",
    "af.exp(-mass_particle*(v - v_bulk_l)**2/(2*boltzmann_constant*T_left)))[:ghost_zones + (N_positions/2),:]\n",
    "    \n",
    "f_initial[(N_positions/2) + ghost_zones:, :] = \\\n",
    "(rho_right * np.sqrt(mass_particle/(2*np.pi*boltzmann_constant*T_right))*\\\n",
    "af.exp(-mass_particle*(v - v_bulk_r)**2/(2*boltzmann_constant*T_right)))[(N_positions/2) + ghost_zones:, :]"
   ]
  },
  {
   "cell_type": "code",
   "execution_count": 22,
   "metadata": {
    "collapsed": false
   },
   "outputs": [],
   "source": [
    "# Initializing the starting value for the simulation\n",
    "f_current = f_initial"
   ]
  },
  {
   "cell_type": "code",
   "execution_count": 23,
   "metadata": {
    "collapsed": false
   },
   "outputs": [
    {
     "name": "stdout",
     "output_type": "stream",
     "text": [
      "Computing For Time Index =  0\n",
      "Computing For Time Index =  1\n",
      "Computing For Time Index =  2\n",
      "Computing For Time Index =  3\n",
      "Computing For Time Index =  4\n",
      "Computing For Time Index =  5\n",
      "Computing For Time Index =  6\n",
      "Computing For Time Index =  7\n",
      "Computing For Time Index =  8\n",
      "Computing For Time Index =  9\n",
      "Computing For Time Index =  10\n",
      "Computing For Time Index =  11\n",
      "Computing For Time Index =  12\n",
      "Computing For Time Index =  13\n",
      "Computing For Time Index =  14\n",
      "Computing For Time Index =  15\n",
      "Computing For Time Index =  16\n",
      "Computing For Time Index =  17\n",
      "Computing For Time Index =  18\n",
      "Computing For Time Index =  19\n",
      "Computing For Time Index =  20\n",
      "Computing For Time Index =  21\n",
      "Computing For Time Index =  22\n",
      "Computing For Time Index =  23\n",
      "Computing For Time Index =  24\n",
      "Computing For Time Index =  25\n",
      "Computing For Time Index =  26\n",
      "Computing For Time Index =  27\n",
      "Computing For Time Index =  28\n",
      "Computing For Time Index =  29\n",
      "Computing For Time Index =  30\n",
      "Computing For Time Index =  31\n",
      "Computing For Time Index =  32\n",
      "Computing For Time Index =  33\n",
      "Computing For Time Index =  34\n",
      "Computing For Time Index =  35\n",
      "Computing For Time Index =  36\n",
      "Computing For Time Index =  37\n",
      "Computing For Time Index =  38\n",
      "Computing For Time Index =  39\n",
      "Computing For Time Index =  40\n",
      "Computing For Time Index =  41\n",
      "Computing For Time Index =  42\n",
      "Computing For Time Index =  43\n",
      "Computing For Time Index =  44\n",
      "Computing For Time Index =  45\n",
      "Computing For Time Index =  46\n",
      "Computing For Time Index =  47\n",
      "Computing For Time Index =  48\n",
      "Computing For Time Index =  49\n",
      "Computing For Time Index =  50\n",
      "Computing For Time Index =  51\n",
      "Computing For Time Index =  52\n",
      "Computing For Time Index =  53\n",
      "Computing For Time Index =  54\n",
      "Computing For Time Index =  55\n",
      "Computing For Time Index =  56\n",
      "Computing For Time Index =  57\n",
      "Computing For Time Index =  58\n",
      "Computing For Time Index =  59\n",
      "Computing For Time Index =  60\n",
      "Computing For Time Index =  61\n",
      "Computing For Time Index =  62\n",
      "Computing For Time Index =  63\n",
      "Computing For Time Index =  64\n",
      "Computing For Time Index =  65\n",
      "Computing For Time Index =  66\n",
      "Computing For Time Index =  67\n",
      "Computing For Time Index =  68\n",
      "Computing For Time Index =  69\n",
      "Computing For Time Index =  70\n",
      "Computing For Time Index =  71\n",
      "Computing For Time Index =  72\n",
      "Computing For Time Index =  73\n",
      "Computing For Time Index =  74\n",
      "Computing For Time Index =  75\n",
      "Computing For Time Index =  76\n",
      "Computing For Time Index =  77\n",
      "Computing For Time Index =  78\n",
      "Computing For Time Index =  79\n",
      "Computing For Time Index =  80\n",
      "Computing For Time Index =  81\n",
      "Computing For Time Index =  82\n",
      "Computing For Time Index =  83\n",
      "Computing For Time Index =  84\n",
      "Computing For Time Index =  85\n",
      "Computing For Time Index =  86\n",
      "Computing For Time Index =  87\n",
      "Computing For Time Index =  88\n",
      "Computing For Time Index =  89\n",
      "Computing For Time Index =  90\n",
      "Computing For Time Index =  91\n",
      "Computing For Time Index =  92\n",
      "Computing For Time Index =  93\n",
      "Computing For Time Index =  94\n",
      "Computing For Time Index =  95\n",
      "Computing For Time Index =  96\n",
      "Computing For Time Index =  97\n",
      "Computing For Time Index =  98\n",
      "Computing For Time Index =  99\n",
      "Computing For Time Index =  100\n",
      "Computing For Time Index =  101\n",
      "Computing For Time Index =  102\n",
      "Computing For Time Index =  103\n",
      "Computing For Time Index =  104\n",
      "Computing For Time Index =  105\n",
      "Computing For Time Index =  106\n",
      "Computing For Time Index =  107\n",
      "Computing For Time Index =  108\n",
      "Computing For Time Index =  109\n",
      "Computing For Time Index =  110\n",
      "Computing For Time Index =  111\n",
      "Computing For Time Index =  112\n",
      "Computing For Time Index =  113\n",
      "Computing For Time Index =  114\n",
      "Computing For Time Index =  115\n",
      "Computing For Time Index =  116\n",
      "Computing For Time Index =  117\n",
      "Computing For Time Index =  118\n",
      "Computing For Time Index =  119\n",
      "Computing For Time Index =  120\n",
      "Computing For Time Index =  121\n",
      "Computing For Time Index =  122\n",
      "Computing For Time Index =  123\n",
      "Computing For Time Index =  124\n",
      "Computing For Time Index =  125\n",
      "Computing For Time Index =  126\n",
      "Computing For Time Index =  127\n",
      "Computing For Time Index =  128\n",
      "Computing For Time Index =  129\n",
      "Computing For Time Index =  130\n",
      "Computing For Time Index =  131\n",
      "Computing For Time Index =  132\n",
      "Computing For Time Index =  133\n",
      "Computing For Time Index =  134\n",
      "Computing For Time Index =  135\n",
      "Computing For Time Index =  136\n",
      "Computing For Time Index =  137\n",
      "Computing For Time Index =  138\n",
      "Computing For Time Index =  139\n",
      "Computing For Time Index =  140\n",
      "Computing For Time Index =  141\n",
      "Computing For Time Index =  142\n",
      "Computing For Time Index =  143\n",
      "Computing For Time Index =  144\n",
      "Computing For Time Index =  145\n"
     ]
    },
    {
     "ename": "KeyboardInterrupt",
     "evalue": "",
     "output_type": "error",
     "traceback": [
      "\u001b[0;31m---------------------------------------------------------------------------\u001b[0m",
      "\u001b[0;31mKeyboardInterrupt\u001b[0m                         Traceback (most recent call last)",
      "\u001b[0;32m<ipython-input-23-bf8cc94c6211>\u001b[0m in \u001b[0;36m<module>\u001b[0;34m()\u001b[0m\n\u001b[1;32m     28\u001b[0m     \u001b[0mpl\u001b[0m\u001b[0;34m.\u001b[0m\u001b[0mplot\u001b[0m\u001b[0;34m(\u001b[0m\u001b[0mx\u001b[0m\u001b[0;34m[\u001b[0m\u001b[0;36m3\u001b[0m\u001b[0;34m:\u001b[0m\u001b[0;34m-\u001b[0m\u001b[0;36m3\u001b[0m\u001b[0;34m,\u001b[0m\u001b[0;36m0\u001b[0m\u001b[0;34m]\u001b[0m\u001b[0;34m,\u001b[0m \u001b[0mcalculate_density\u001b[0m\u001b[0;34m(\u001b[0m\u001b[0mf_current\u001b[0m\u001b[0;34m[\u001b[0m\u001b[0mghost_zones\u001b[0m\u001b[0;34m:\u001b[0m\u001b[0;34m-\u001b[0m\u001b[0mghost_zones\u001b[0m\u001b[0;34m,\u001b[0m \u001b[0;34m:\u001b[0m\u001b[0;34m]\u001b[0m\u001b[0;34m,\u001b[0m \u001b[0mv\u001b[0m\u001b[0;34m[\u001b[0m\u001b[0mghost_zones\u001b[0m\u001b[0;34m:\u001b[0m\u001b[0;34m-\u001b[0m\u001b[0mghost_zones\u001b[0m\u001b[0;34m,\u001b[0m \u001b[0;34m:\u001b[0m\u001b[0;34m]\u001b[0m\u001b[0;34m)\u001b[0m\u001b[0;34m)\u001b[0m\u001b[0;34m\u001b[0m\u001b[0m\n\u001b[1;32m     29\u001b[0m     \u001b[0mpl\u001b[0m\u001b[0;34m.\u001b[0m\u001b[0mtitle\u001b[0m\u001b[0;34m(\u001b[0m\u001b[0;34m'Time = '\u001b[0m \u001b[0;34m+\u001b[0m \u001b[0mstr\u001b[0m\u001b[0;34m(\u001b[0m\u001b[0mt0\u001b[0m\u001b[0;34m)\u001b[0m\u001b[0;34m)\u001b[0m\u001b[0;34m\u001b[0m\u001b[0m\n\u001b[0;32m---> 30\u001b[0;31m     \u001b[0mpl\u001b[0m\u001b[0;34m.\u001b[0m\u001b[0msavefig\u001b[0m\u001b[0;34m(\u001b[0m\u001b[0;34m'images/'\u001b[0m \u001b[0;34m+\u001b[0m \u001b[0;34m'%04d'\u001b[0m\u001b[0;34m%\u001b[0m\u001b[0mtime_index\u001b[0m \u001b[0;34m+\u001b[0m \u001b[0;34m'.png'\u001b[0m\u001b[0;34m)\u001b[0m\u001b[0;34m\u001b[0m\u001b[0m\n\u001b[0m\u001b[1;32m     31\u001b[0m     \u001b[0mpl\u001b[0m\u001b[0;34m.\u001b[0m\u001b[0mclf\u001b[0m\u001b[0;34m(\u001b[0m\u001b[0;34m)\u001b[0m\u001b[0;34m\u001b[0m\u001b[0m\n",
      "\u001b[0;32m/home/hyperion/anaconda3/lib/python3.5/site-packages/matplotlib/pyplot.py\u001b[0m in \u001b[0;36msavefig\u001b[0;34m(*args, **kwargs)\u001b[0m\n\u001b[1;32m    694\u001b[0m \u001b[0;32mdef\u001b[0m \u001b[0msavefig\u001b[0m\u001b[0;34m(\u001b[0m\u001b[0;34m*\u001b[0m\u001b[0margs\u001b[0m\u001b[0;34m,\u001b[0m \u001b[0;34m**\u001b[0m\u001b[0mkwargs\u001b[0m\u001b[0;34m)\u001b[0m\u001b[0;34m:\u001b[0m\u001b[0;34m\u001b[0m\u001b[0m\n\u001b[1;32m    695\u001b[0m     \u001b[0mfig\u001b[0m \u001b[0;34m=\u001b[0m \u001b[0mgcf\u001b[0m\u001b[0;34m(\u001b[0m\u001b[0;34m)\u001b[0m\u001b[0;34m\u001b[0m\u001b[0m\n\u001b[0;32m--> 696\u001b[0;31m     \u001b[0mres\u001b[0m \u001b[0;34m=\u001b[0m \u001b[0mfig\u001b[0m\u001b[0;34m.\u001b[0m\u001b[0msavefig\u001b[0m\u001b[0;34m(\u001b[0m\u001b[0;34m*\u001b[0m\u001b[0margs\u001b[0m\u001b[0;34m,\u001b[0m \u001b[0;34m**\u001b[0m\u001b[0mkwargs\u001b[0m\u001b[0;34m)\u001b[0m\u001b[0;34m\u001b[0m\u001b[0m\n\u001b[0m\u001b[1;32m    697\u001b[0m     \u001b[0mfig\u001b[0m\u001b[0;34m.\u001b[0m\u001b[0mcanvas\u001b[0m\u001b[0;34m.\u001b[0m\u001b[0mdraw_idle\u001b[0m\u001b[0;34m(\u001b[0m\u001b[0;34m)\u001b[0m   \u001b[0;31m# need this if 'transparent=True' to reset colors\u001b[0m\u001b[0;34m\u001b[0m\u001b[0m\n\u001b[1;32m    698\u001b[0m     \u001b[0;32mreturn\u001b[0m \u001b[0mres\u001b[0m\u001b[0;34m\u001b[0m\u001b[0m\n",
      "\u001b[0;32m/home/hyperion/anaconda3/lib/python3.5/site-packages/matplotlib/figure.py\u001b[0m in \u001b[0;36msavefig\u001b[0;34m(self, *args, **kwargs)\u001b[0m\n\u001b[1;32m   1561\u001b[0m             \u001b[0mself\u001b[0m\u001b[0;34m.\u001b[0m\u001b[0mset_frameon\u001b[0m\u001b[0;34m(\u001b[0m\u001b[0mframeon\u001b[0m\u001b[0;34m)\u001b[0m\u001b[0;34m\u001b[0m\u001b[0m\n\u001b[1;32m   1562\u001b[0m \u001b[0;34m\u001b[0m\u001b[0m\n\u001b[0;32m-> 1563\u001b[0;31m         \u001b[0mself\u001b[0m\u001b[0;34m.\u001b[0m\u001b[0mcanvas\u001b[0m\u001b[0;34m.\u001b[0m\u001b[0mprint_figure\u001b[0m\u001b[0;34m(\u001b[0m\u001b[0;34m*\u001b[0m\u001b[0margs\u001b[0m\u001b[0;34m,\u001b[0m \u001b[0;34m**\u001b[0m\u001b[0mkwargs\u001b[0m\u001b[0;34m)\u001b[0m\u001b[0;34m\u001b[0m\u001b[0m\n\u001b[0m\u001b[1;32m   1564\u001b[0m \u001b[0;34m\u001b[0m\u001b[0m\n\u001b[1;32m   1565\u001b[0m         \u001b[0;32mif\u001b[0m \u001b[0mframeon\u001b[0m\u001b[0;34m:\u001b[0m\u001b[0;34m\u001b[0m\u001b[0m\n",
      "\u001b[0;32m/home/hyperion/anaconda3/lib/python3.5/site-packages/matplotlib/backend_bases.py\u001b[0m in \u001b[0;36mprint_figure\u001b[0;34m(self, filename, dpi, facecolor, edgecolor, orientation, format, **kwargs)\u001b[0m\n\u001b[1;32m   2149\u001b[0m         \u001b[0morigedgecolor\u001b[0m \u001b[0;34m=\u001b[0m \u001b[0mself\u001b[0m\u001b[0;34m.\u001b[0m\u001b[0mfigure\u001b[0m\u001b[0;34m.\u001b[0m\u001b[0mget_edgecolor\u001b[0m\u001b[0;34m(\u001b[0m\u001b[0;34m)\u001b[0m\u001b[0;34m\u001b[0m\u001b[0m\n\u001b[1;32m   2150\u001b[0m \u001b[0;34m\u001b[0m\u001b[0m\n\u001b[0;32m-> 2151\u001b[0;31m         \u001b[0mself\u001b[0m\u001b[0;34m.\u001b[0m\u001b[0mfigure\u001b[0m\u001b[0;34m.\u001b[0m\u001b[0mdpi\u001b[0m \u001b[0;34m=\u001b[0m \u001b[0mdpi\u001b[0m\u001b[0;34m\u001b[0m\u001b[0m\n\u001b[0m\u001b[1;32m   2152\u001b[0m         \u001b[0mself\u001b[0m\u001b[0;34m.\u001b[0m\u001b[0mfigure\u001b[0m\u001b[0;34m.\u001b[0m\u001b[0mset_facecolor\u001b[0m\u001b[0;34m(\u001b[0m\u001b[0mfacecolor\u001b[0m\u001b[0;34m)\u001b[0m\u001b[0;34m\u001b[0m\u001b[0m\n\u001b[1;32m   2153\u001b[0m         \u001b[0mself\u001b[0m\u001b[0;34m.\u001b[0m\u001b[0mfigure\u001b[0m\u001b[0;34m.\u001b[0m\u001b[0mset_edgecolor\u001b[0m\u001b[0;34m(\u001b[0m\u001b[0medgecolor\u001b[0m\u001b[0;34m)\u001b[0m\u001b[0;34m\u001b[0m\u001b[0m\n",
      "\u001b[0;32m/home/hyperion/anaconda3/lib/python3.5/site-packages/matplotlib/figure.py\u001b[0m in \u001b[0;36m_set_dpi\u001b[0;34m(self, dpi)\u001b[0m\n\u001b[1;32m    408\u001b[0m     \u001b[0;32mdef\u001b[0m \u001b[0m_set_dpi\u001b[0m\u001b[0;34m(\u001b[0m\u001b[0mself\u001b[0m\u001b[0;34m,\u001b[0m \u001b[0mdpi\u001b[0m\u001b[0;34m)\u001b[0m\u001b[0;34m:\u001b[0m\u001b[0;34m\u001b[0m\u001b[0m\n\u001b[1;32m    409\u001b[0m         \u001b[0mself\u001b[0m\u001b[0;34m.\u001b[0m\u001b[0m_dpi\u001b[0m \u001b[0;34m=\u001b[0m \u001b[0mdpi\u001b[0m\u001b[0;34m\u001b[0m\u001b[0m\n\u001b[0;32m--> 410\u001b[0;31m         \u001b[0mself\u001b[0m\u001b[0;34m.\u001b[0m\u001b[0mdpi_scale_trans\u001b[0m\u001b[0;34m.\u001b[0m\u001b[0mclear\u001b[0m\u001b[0;34m(\u001b[0m\u001b[0;34m)\u001b[0m\u001b[0;34m.\u001b[0m\u001b[0mscale\u001b[0m\u001b[0;34m(\u001b[0m\u001b[0mdpi\u001b[0m\u001b[0;34m,\u001b[0m \u001b[0mdpi\u001b[0m\u001b[0;34m)\u001b[0m\u001b[0;34m\u001b[0m\u001b[0m\n\u001b[0m\u001b[1;32m    411\u001b[0m         \u001b[0mself\u001b[0m\u001b[0;34m.\u001b[0m\u001b[0mcallbacks\u001b[0m\u001b[0;34m.\u001b[0m\u001b[0mprocess\u001b[0m\u001b[0;34m(\u001b[0m\u001b[0;34m'dpi_changed'\u001b[0m\u001b[0;34m,\u001b[0m \u001b[0mself\u001b[0m\u001b[0;34m)\u001b[0m\u001b[0;34m\u001b[0m\u001b[0m\n\u001b[1;32m    412\u001b[0m     \u001b[0mdpi\u001b[0m \u001b[0;34m=\u001b[0m \u001b[0mproperty\u001b[0m\u001b[0;34m(\u001b[0m\u001b[0m_get_dpi\u001b[0m\u001b[0;34m,\u001b[0m \u001b[0m_set_dpi\u001b[0m\u001b[0;34m)\u001b[0m\u001b[0;34m\u001b[0m\u001b[0m\n",
      "\u001b[0;32m/home/hyperion/anaconda3/lib/python3.5/site-packages/matplotlib/transforms.py\u001b[0m in \u001b[0;36mclear\u001b[0;34m(self)\u001b[0m\n\u001b[1;32m   1883\u001b[0m         \"\"\"\n\u001b[1;32m   1884\u001b[0m         \u001b[0mself\u001b[0m\u001b[0;34m.\u001b[0m\u001b[0m_mtx\u001b[0m \u001b[0;34m=\u001b[0m \u001b[0mnp\u001b[0m\u001b[0;34m.\u001b[0m\u001b[0midentity\u001b[0m\u001b[0;34m(\u001b[0m\u001b[0;36m3\u001b[0m\u001b[0;34m)\u001b[0m\u001b[0;34m\u001b[0m\u001b[0m\n\u001b[0;32m-> 1885\u001b[0;31m         \u001b[0mself\u001b[0m\u001b[0;34m.\u001b[0m\u001b[0minvalidate\u001b[0m\u001b[0;34m(\u001b[0m\u001b[0;34m)\u001b[0m\u001b[0;34m\u001b[0m\u001b[0m\n\u001b[0m\u001b[1;32m   1886\u001b[0m         \u001b[0;32mreturn\u001b[0m \u001b[0mself\u001b[0m\u001b[0;34m\u001b[0m\u001b[0m\n\u001b[1;32m   1887\u001b[0m \u001b[0;34m\u001b[0m\u001b[0m\n",
      "\u001b[0;32m/home/hyperion/anaconda3/lib/python3.5/site-packages/matplotlib/transforms.py\u001b[0m in \u001b[0;36minvalidate\u001b[0;34m(self)\u001b[0m\n\u001b[1;32m    134\u001b[0m         \u001b[0;32mif\u001b[0m \u001b[0mself\u001b[0m\u001b[0;34m.\u001b[0m\u001b[0mis_affine\u001b[0m\u001b[0;34m:\u001b[0m\u001b[0;34m\u001b[0m\u001b[0m\n\u001b[1;32m    135\u001b[0m             \u001b[0mvalue\u001b[0m \u001b[0;34m=\u001b[0m \u001b[0mself\u001b[0m\u001b[0;34m.\u001b[0m\u001b[0mINVALID_AFFINE\u001b[0m\u001b[0;34m\u001b[0m\u001b[0m\n\u001b[0;32m--> 136\u001b[0;31m         \u001b[0;32mreturn\u001b[0m \u001b[0mself\u001b[0m\u001b[0;34m.\u001b[0m\u001b[0m_invalidate_internal\u001b[0m\u001b[0;34m(\u001b[0m\u001b[0mvalue\u001b[0m\u001b[0;34m,\u001b[0m \u001b[0minvalidating_node\u001b[0m\u001b[0;34m=\u001b[0m\u001b[0mself\u001b[0m\u001b[0;34m)\u001b[0m\u001b[0;34m\u001b[0m\u001b[0m\n\u001b[0m\u001b[1;32m    137\u001b[0m \u001b[0;34m\u001b[0m\u001b[0m\n\u001b[1;32m    138\u001b[0m     \u001b[0;32mdef\u001b[0m \u001b[0m_invalidate_internal\u001b[0m\u001b[0;34m(\u001b[0m\u001b[0mself\u001b[0m\u001b[0;34m,\u001b[0m \u001b[0mvalue\u001b[0m\u001b[0;34m,\u001b[0m \u001b[0minvalidating_node\u001b[0m\u001b[0;34m)\u001b[0m\u001b[0;34m:\u001b[0m\u001b[0;34m\u001b[0m\u001b[0m\n",
      "\u001b[0;32m/home/hyperion/anaconda3/lib/python3.5/site-packages/matplotlib/transforms.py\u001b[0m in \u001b[0;36m_invalidate_internal\u001b[0;34m(self, value, invalidating_node)\u001b[0m\n\u001b[1;32m    158\u001b[0m             \u001b[0;32mfor\u001b[0m \u001b[0mparent\u001b[0m \u001b[0;32min\u001b[0m \u001b[0mlist\u001b[0m\u001b[0;34m(\u001b[0m\u001b[0msix\u001b[0m\u001b[0;34m.\u001b[0m\u001b[0mitervalues\u001b[0m\u001b[0;34m(\u001b[0m\u001b[0mself\u001b[0m\u001b[0;34m.\u001b[0m\u001b[0m_parents\u001b[0m\u001b[0;34m)\u001b[0m\u001b[0;34m)\u001b[0m\u001b[0;34m:\u001b[0m\u001b[0;34m\u001b[0m\u001b[0m\n\u001b[1;32m    159\u001b[0m                 parent._invalidate_internal(value=value,\n\u001b[0;32m--> 160\u001b[0;31m                                             invalidating_node=self)\n\u001b[0m\u001b[1;32m    161\u001b[0m \u001b[0;34m\u001b[0m\u001b[0m\n\u001b[1;32m    162\u001b[0m     \u001b[0;32mdef\u001b[0m \u001b[0mset_children\u001b[0m\u001b[0;34m(\u001b[0m\u001b[0mself\u001b[0m\u001b[0;34m,\u001b[0m \u001b[0;34m*\u001b[0m\u001b[0mchildren\u001b[0m\u001b[0;34m)\u001b[0m\u001b[0;34m:\u001b[0m\u001b[0;34m\u001b[0m\u001b[0m\n",
      "\u001b[0;32m/home/hyperion/anaconda3/lib/python3.5/site-packages/matplotlib/transforms.py\u001b[0m in \u001b[0;36m_invalidate_internal\u001b[0;34m(self, value, invalidating_node)\u001b[0m\n\u001b[1;32m    158\u001b[0m             \u001b[0;32mfor\u001b[0m \u001b[0mparent\u001b[0m \u001b[0;32min\u001b[0m \u001b[0mlist\u001b[0m\u001b[0;34m(\u001b[0m\u001b[0msix\u001b[0m\u001b[0;34m.\u001b[0m\u001b[0mitervalues\u001b[0m\u001b[0;34m(\u001b[0m\u001b[0mself\u001b[0m\u001b[0;34m.\u001b[0m\u001b[0m_parents\u001b[0m\u001b[0;34m)\u001b[0m\u001b[0;34m)\u001b[0m\u001b[0;34m:\u001b[0m\u001b[0;34m\u001b[0m\u001b[0m\n\u001b[1;32m    159\u001b[0m                 parent._invalidate_internal(value=value,\n\u001b[0;32m--> 160\u001b[0;31m                                             invalidating_node=self)\n\u001b[0m\u001b[1;32m    161\u001b[0m \u001b[0;34m\u001b[0m\u001b[0m\n\u001b[1;32m    162\u001b[0m     \u001b[0;32mdef\u001b[0m \u001b[0mset_children\u001b[0m\u001b[0;34m(\u001b[0m\u001b[0mself\u001b[0m\u001b[0;34m,\u001b[0m \u001b[0;34m*\u001b[0m\u001b[0mchildren\u001b[0m\u001b[0;34m)\u001b[0m\u001b[0;34m:\u001b[0m\u001b[0;34m\u001b[0m\u001b[0m\n",
      "\u001b[0;32m/home/hyperion/anaconda3/lib/python3.5/site-packages/matplotlib/transforms.py\u001b[0m in \u001b[0;36m_invalidate_internal\u001b[0;34m(self, value, invalidating_node)\u001b[0m\n\u001b[1;32m   2311\u001b[0m \u001b[0;34m\u001b[0m\u001b[0m\n\u001b[1;32m   2312\u001b[0m         Transform._invalidate_internal(self, value=value,\n\u001b[0;32m-> 2313\u001b[0;31m                                        invalidating_node=invalidating_node)\n\u001b[0m\u001b[1;32m   2314\u001b[0m \u001b[0;34m\u001b[0m\u001b[0m\n\u001b[1;32m   2315\u001b[0m     \u001b[0;32mdef\u001b[0m \u001b[0m__eq__\u001b[0m\u001b[0;34m(\u001b[0m\u001b[0mself\u001b[0m\u001b[0;34m,\u001b[0m \u001b[0mother\u001b[0m\u001b[0;34m)\u001b[0m\u001b[0;34m:\u001b[0m\u001b[0;34m\u001b[0m\u001b[0m\n",
      "\u001b[0;32m/home/hyperion/anaconda3/lib/python3.5/site-packages/matplotlib/transforms.py\u001b[0m in \u001b[0;36m_invalidate_internal\u001b[0;34m(self, value, invalidating_node)\u001b[0m\n\u001b[1;32m    156\u001b[0m             \u001b[0mself\u001b[0m\u001b[0;34m.\u001b[0m\u001b[0m_invalid\u001b[0m \u001b[0;34m=\u001b[0m \u001b[0mvalue\u001b[0m\u001b[0;34m\u001b[0m\u001b[0m\n\u001b[1;32m    157\u001b[0m \u001b[0;34m\u001b[0m\u001b[0m\n\u001b[0;32m--> 158\u001b[0;31m             \u001b[0;32mfor\u001b[0m \u001b[0mparent\u001b[0m \u001b[0;32min\u001b[0m \u001b[0mlist\u001b[0m\u001b[0;34m(\u001b[0m\u001b[0msix\u001b[0m\u001b[0;34m.\u001b[0m\u001b[0mitervalues\u001b[0m\u001b[0;34m(\u001b[0m\u001b[0mself\u001b[0m\u001b[0;34m.\u001b[0m\u001b[0m_parents\u001b[0m\u001b[0;34m)\u001b[0m\u001b[0;34m)\u001b[0m\u001b[0;34m:\u001b[0m\u001b[0;34m\u001b[0m\u001b[0m\n\u001b[0m\u001b[1;32m    159\u001b[0m                 parent._invalidate_internal(value=value,\n\u001b[1;32m    160\u001b[0m                                             invalidating_node=self)\n",
      "\u001b[0;32m/home/hyperion/anaconda3/lib/python3.5/site-packages/matplotlib/externals/six.py\u001b[0m in \u001b[0;36mitervalues\u001b[0;34m(d, **kw)\u001b[0m\n\u001b[1;32m    553\u001b[0m \u001b[0;34m\u001b[0m\u001b[0m\n\u001b[1;32m    554\u001b[0m     \u001b[0;32mdef\u001b[0m \u001b[0mitervalues\u001b[0m\u001b[0;34m(\u001b[0m\u001b[0md\u001b[0m\u001b[0;34m,\u001b[0m \u001b[0;34m**\u001b[0m\u001b[0mkw\u001b[0m\u001b[0;34m)\u001b[0m\u001b[0;34m:\u001b[0m\u001b[0;34m\u001b[0m\u001b[0m\n\u001b[0;32m--> 555\u001b[0;31m         \u001b[0;32mreturn\u001b[0m \u001b[0miter\u001b[0m\u001b[0;34m(\u001b[0m\u001b[0md\u001b[0m\u001b[0;34m.\u001b[0m\u001b[0mvalues\u001b[0m\u001b[0;34m(\u001b[0m\u001b[0;34m**\u001b[0m\u001b[0mkw\u001b[0m\u001b[0;34m)\u001b[0m\u001b[0;34m)\u001b[0m\u001b[0;34m\u001b[0m\u001b[0m\n\u001b[0m\u001b[1;32m    556\u001b[0m \u001b[0;34m\u001b[0m\u001b[0m\n\u001b[1;32m    557\u001b[0m     \u001b[0;32mdef\u001b[0m \u001b[0miteritems\u001b[0m\u001b[0;34m(\u001b[0m\u001b[0md\u001b[0m\u001b[0;34m,\u001b[0m \u001b[0;34m**\u001b[0m\u001b[0mkw\u001b[0m\u001b[0;34m)\u001b[0m\u001b[0;34m:\u001b[0m\u001b[0;34m\u001b[0m\u001b[0m\n",
      "\u001b[0;31mKeyboardInterrupt\u001b[0m: "
     ]
    }
   ],
   "source": [
    "for time_index, t0 in enumerate(time):\n",
    "    print(\"Computing For Time Index = \", time_index)\n",
    "    #print(\"Physical Time            = \", t0)\n",
    "    # We shall split the Boltzmann-Equation and solve it:\n",
    "    # In this step we are solving the collisionless equation\n",
    "    f_current = af.Array.as_type(f_current, af.Dtype.f64)\n",
    "    fstar = f_interp(dt, x, v, f_current)\n",
    "    \n",
    "    fstar[:ghost_zones,:] = \\\n",
    "    (rho_left * np.sqrt(mass_particle/(2*np.pi*boltzmann_constant*T_left))*\\\n",
    "     af.exp(-mass_particle*(v - v_bulk_l)**2/(2*boltzmann_constant*T_left)))[:ghost_zones,:]\n",
    "        \n",
    "    \n",
    "    fstar[N_positions + ghost_zones:, :] = \\\n",
    "    (rho_right * np.sqrt(mass_particle/(2*np.pi*boltzmann_constant*T_right))*\\\n",
    "     af.exp(-mass_particle*(v - v_bulk_r)**2/(2*boltzmann_constant*T_right)))[N_positions + ghost_zones:, :]\n",
    "    \n",
    "    # We turn off the term v(df/dx) for the following two steps\n",
    "    f0             = f_MB(x, v, fstar)\n",
    "    f_new          = f0 + (fstar - f0)*np.exp(-dt/tau)\n",
    "    \n",
    "    f_new[:ghost_zones,:] = \\\n",
    "    (rho_left * np.sqrt(mass_particle/(2*np.pi*boltzmann_constant*T_left))*\\\n",
    "     af.exp(-mass_particle*(v - v_bulk_l)**2/(2*boltzmann_constant*T_left)))[:ghost_zones,:]\n",
    "        \n",
    "    \n",
    "    f_new[N_positions + ghost_zones:, :] = \\\n",
    "    (rho_right * np.sqrt(mass_particle/(2*np.pi*boltzmann_constant*T_right))*\\\n",
    "     af.exp(-mass_particle*(v - v_bulk_r)**2/(2*boltzmann_constant*T_right)))[N_positions + ghost_zones:, :]\n",
    "    \n",
    "\n",
    "    f_current = f_new\n",
    "    \n",
    "    pl.xlabel('$x$')\n",
    "    pl.ylabel(r'$\\rho$')\n",
    "    pl.plot(x[3:-3,0], calculate_density(f_current[ghost_zones:-ghost_zones, :], v[ghost_zones:-ghost_zones, :]))\n",
    "    pl.title('Time = ' + str(t0))\n",
    "    pl.savefig('images/' + '%04d'%time_index + '.png')\n",
    "    pl.clf()"
   ]
  },
  {
   "cell_type": "code",
   "execution_count": null,
   "metadata": {
    "collapsed": false
   },
   "outputs": [],
   "source": [
    "pl.plot(x[3:-3,0], calculate_density(f_current[ghost_zones:-ghost_zones, :], v[ghost_zones:-ghost_zones, :]))\n",
    "#pl.plot(temp)"
   ]
  },
  {
   "cell_type": "code",
   "execution_count": null,
   "metadata": {
    "collapsed": true
   },
   "outputs": [],
   "source": []
  },
  {
   "cell_type": "code",
   "execution_count": null,
   "metadata": {
    "collapsed": true
   },
   "outputs": [],
   "source": []
  }
 ],
 "metadata": {
  "anaconda-cloud": {},
  "kernelspec": {
   "display_name": "Python [default]",
   "language": "python",
   "name": "python3"
  },
  "language_info": {
   "codemirror_mode": {
    "name": "ipython",
    "version": 3
   },
   "file_extension": ".py",
   "mimetype": "text/x-python",
   "name": "python",
   "nbconvert_exporter": "python",
   "pygments_lexer": "ipython3",
   "version": "3.5.2"
  }
 },
 "nbformat": 4,
 "nbformat_minor": 1
}
