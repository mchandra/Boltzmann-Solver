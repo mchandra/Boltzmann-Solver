{
 "cells": [
  {
   "cell_type": "code",
   "execution_count": 1,
   "metadata": {
    "collapsed": true
   },
   "outputs": [],
   "source": [
    "import numpy as np\n",
    "from scipy.interpolate import interp1d\n",
    "import pylab as pl\n",
    "from scipy.integrate import quad\n",
    "%matplotlib inline"
   ]
  },
  {
   "cell_type": "code",
   "execution_count": 2,
   "metadata": {
    "collapsed": true
   },
   "outputs": [],
   "source": [
    "pl.rcParams['figure.figsize']  = 12, 7.5\n",
    "pl.rcParams['lines.linewidth'] = 1.5\n",
    "pl.rcParams['font.family']     = 'serif'\n",
    "pl.rcParams['font.weight']     = 'bold'\n",
    "pl.rcParams['font.size']       = 20  \n",
    "pl.rcParams['font.sans-serif'] = 'serif'\n",
    "pl.rcParams['text.usetex']     = True\n",
    "pl.rcParams['axes.linewidth']  = 1.5\n",
    "pl.rcParams['axes.titlesize']  = 'medium'\n",
    "pl.rcParams['axes.labelsize']  = 'medium'\n",
    "\n",
    "pl.rcParams['xtick.major.size'] = 8     \n",
    "pl.rcParams['xtick.minor.size'] = 4     \n",
    "pl.rcParams['xtick.major.pad']  = 8     \n",
    "pl.rcParams['xtick.minor.pad']  = 8     \n",
    "pl.rcParams['xtick.color']      = 'k'     \n",
    "pl.rcParams['xtick.labelsize']  = 'medium'\n",
    "pl.rcParams['xtick.direction']  = 'in'    \n",
    "\n",
    "pl.rcParams['ytick.major.size'] = 8     \n",
    "pl.rcParams['ytick.minor.size'] = 4     \n",
    "pl.rcParams['ytick.major.pad']  = 8     \n",
    "pl.rcParams['ytick.minor.pad']  = 8     \n",
    "pl.rcParams['ytick.color']      = 'k'     \n",
    "pl.rcParams['ytick.labelsize']  = 'medium'\n",
    "pl.rcParams['ytick.direction']  = 'in' "
   ]
  },
  {
   "cell_type": "code",
   "execution_count": 3,
   "metadata": {
    "collapsed": true
   },
   "outputs": [],
   "source": [
    "# Setting velocity and spatial grid points\n",
    "N_positions = 21\n",
    "ghost_zones = 3\n",
    "N_velocity  = 201"
   ]
  },
  {
   "cell_type": "code",
   "execution_count": 4,
   "metadata": {
    "collapsed": true
   },
   "outputs": [],
   "source": [
    "# Boundaries of domain\n",
    "left_boundary  = 0\n",
    "right_boundary = 1.0\n",
    "length         = right_boundary - left_boundary"
   ]
  },
  {
   "cell_type": "code",
   "execution_count": 5,
   "metadata": {
    "collapsed": true
   },
   "outputs": [],
   "source": [
    "# Setting mass of the particle, boltzmann-constant\n",
    "mass_particle      = 1.0\n",
    "boltzmann_constant = 1.0"
   ]
  },
  {
   "cell_type": "code",
   "execution_count": 6,
   "metadata": {
    "collapsed": true
   },
   "outputs": [],
   "source": [
    "# Scattering time scale\n",
    "tau   = 1.0\n",
    "# Magnitude of maximum velocity\n",
    "v_max = 10"
   ]
  },
  {
   "cell_type": "code",
   "execution_count": 7,
   "metadata": {
    "collapsed": true
   },
   "outputs": [],
   "source": [
    "# Time Parameters for the simulation:\n",
    "dt         = 0.01 # Size of the time-step\n",
    "final_time = 1.0\n",
    "time       = np.arange(dt, final_time, dt)"
   ]
  },
  {
   "cell_type": "code",
   "execution_count": 8,
   "metadata": {
    "collapsed": true
   },
   "outputs": [],
   "source": [
    "# Setting up the temperature parameters for the simulations:\n",
    "T_initial = 1.0"
   ]
  },
  {
   "cell_type": "code",
   "execution_count": 9,
   "metadata": {
    "collapsed": true
   },
   "outputs": [],
   "source": [
    "# Setting up of spatial and velocity grids:\n",
    "x  = np.linspace(left_boundary, right_boundary, N_positions)\n",
    "dx = x[1] - x[0]"
   ]
  },
  {
   "cell_type": "code",
   "execution_count": 10,
   "metadata": {
    "collapsed": true
   },
   "outputs": [],
   "source": [
    "# Obtaining the coordinates for the ghost-zones:\n",
    "x_ghost_left  = np.linspace(-(ghost_zones)*dx + left_boundary, left_boundary - dx, ghost_zones)\n",
    "x_ghost_right = np.linspace(right_boundary + dx, right_boundary + ghost_zones*dx , ghost_zones)"
   ]
  },
  {
   "cell_type": "code",
   "execution_count": 11,
   "metadata": {
    "collapsed": true
   },
   "outputs": [],
   "source": [
    "# Combining them to obtain the entire spatial grid\n",
    "x  = np.concatenate([x_ghost_left, x, x_ghost_right])"
   ]
  },
  {
   "cell_type": "code",
   "execution_count": 12,
   "metadata": {
    "collapsed": false
   },
   "outputs": [],
   "source": [
    "# Obtaining the velocity grid\n",
    "v  = np.linspace(-v_max, v_max, N_velocity)"
   ]
  },
  {
   "cell_type": "code",
   "execution_count": 13,
   "metadata": {
    "collapsed": true
   },
   "outputs": [],
   "source": [
    "# Conversion to allow for easy vectorization\n",
    "x = x * np.ones([N_velocity , N_positions + 2*ghost_zones])\n",
    "v = v * np.ones([N_positions + 2*ghost_zones, N_velocity])\n",
    "v = np.transpose(v)"
   ]
  },
  {
   "cell_type": "code",
   "execution_count": 14,
   "metadata": {
    "collapsed": false
   },
   "outputs": [],
   "source": [
    "def calculate_density(f, v):\n",
    "    deltav           = v[1, 0]-v[0, 0]\n",
    "    value_of_density = np.sum(f, axis = 0)*deltav\n",
    "    return(value_of_density)"
   ]
  },
  {
   "cell_type": "code",
   "execution_count": 15,
   "metadata": {
    "collapsed": true
   },
   "outputs": [],
   "source": [
    "def calculate_momentum(f, v):\n",
    "    deltav            = v[1, 0]-v[0, 0]\n",
    "    value_of_momentum = np.sum(f*v, axis = 0)*deltav\n",
    "    return(value_of_momentum)"
   ]
  },
  {
   "cell_type": "code",
   "execution_count": 16,
   "metadata": {
    "collapsed": true
   },
   "outputs": [],
   "source": [
    "def calculate_temperature(f, v):\n",
    "    deltav               = v[1, 0]-v[0, 0]\n",
    "    value_of_temperature = np.sum(f*v**2, axis = 0)*deltav\n",
    "    return(value_of_temperature)"
   ]
  },
  {
   "cell_type": "code",
   "execution_count": 17,
   "metadata": {
    "collapsed": true
   },
   "outputs": [],
   "source": [
    "def f_MB(x, v, f):\n",
    "    n = calculate_density(f, v) * np.ones([N_velocity, N_positions + 2*ghost_zones])\n",
    "    T = calculate_temperature(f, v) * np.ones([N_velocity, N_positions + 2*ghost_zones])\n",
    "    f_MB = n*np.sqrt(mass_particle/(2*np.pi*boltzmann_constant*T))*\\\n",
    "             np.exp(-mass_particle*v**2/(2*boltzmann_constant*T))\n",
    "    return(f_MB)"
   ]
  },
  {
   "cell_type": "code",
   "execution_count": 18,
   "metadata": {
    "collapsed": true
   },
   "outputs": [],
   "source": [
    "def f_interp(dt, x, v, f):\n",
    "    x_new     = x - v*(dt)\n",
    "    f_interp  = np.zeros([N_velocity, N_positions + 2*ghost_zones])\n",
    "\n",
    "    for i in range(N_velocity):\n",
    "        left_indices   = np.where(x_new[i, ghost_zones:-ghost_zones]<=left_boundary)[0]\n",
    "        right_indices  = np.where(x_new[i, ghost_zones:-ghost_zones]>=right_boundary)[0]\n",
    "        wall_indices   = np.concatenate([left_indices, right_indices])\n",
    "        all_indices    = np.arange(N_positions)\n",
    "        indices_domain = np.delete(all_indices, wall_indices)\n",
    "        \n",
    "        interpolated_function                     = interp1d(x[i, :], f[i, :], 'cubic')\n",
    "        f_interp[i, ghost_zones + indices_domain] = interpolated_function(x_new[i, ghost_zones + indices_domain])\n",
    "    \n",
    "        # Implementation of periodic B.C's\n",
    "        for j in left_indices:\n",
    "            while(x_new[i, j + ghost_zones]<left_boundary):\n",
    "                x_new[i, j + ghost_zones] = x_new[i, j + ghost_zones] + length\n",
    "\n",
    "        for j in right_indices:\n",
    "            while(x_new[i, j + ghost_zones]>right_boundary):\n",
    "                x_new[i, j + ghost_zones] = x_new[i, j + ghost_zones] - length\n",
    "\n",
    "        for j in left_indices:\n",
    "            f_interp[i, j + ghost_zones] = interpolated_function(x_new[i, j + ghost_zones])\n",
    "\n",
    "        for j in right_indices:\n",
    "            f_interp[i, j + ghost_zones] = interpolated_function(x_new[i, j + ghost_zones])\n",
    "\n",
    "    return f_interp"
   ]
  },
  {
   "cell_type": "code",
   "execution_count": 19,
   "metadata": {
    "collapsed": false
   },
   "outputs": [],
   "source": [
    "# Intializing the values for rho with a sinusoidal perturbation\n",
    "X                                                          = np.zeros(N_positions + 2*ghost_zones)\n",
    "X[ghost_zones:-ghost_zones]                                = np.linspace(0, 2*np.pi, N_positions)\n",
    "Y                                                          = 0.1*np.sin(X) + 1\n",
    "Y[:ghost_zones]                                            = Y[(N_positions - 1):(N_positions + ghost_zones - 1)]\n",
    "Y[N_positions + ghost_zones:N_positions + 2 * ghost_zones] = Y[(ghost_zones + 1):(1 + 2*ghost_zones)]\n",
    "\n",
    "rho_init = Y\n",
    "rho_init = rho_init * np.ones([N_velocity , N_positions + 2*ghost_zones])"
   ]
  },
  {
   "cell_type": "code",
   "execution_count": 20,
   "metadata": {
    "collapsed": true
   },
   "outputs": [],
   "source": [
    "# Initializing the initial distribution function:\n",
    "f_initial = rho_init * np.sqrt(mass_particle/(2*np.pi*boltzmann_constant*T_initial)) * \\\n",
    "                       np.exp(-mass_particle*v**2/(2*boltzmann_constant*T_initial))"
   ]
  },
  {
   "cell_type": "code",
   "execution_count": 21,
   "metadata": {
    "collapsed": true
   },
   "outputs": [],
   "source": [
    "# Initializing the value of f_current for running the simulation:\n",
    "f_current = f_initial"
   ]
  },
  {
   "cell_type": "code",
   "execution_count": 22,
   "metadata": {
    "collapsed": true
   },
   "outputs": [],
   "source": [
    "# Declaring a variable which will store the maximum values of density:\n",
    "rho_max = np.zeros(time.size)"
   ]
  },
  {
   "cell_type": "code",
   "execution_count": 23,
   "metadata": {
    "collapsed": false,
    "scrolled": true
   },
   "outputs": [
    {
     "name": "stdout",
     "output_type": "stream",
     "text": [
      "2.03789940014e-15\n",
      "0.114896610227\n",
      "0.228432464248\n",
      "0.339277630119\n",
      "0.44615489357\n",
      "0.547864240483\n",
      "0.643305248868\n",
      "0.731496786996\n",
      "0.811593544365\n",
      "0.882899010981\n",
      "0.944874640285\n",
      "0.997145058214\n",
      "1.03949930717\n",
      "1.0718882376\n",
      "1.09441827367\n",
      "1.10734188178\n",
      "1.11104515623\n",
      "1.10603300424\n",
      "1.09291245985\n",
      "1.07237468283\n",
      "1.04517620504\n",
      "1.01211997287\n",
      "0.974036703101\n",
      "0.931767022878\n",
      "0.886144804779\n",
      "0.837982039643\n",
      "0.78805551484\n",
      "0.737095488324\n",
      "0.685776471773\n",
      "0.634710162379\n",
      "0.584440494795\n",
      "0.535440724443\n",
      "0.488112402198\n",
      "0.442786059421\n",
      "0.399723391799\n",
      "0.359120710429\n",
      "0.32111341862\n",
      "0.285781272084\n",
      "0.253154187555\n",
      "0.223218379041\n",
      "0.195922620516\n",
      "0.171184457476\n",
      "0.148896215944\n",
      "0.128930685039\n",
      "0.111146376715\n",
      "0.0953922930136\n",
      "0.0815121559932\n",
      "0.0693480780816\n",
      "0.0587436702603\n",
      "0.0495466021151\n",
      "0.0416106412165\n",
      "0.0347972095902\n",
      "0.0289765023577\n",
      "0.0240282182273\n",
      "0.0198419536982\n",
      "0.0163173129757\n",
      "0.0133637840325\n",
      "0.0109004283799\n",
      "0.00885542826137\n",
      "0.00716553049276\n",
      "0.00577542131378\n",
      "0.00463706164426\n",
      "0.00370900723787\n",
      "0.00295573357033\n",
      "0.00234698098209\n",
      "0.00185713171605\n",
      "0.00146462707182\n",
      "0.00115142997695\n",
      "0.000902535827313\n",
      "0.000705532469192\n",
      "0.000550208631823\n",
      "0.000428208944759\n",
      "0.000332732825454\n",
      "0.000258273965173\n",
      "0.00020039681246\n",
      "0.000155546321579\n",
      "0.000120887242987\n",
      "9.41693604447e-05\n",
      "7.36152792644e-05\n",
      "5.78276291769e-05\n",
      "4.57128276208e-05\n",
      "3.64188507364e-05\n",
      "2.92847537407e-05\n",
      "2.37999723736e-05\n",
      "1.95717034843e-05\n",
      "1.62989134589e-05\n",
      "1.37517437398e-05\n",
      "1.17552840287e-05\n",
      "1.02464705682e-05\n",
      "9.06882040394e-06\n",
      "8.11684130185e-06\n",
      "7.33733859567e-06\n",
      "6.69030240966e-06\n",
      "6.14565893435e-06\n",
      "5.68080029871e-06\n",
      "5.27871168546e-06\n",
      "4.94902896626e-06\n",
      "4.72291849511e-06\n",
      "4.52061237293e-06\n"
     ]
    }
   ],
   "source": [
    "for time_index, t0 in enumerate(time):\n",
    "    print(np.sum(abs(calculate_momentum(f_current, v))))\n",
    "    #print(\"Computing For Time Index = \", time_index)\n",
    "    # print(\"Physical Time            = \", t0)\n",
    "\n",
    "    # We shall split the Boltzmann-Equation and solve it:\n",
    "    # In this step we are solving the collisionless equation\n",
    "    fstar = f_interp(dt, x, v, f_current)\n",
    "    fstar[:, :ghost_zones] = fstar[:, (N_positions - 1):(N_positions + ghost_zones - 1)]\n",
    "    fstar[:, N_positions + ghost_zones:N_positions + 2 * ghost_zones] = fstar[:, (ghost_zones + 1):(1 + 2*ghost_zones)]\n",
    "\n",
    "    # We turn off the term v(df/dx) for the following two steps\n",
    "    #f0             = f_MB(x, v, fstar)\n",
    "    #f_intermediate = fstar - (dt/2)*(fstar          - f0)/tau\n",
    "    \n",
    "    #f_intermediate[:, :ghost_zones] = f_intermediate[:, (N_positions - 1):(N_positions + ghost_zones - 1)]\n",
    "    #f_intermediate[:, N_positions + ghost_zones:N_positions + 2 * ghost_zones] = f_intermediate[:, (ghost_zones + 1):(1 + 2*ghost_zones)]\n",
    "    \n",
    "    #f_new          = fstar - (dt)  *(f_intermediate - f0)/tau\n",
    "    \n",
    "    # Implementation of periodic B.C's:\n",
    "    #f_new[:, :ghost_zones] = f_new[:, (N_positions - 1):(N_positions + ghost_zones - 1)]\n",
    "    #f_new[:, N_positions + ghost_zones:N_positions + 2 * ghost_zones] = f_new[:, (ghost_zones + 1):(1 + 2*ghost_zones)]\n",
    "    f_current = fstar\n",
    "    rho_max[time_index] = np.max(abs(calculate_density(f_current, v)))"
   ]
  },
  {
   "cell_type": "code",
   "execution_count": 24,
   "metadata": {
    "collapsed": false
   },
   "outputs": [],
   "source": [
    "N  = 512\n",
    "Nt = 100\n",
    "dx = 1./N\n",
    "i  = np.arange(0, N, 1)\n",
    "x  = (i + 0.5)*dx\n",
    "tFinal  = 1.\n",
    "t  = np.linspace(0, tFinal, Nt)\n",
    "\n",
    "amplitude   = 0.1\n",
    "k           = 2*np.pi\n",
    "theta0      = T_initial\n",
    "rho0        = 1.0\n",
    "\n",
    "def rhoInit(x):\n",
    "    return rho0 + amplitude*np.sin(k*x)\n",
    "\n",
    "def thetaInit(x):\n",
    "    return theta0\n",
    "\n",
    "thetaInit = np.vectorize(thetaInit)"
   ]
  },
  {
   "cell_type": "code",
   "execution_count": 25,
   "metadata": {
    "collapsed": true
   },
   "outputs": [],
   "source": [
    "def f0(v, x):    \n",
    "    rho   = rhoInit(x)\n",
    "    theta = thetaInit(x)\n",
    "    \n",
    "    m = 1.\n",
    "    k = 1.\n",
    "        \n",
    "    return rho * (m/(2*np.pi*k*theta))**(1./2.) * np.exp(-m*v**2./(2.*k*theta))\n",
    "\n",
    "def f(v, x, t):\n",
    "\n",
    "    return f0(v, x - v*t)\n",
    "\n",
    "def rhoIntegrand(v, x, t):\n",
    "\n",
    "    integralMeasure = 1.0\n",
    "    \n",
    "    return integralMeasure * f(v, x, t)"
   ]
  },
  {
   "cell_type": "code",
   "execution_count": 26,
   "metadata": {
    "collapsed": false
   },
   "outputs": [
    {
     "data": {
      "text/plain": [
       "[<matplotlib.lines.Line2D at 0x7fd6ab3a4128>]"
      ]
     },
     "execution_count": 26,
     "metadata": {},
     "output_type": "execute_result"
    },
    {
     "data": {
      "image/png": "[encoded data removed]",
      "text/plain": [
       "<matplotlib.figure.Figure at 0x7fd6a861bc50>"
      ]
     },
     "metadata": {},
     "output_type": "display_data"
    }
   ],
   "source": [
    "pl.plot(x, rhoInit(x))"
   ]
  },
  {
   "cell_type": "code",
   "execution_count": 27,
   "metadata": {
    "collapsed": false
   },
   "outputs": [
    {
     "name": "stderr",
     "output_type": "stream",
     "text": [
      "/home/hyperion/anaconda3/lib/python3.5/site-packages/ipykernel/__main__.py:5: VisibleDeprecationWarning: using a non-integer number instead of an integer will result in an error in the future\n"
     ]
    }
   ],
   "source": [
    "gridPoint = N/4\n",
    "solnVst = np.zeros(Nt)\n",
    "for n in range(Nt):\n",
    "    #print (\"n = \", n)\n",
    "    integral = quad(rhoIntegrand, -np.inf, np.inf, args=(x[gridPoint], t[n]))\n",
    "    solnVst[n]  = integral[0]"
   ]
  },
  {
   "cell_type": "code",
   "execution_count": 28,
   "metadata": {
    "collapsed": false
   },
   "outputs": [
    {
     "data": {
      "text/plain": [
       "<matplotlib.legend.Legend at 0x7fd67c104f60>"
      ]
     },
     "execution_count": 28,
     "metadata": {},
     "output_type": "execute_result"
    },
    {
     "data": {
      "image/png": "[encoded data removed]",
      "text/plain": [
       "<matplotlib.figure.Figure at 0x7fd67c1377b8>"
      ]
     },
     "metadata": {},
     "output_type": "display_data"
    }
   ],
   "source": [
    "pl.plot(t, np.abs(solnVst - rho0), label='Analytical')\n",
    "pl.plot(time, np.abs(rho_max - 1), label='Numerical')\n",
    "pl.legend()"
   ]
  },
  {
   "cell_type": "code",
   "execution_count": null,
   "metadata": {
    "collapsed": true
   },
   "outputs": [],
   "source": []
  }
 ],
 "metadata": {
  "anaconda-cloud": {},
  "kernelspec": {
   "display_name": "Python [default]",
   "language": "python",
   "name": "python3"
  },
  "language_info": {
   "codemirror_mode": {
    "name": "ipython",
    "version": 3
   },
   "file_extension": ".py",
   "mimetype": "text/x-python",
   "name": "python",
   "nbconvert_exporter": "python",
   "pygments_lexer": "ipython3",
   "version": "3.5.2"
  }
 },
 "nbformat": 4,
 "nbformat_minor": 1
}
