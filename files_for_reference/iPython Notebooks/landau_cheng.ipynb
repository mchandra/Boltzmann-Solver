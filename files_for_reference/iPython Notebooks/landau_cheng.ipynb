{
 "cells": [
  {
   "cell_type": "code",
   "execution_count": 2,
   "metadata": {
    "collapsed": true
   },
   "outputs": [],
   "source": [
    "import numpy as np\n",
    "from scipy.interpolate import interp1d\n",
    "import pylab as pl\n",
    "from scipy.integrate import quad\n",
    "%matplotlib inline"
   ]
  },
  {
   "cell_type": "code",
   "execution_count": 3,
   "metadata": {
    "collapsed": true
   },
   "outputs": [],
   "source": [
    "pl.rcParams['figure.figsize']  = 12, 7.5\n",
    "pl.rcParams['lines.linewidth'] = 1.5\n",
    "pl.rcParams['font.family']     = 'serif'\n",
    "pl.rcParams['font.weight']     = 'bold'\n",
    "pl.rcParams['font.size']       = 20  \n",
    "pl.rcParams['font.sans-serif'] = 'serif'\n",
    "pl.rcParams['text.usetex']     = True\n",
    "pl.rcParams['axes.linewidth']  = 1.5\n",
    "pl.rcParams['axes.titlesize']  = 'medium'\n",
    "pl.rcParams['axes.labelsize']  = 'medium'\n",
    "\n",
    "pl.rcParams['xtick.major.size'] = 8     \n",
    "pl.rcParams['xtick.minor.size'] = 4     \n",
    "pl.rcParams['xtick.major.pad']  = 8     \n",
    "pl.rcParams['xtick.minor.pad']  = 8     \n",
    "pl.rcParams['xtick.color']      = 'k'     \n",
    "pl.rcParams['xtick.labelsize']  = 'medium'\n",
    "pl.rcParams['xtick.direction']  = 'in'    \n",
    "\n",
    "pl.rcParams['ytick.major.size'] = 8     \n",
    "pl.rcParams['ytick.minor.size'] = 4     \n",
    "pl.rcParams['ytick.major.pad']  = 8     \n",
    "pl.rcParams['ytick.minor.pad']  = 8     \n",
    "pl.rcParams['ytick.color']      = 'k'     \n",
    "pl.rcParams['ytick.labelsize']  = 'medium'\n",
    "pl.rcParams['ytick.direction']  = 'in' "
   ]
  },
  {
   "cell_type": "code",
   "execution_count": 9,
   "metadata": {
    "collapsed": true
   },
   "outputs": [],
   "source": [
    "# Setting velocity and spatial grid points\n",
    "N_positions = 8\n",
    "ghost_zones = 3\n",
    "N_velocity  = 201"
   ]
  },
  {
   "cell_type": "code",
   "execution_count": 10,
   "metadata": {
    "collapsed": true
   },
   "outputs": [],
   "source": [
    "# Boundaries of domain\n",
    "left_boundary  = 0\n",
    "right_boundary = 1.0\n",
    "length         = right_boundary - left_boundary"
   ]
  },
  {
   "cell_type": "code",
   "execution_count": 11,
   "metadata": {
    "collapsed": true
   },
   "outputs": [],
   "source": [
    "# Setting mass of the particle, boltzmann-constant\n",
    "mass_particle      = 1.0\n",
    "boltzmann_constant = 1.0"
   ]
  },
  {
   "cell_type": "code",
   "execution_count": 12,
   "metadata": {
    "collapsed": true
   },
   "outputs": [],
   "source": [
    "# Scattering time scale\n",
    "tau   = 1.0\n",
    "# Magnitude of maximum velocity\n",
    "v_max = 10"
   ]
  },
  {
   "cell_type": "code",
   "execution_count": 13,
   "metadata": {
    "collapsed": true
   },
   "outputs": [],
   "source": [
    "# Time Parameters for the simulation:\n",
    "dt         = 0.01 # Size of the time-step\n",
    "final_time = 1.0\n",
    "time       = np.arange(dt, final_time, dt)"
   ]
  },
  {
   "cell_type": "code",
   "execution_count": 14,
   "metadata": {
    "collapsed": true
   },
   "outputs": [],
   "source": [
    "# Setting up the temperature parameters for the simulations:\n",
    "T_initial = 1.0"
   ]
  },
  {
   "cell_type": "code",
   "execution_count": 15,
   "metadata": {
    "collapsed": true
   },
   "outputs": [],
   "source": [
    "# Setting up of spatial and velocity grids:\n",
    "x  = np.linspace(left_boundary, right_boundary, N_positions)\n",
    "dx = x[1] - x[0]"
   ]
  },
  {
   "cell_type": "code",
   "execution_count": 16,
   "metadata": {
    "collapsed": true
   },
   "outputs": [],
   "source": [
    "# Obtaining the coordinates for the ghost-zones:\n",
    "x_ghost_left  = np.linspace(-(ghost_zones)*dx + left_boundary, left_boundary - dx, ghost_zones)\n",
    "x_ghost_right = np.linspace(right_boundary + dx, right_boundary + ghost_zones*dx , ghost_zones)"
   ]
  },
  {
   "cell_type": "code",
   "execution_count": 17,
   "metadata": {
    "collapsed": true
   },
   "outputs": [],
   "source": [
    "# Combining them to obtain the entire spatial grid\n",
    "x  = np.concatenate([x_ghost_left, x, x_ghost_right])"
   ]
  },
  {
   "cell_type": "code",
   "execution_count": 18,
   "metadata": {
    "collapsed": false
   },
   "outputs": [],
   "source": [
    "# Obtaining the velocity grid\n",
    "v  = np.linspace(-v_max, v_max, N_velocity)"
   ]
  },
  {
   "cell_type": "code",
   "execution_count": 19,
   "metadata": {
    "collapsed": true
   },
   "outputs": [],
   "source": [
    "# Conversion to allow for easy vectorization\n",
    "x = x * np.ones([N_velocity , N_positions + 2*ghost_zones])\n",
    "v = v * np.ones([N_positions + 2*ghost_zones, N_velocity])\n",
    "v = np.transpose(v)"
   ]
  },
  {
   "cell_type": "code",
   "execution_count": 20,
   "metadata": {
    "collapsed": false
   },
   "outputs": [],
   "source": [
    "def calculate_density(f, v):\n",
    "    deltav           = v[1, 0]-v[0, 0]\n",
    "    value_of_density = np.sum(f, axis = 0)*deltav\n",
    "    return(value_of_density)"
   ]
  },
  {
   "cell_type": "code",
   "execution_count": 21,
   "metadata": {
    "collapsed": true
   },
   "outputs": [],
   "source": [
    "def calculate_temperature(f, v):\n",
    "    deltav               = v[1, 0]-v[0, 0]\n",
    "    value_of_temperature = np.sum(f*v**2, axis = 0)*deltav\n",
    "    return(value_of_temperature)"
   ]
  },
  {
   "cell_type": "code",
   "execution_count": 22,
   "metadata": {
    "collapsed": true
   },
   "outputs": [],
   "source": [
    "def f_MB(x, v, f):\n",
    "    n = calculate_density(f, v) * np.ones([N_velocity, N_positions + 2*ghost_zones])\n",
    "    T = calculate_temperature(f, v) * np.ones([N_velocity, N_positions + 2*ghost_zones])\n",
    "    f_MB = n*np.sqrt(mass_particle/(2*np.pi*boltzmann_constant*T))*\\\n",
    "             np.exp(-mass_particle*v**2/(2*boltzmann_constant*T))\n",
    "    return(f_MB)"
   ]
  },
  {
   "cell_type": "code",
   "execution_count": 23,
   "metadata": {
    "collapsed": true
   },
   "outputs": [],
   "source": [
    "def f_interp(dt, x, v, f):\n",
    "    x_new     = x - v*(dt)\n",
    "    f_interp  = np.zeros([N_velocity, N_positions + 2*ghost_zones])\n",
    "\n",
    "    for i in range(N_velocity):\n",
    "        left_indices   = np.where(x_new[i, ghost_zones:-ghost_zones]<=left_boundary)[0]\n",
    "        right_indices  = np.where(x_new[i, ghost_zones:-ghost_zones]>=right_boundary)[0]\n",
    "        wall_indices   = np.concatenate([left_indices, right_indices])\n",
    "        all_indices    = np.arange(N_positions)\n",
    "        indices_domain = np.delete(all_indices, wall_indices)\n",
    "        \n",
    "        interpolated_function                     = interp1d(x[i, :], f[i, :], 'cubic')\n",
    "        f_interp[i, ghost_zones + indices_domain] = interpolated_function(x_new[i, ghost_zones + indices_domain])\n",
    "    \n",
    "        # Implementation of periodic B.C's\n",
    "        for j in left_indices:\n",
    "            while(x_new[i, j + ghost_zones]<left_boundary):\n",
    "                x_new[i, j + ghost_zones] = x_new[i, j + ghost_zones] + length\n",
    "\n",
    "        for j in right_indices:\n",
    "            while(x_new[i, j + ghost_zones]>right_boundary):\n",
    "                x_new[i, j + ghost_zones] = x_new[i, j + ghost_zones] - length\n",
    "\n",
    "        for j in left_indices:\n",
    "            f_interp[i, j + ghost_zones] = interpolated_function(x_new[i, j + ghost_zones])\n",
    "\n",
    "        for j in right_indices:\n",
    "            f_interp[i, j + ghost_zones] = interpolated_function(x_new[i, j + ghost_zones])\n",
    "\n",
    "    return f_interp"
   ]
  },
  {
   "cell_type": "code",
   "execution_count": 24,
   "metadata": {
    "collapsed": false
   },
   "outputs": [],
   "source": [
    "# Intializing the values for rho with a sinusoidal perturbation\n",
    "X                                                          = np.zeros(N_positions + 2*ghost_zones)\n",
    "X[ghost_zones:-ghost_zones]                                = np.linspace(0, 2*np.pi, N_positions)\n",
    "Y                                                          = 0.1*np.sin(X) + 1\n",
    "Y[:ghost_zones]                                            = Y[(N_positions - 1):(N_positions + ghost_zones - 1)]\n",
    "Y[N_positions + ghost_zones:N_positions + 2 * ghost_zones] = Y[(ghost_zones + 1):(1 + 2*ghost_zones)]\n",
    "\n",
    "rho_init = Y\n",
    "rho_init = rho_init * np.ones([N_velocity , N_positions + 2*ghost_zones])"
   ]
  },
  {
   "cell_type": "code",
   "execution_count": 25,
   "metadata": {
    "collapsed": true
   },
   "outputs": [],
   "source": [
    "# Initializing the initial distribution function:\n",
    "f_initial = rho_init * np.sqrt(mass_particle/(2*np.pi*boltzmann_constant*T_initial)) * \\\n",
    "                       np.exp(-mass_particle*v**2/(2*boltzmann_constant*T_initial))"
   ]
  },
  {
   "cell_type": "code",
   "execution_count": 26,
   "metadata": {
    "collapsed": true
   },
   "outputs": [],
   "source": [
    "# Initializing the value of f_current for running the simulation:\n",
    "f_current = f_initial"
   ]
  },
  {
   "cell_type": "code",
   "execution_count": 27,
   "metadata": {
    "collapsed": true
   },
   "outputs": [],
   "source": [
    "# Declaring a variable which will store the maximum values of density:\n",
    "rho_max = np.zeros(time.size)"
   ]
  },
  {
   "cell_type": "code",
   "execution_count": 28,
   "metadata": {
    "collapsed": false,
    "scrolled": true
   },
   "outputs": [
    {
     "name": "stdout",
     "output_type": "stream",
     "text": [
      "Computing For Time Index =  0\n",
      "Computing For Time Index =  1\n",
      "Computing For Time Index =  2\n",
      "Computing For Time Index =  3\n",
      "Computing For Time Index =  4\n",
      "Computing For Time Index =  5\n",
      "Computing For Time Index =  6\n",
      "Computing For Time Index =  7\n",
      "Computing For Time Index =  8\n",
      "Computing For Time Index =  9\n",
      "Computing For Time Index =  10\n",
      "Computing For Time Index =  11\n",
      "Computing For Time Index =  12\n",
      "Computing For Time Index =  13\n",
      "Computing For Time Index =  14\n",
      "Computing For Time Index =  15\n",
      "Computing For Time Index =  16\n",
      "Computing For Time Index =  17\n",
      "Computing For Time Index =  18\n"
     ]
    }
   ],
   "source": [
    "for time_index, t0 in enumerate(time):\n",
    "\n",
    "    print(\"Computing For Time Index = \", time_index)\n",
    "    # print(\"Physical Time            = \", t0)\n",
    "\n",
    "    # We shall split the Boltzmann-Equation and solve it:\n",
    "    # In this step we are solving the collisionless equation\n",
    "    fstar = f_interp(dt, x, v, f_current)\n",
    "    fstar[:, :ghost_zones] = fstar[:, (N_positions - 1):(N_positions + ghost_zones - 1)]\n",
    "    fstar[:, N_positions + ghost_zones:N_positions + 2 * ghost_zones] = fstar[:, (ghost_zones + 1):(1 + 2*ghost_zones)]\n",
    "\n",
    "    # We turn off the term v(df/dx) for the following two steps\n",
    "    #f0             = f_MB(x, v, fstar)\n",
    "    #f_intermediate = fstar - (dt/2)*(fstar          - f0)/tau\n",
    "    \n",
    "    #f_intermediate[:, :ghost_zones] = f_intermediate[:, (N_positions - 1):(N_positions + ghost_zones - 1)]\n",
    "    #f_intermediate[:, N_positions + ghost_zones:N_positions + 2 * ghost_zones] = f_intermediate[:, (ghost_zones + 1):(1 + 2*ghost_zones)]\n",
    "    \n",
    "    #f_new          = fstar - (dt)  *(f_intermediate - f0)/tau\n",
    "    \n",
    "    # Implementation of periodic B.C's:\n",
    "    #f_new[:, :ghost_zones] = f_new[:, (N_positions - 1):(N_positions + ghost_zones - 1)]\n",
    "    #f_new[:, N_positions + ghost_zones:N_positions + 2 * ghost_zones] = f_new[:, (ghost_zones + 1):(1 + 2*ghost_zones)]\n",
    "    f_current = fstar\n",
    "    rho_max[time_index] = np.max(abs(calculate_density(f_current, v)))"
   ]
  },
  {
   "cell_type": "code",
   "execution_count": 29,
   "metadata": {
    "collapsed": false
   },
   "outputs": [],
   "source": [
    "N  = 512\n",
    "Nt = 100\n",
    "dx = 1./N\n",
    "i  = np.arange(0, N, 1)\n",
    "x  = (i + 0.5)*dx\n",
    "tFinal  = 1.\n",
    "t  = np.linspace(0, tFinal, Nt)\n",
    "\n",
    "amplitude   = 0.1\n",
    "k           = 2*np.pi\n",
    "theta0      = T_initial\n",
    "rho0        = 1.0\n",
    "\n",
    "def rhoInit(x):\n",
    "    return rho0 + amplitude*np.sin(k*x)\n",
    "\n",
    "def thetaInit(x):\n",
    "    return theta0\n",
    "\n",
    "thetaInit = np.vectorize(thetaInit)"
   ]
  },
  {
   "cell_type": "code",
   "execution_count": 30,
   "metadata": {
    "collapsed": true
   },
   "outputs": [],
   "source": [
    "def f0(v, x):    \n",
    "    rho   = rhoInit(x)\n",
    "    theta = thetaInit(x)\n",
    "    \n",
    "    m = 1.\n",
    "    k = 1.\n",
    "        \n",
    "    return rho * (m/(2*np.pi*k*theta))**(1./2.) * np.exp(-m*v**2./(2.*k*theta))\n",
    "\n",
    "def f(v, x, t):\n",
    "\n",
    "    return f0(v, x - v*t)\n",
    "\n",
    "def rhoIntegrand(v, x, t):\n",
    "\n",
    "    integralMeasure = 1.0\n",
    "    \n",
    "    return integralMeasure * f(v, x, t)"
   ]
  },
  {
   "cell_type": "code",
   "execution_count": 31,
   "metadata": {
    "collapsed": false
   },
   "outputs": [
    {
     "data": {
      "text/plain": [
       "[<matplotlib.lines.Line2D at 0x7f20fcd44fd0>]"
      ]
     },
     "execution_count": 31,
     "metadata": {},
     "output_type": "execute_result"
    },
    {
     "data": {
      "image/png": "[encoded data removed]",
      "text/plain": [
       "<matplotlib.figure.Figure at 0x7f20fcd62908>"
      ]
     },
     "metadata": {},
     "output_type": "display_data"
    }
   ],
   "source": [
    "pl.plot(x, rhoInit(x))"
   ]
  },
  {
   "cell_type": "code",
   "execution_count": 32,
   "metadata": {
    "collapsed": false
   },
   "outputs": [
    {
     "name": "stdout",
     "output_type": "stream",
     "text": [
      "n =  0\n",
      "n =  1\n",
      "n =  2\n",
      "n =  3\n",
      "n =  4\n",
      "n =  5\n",
      "n =  6\n",
      "n =  7\n"
     ]
    },
    {
     "name": "stderr",
     "output_type": "stream",
     "text": [
      "/home/hyperion/anaconda3/lib/python3.5/site-packages/ipykernel/__main__.py:5: VisibleDeprecationWarning: using a non-integer number instead of an integer will result in an error in the future\n"
     ]
    },
    {
     "name": "stdout",
     "output_type": "stream",
     "text": [
      "n =  8\n",
      "n =  9\n",
      "n =  10\n",
      "n =  11\n",
      "n =  12\n",
      "n =  13\n",
      "n =  14\n",
      "n =  15\n",
      "n =  16\n",
      "n =  17\n",
      "n =  18\n",
      "n =  19\n",
      "n =  20\n",
      "n =  21\n",
      "n =  22\n",
      "n =  23\n",
      "n =  24\n",
      "n =  25\n",
      "n =  26\n",
      "n =  27\n",
      "n =  28\n",
      "n =  29\n",
      "n =  30\n",
      "n =  31\n",
      "n =  32\n",
      "n =  33\n",
      "n =  34\n",
      "n =  35\n",
      "n =  36\n",
      "n =  37\n",
      "n =  38\n",
      "n =  39\n",
      "n =  40\n",
      "n =  41\n",
      "n =  42\n",
      "n =  43\n",
      "n =  44\n",
      "n =  45\n",
      "n =  46\n",
      "n =  47\n",
      "n =  48\n",
      "n =  49\n",
      "n =  50\n",
      "n =  51\n",
      "n =  52\n",
      "n =  53\n",
      "n =  54\n",
      "n =  55\n",
      "n =  56\n",
      "n =  57\n",
      "n =  58\n",
      "n =  59\n",
      "n =  60\n",
      "n =  61\n",
      "n =  62\n",
      "n =  63\n",
      "n =  64\n",
      "n =  65\n",
      "n =  66\n",
      "n =  67\n",
      "n =  68\n",
      "n =  69\n",
      "n =  70\n",
      "n =  71\n",
      "n =  72\n",
      "n =  73\n",
      "n =  74\n",
      "n =  75\n",
      "n =  76\n",
      "n =  77\n",
      "n =  78\n",
      "n =  79\n",
      "n =  80\n",
      "n =  81\n",
      "n =  82\n",
      "n =  83\n",
      "n =  84\n",
      "n =  85\n",
      "n =  86\n",
      "n =  87\n",
      "n =  88\n",
      "n =  89\n",
      "n =  90\n",
      "n =  91\n",
      "n =  92\n",
      "n =  93\n",
      "n =  94\n",
      "n =  95\n",
      "n =  96\n",
      "n =  97\n",
      "n =  98\n",
      "n =  99\n",
      "n =  100\n",
      "n =  101\n",
      "n =  102\n",
      "n =  103\n",
      "n =  104\n",
      "n =  105\n",
      "n =  106\n",
      "n =  107\n",
      "n =  108\n",
      "n =  109\n",
      "n =  110\n",
      "n =  111\n",
      "n =  112\n",
      "n =  113\n",
      "n =  114\n",
      "n =  115\n",
      "n =  116\n",
      "n =  117\n",
      "n =  118\n",
      "n =  119\n",
      "n =  120\n",
      "n =  121\n",
      "n =  122\n",
      "n =  123\n",
      "n =  124\n",
      "n =  125\n",
      "n =  126\n",
      "n =  127\n",
      "n =  128\n",
      "n =  129\n",
      "n =  130\n",
      "n =  131\n",
      "n =  132\n",
      "n =  133\n",
      "n =  134\n",
      "n =  135\n",
      "n =  136\n",
      "n =  137\n",
      "n =  138\n",
      "n =  139\n",
      "n =  140\n",
      "n =  141\n",
      "n =  142\n",
      "n =  143\n",
      "n =  144\n",
      "n =  145\n",
      "n =  146\n",
      "n =  147\n",
      "n =  148\n",
      "n =  149\n",
      "n =  150\n",
      "n =  151\n",
      "n =  152\n",
      "n =  153\n",
      "n =  154\n",
      "n =  155\n",
      "n =  156\n",
      "n =  157\n",
      "n =  158\n",
      "n =  159\n",
      "n =  160\n",
      "n =  161\n",
      "n =  162\n",
      "n =  163\n",
      "n =  164\n",
      "n =  165\n",
      "n =  166\n",
      "n =  167\n",
      "n =  168\n",
      "n =  169\n",
      "n =  170\n",
      "n =  171\n",
      "n =  172\n",
      "n =  173\n",
      "n =  174\n",
      "n =  175\n",
      "n =  176\n",
      "n =  177\n",
      "n =  178\n",
      "n =  179\n",
      "n =  180\n",
      "n =  181\n",
      "n =  182\n",
      "n =  183\n",
      "n =  184\n",
      "n =  185\n",
      "n =  186\n",
      "n =  187\n",
      "n =  188\n",
      "n =  189\n",
      "n =  190\n",
      "n =  191\n",
      "n =  192\n",
      "n =  193\n",
      "n =  194\n",
      "n =  195\n",
      "n =  196\n",
      "n =  197\n",
      "n =  198\n",
      "n =  199\n",
      "n =  200\n",
      "n =  201\n",
      "n =  202\n",
      "n =  203\n",
      "n =  204\n",
      "n =  205\n",
      "n =  206\n",
      "n =  207\n",
      "n =  208\n",
      "n =  209\n",
      "n =  210\n",
      "n =  211\n",
      "n =  212\n",
      "n =  213\n",
      "n =  214\n",
      "n =  215\n",
      "n =  216\n",
      "n =  217\n",
      "n =  218\n",
      "n =  219\n",
      "n =  220\n",
      "n =  221\n",
      "n =  222\n",
      "n =  223\n",
      "n =  224\n",
      "n =  225\n",
      "n =  226\n",
      "n =  227\n",
      "n =  228\n",
      "n =  229\n",
      "n =  230\n",
      "n =  231\n",
      "n =  232\n",
      "n =  233\n",
      "n =  234\n",
      "n =  235\n",
      "n =  236\n",
      "n =  237\n",
      "n =  238\n",
      "n =  239\n",
      "n =  240\n",
      "n =  241\n",
      "n =  242\n",
      "n =  243\n",
      "n =  244\n",
      "n =  245\n",
      "n =  246\n",
      "n =  247\n",
      "n =  248\n",
      "n =  249\n",
      "n =  250\n",
      "n =  251\n",
      "n =  252\n",
      "n =  253\n",
      "n =  254\n",
      "n =  255\n",
      "n =  256\n",
      "n =  257\n",
      "n =  258\n",
      "n =  259\n",
      "n =  260\n",
      "n =  261\n",
      "n =  262\n",
      "n =  263\n",
      "n =  264\n",
      "n =  265\n",
      "n =  266\n",
      "n =  267\n",
      "n =  268\n",
      "n =  269\n",
      "n =  270\n",
      "n =  271\n",
      "n =  272\n",
      "n =  273\n",
      "n =  274\n",
      "n =  275\n",
      "n =  276\n",
      "n =  277\n",
      "n =  278\n",
      "n =  279\n",
      "n =  280\n",
      "n =  281\n",
      "n =  282\n",
      "n =  283\n",
      "n =  284\n",
      "n =  285\n",
      "n =  286\n",
      "n =  287\n",
      "n =  288\n",
      "n =  289\n",
      "n =  290\n",
      "n =  291\n",
      "n =  292\n",
      "n =  293\n",
      "n =  294\n",
      "n =  295\n",
      "n =  296\n",
      "n =  297\n",
      "n =  298\n",
      "n =  299\n",
      "n =  300\n",
      "n =  301\n",
      "n =  302\n",
      "n =  303\n",
      "n =  304\n",
      "n =  305\n",
      "n =  306\n",
      "n =  307\n",
      "n =  308\n",
      "n =  309\n",
      "n =  310\n",
      "n =  311\n",
      "n =  312\n",
      "n =  313\n",
      "n =  314\n",
      "n =  315\n",
      "n =  316\n",
      "n =  317\n",
      "n =  318\n",
      "n =  319\n",
      "n =  320\n",
      "n =  321\n",
      "n =  322\n",
      "n =  323\n",
      "n =  324\n",
      "n =  325\n",
      "n =  326\n",
      "n =  327\n",
      "n =  328\n",
      "n =  329\n",
      "n =  330\n",
      "n =  331\n",
      "n =  332\n",
      "n =  333\n",
      "n =  334\n",
      "n =  335\n",
      "n =  336\n",
      "n =  337\n",
      "n =  338\n",
      "n =  339\n",
      "n =  340\n",
      "n =  341\n",
      "n =  342\n",
      "n =  343\n",
      "n =  344\n",
      "n =  345\n",
      "n =  346\n",
      "n =  347\n",
      "n =  348\n",
      "n =  349\n",
      "n =  350\n",
      "n =  351\n",
      "n =  352\n",
      "n =  353\n",
      "n =  354\n",
      "n =  355\n",
      "n =  356\n",
      "n =  357\n",
      "n =  358\n",
      "n =  359\n",
      "n =  360\n",
      "n =  361\n",
      "n =  362\n",
      "n =  363\n",
      "n =  364\n",
      "n =  365\n",
      "n =  366\n",
      "n =  367\n",
      "n =  368\n",
      "n =  369\n",
      "n =  370\n",
      "n =  371\n",
      "n =  372\n",
      "n =  373\n",
      "n =  374\n",
      "n =  375\n",
      "n =  376\n",
      "n =  377\n",
      "n =  378\n",
      "n =  379\n",
      "n =  380\n",
      "n =  381\n",
      "n =  382\n",
      "n =  383\n",
      "n =  384\n",
      "n =  385\n",
      "n =  386\n",
      "n =  387\n",
      "n =  388\n",
      "n =  389\n",
      "n =  390\n",
      "n =  391\n",
      "n =  392\n",
      "n =  393\n",
      "n =  394\n",
      "n =  395\n",
      "n =  396\n",
      "n =  397\n",
      "n =  398\n",
      "n =  399\n"
     ]
    }
   ],
   "source": [
    "gridPoint = N/4\n",
    "solnVst = np.zeros(Nt)\n",
    "for n in range(Nt):\n",
    "    #print (\"n = \", n)\n",
    "    integral = quad(rhoIntegrand, -np.inf, np.inf, args=(x[gridPoint], t[n]))\n",
    "    solnVst[n]  = integral[0]"
   ]
  },
  {
   "cell_type": "code",
   "execution_count": 33,
   "metadata": {
    "collapsed": false
   },
   "outputs": [
    {
     "data": {
      "text/plain": [
       "<matplotlib.legend.Legend at 0x7f20cd68b978>"
      ]
     },
     "execution_count": 33,
     "metadata": {},
     "output_type": "execute_result"
    },
    {
     "data": {
      "image/png": "[encoded data removed]",
      "text/plain": [
       "<matplotlib.figure.Figure at 0x7f20cd302f60>"
      ]
     },
     "metadata": {},
     "output_type": "display_data"
    }
   ],
   "source": [
    "pl.plot(t, np.abs(solnVst - rho0), label='Analytical')\n",
    "pl.plot(time, np.abs(rho_max - 1), label='Numerical')\n",
    "pl.legend()"
   ]
  },
  {
   "cell_type": "code",
   "execution_count": null,
   "metadata": {
    "collapsed": true
   },
   "outputs": [],
   "source": []
  }
 ],
 "metadata": {
  "anaconda-cloud": {},
  "kernelspec": {
   "display_name": "Python [default]",
   "language": "python",
   "name": "python3"
  },
  "language_info": {
   "codemirror_mode": {
    "name": "ipython",
    "version": 3
   },
   "file_extension": ".py",
   "mimetype": "text/x-python",
   "name": "python",
   "nbconvert_exporter": "python",
   "pygments_lexer": "ipython3",
   "version": "3.5.2"
  }
 },
 "nbformat": 4,
 "nbformat_minor": 1
}
