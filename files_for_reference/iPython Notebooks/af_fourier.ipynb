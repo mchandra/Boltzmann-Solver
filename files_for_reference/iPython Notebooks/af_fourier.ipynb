{
 "cells": [
  {
   "cell_type": "code",
   "execution_count": 460,
   "metadata": {
    "collapsed": true
   },
   "outputs": [],
   "source": [
    "import numpy as np\n",
    "import pylab as pl\n",
    "import arrayfire as af\n",
    "af.set_backend(\"cpu\")\n",
    "%matplotlib inline"
   ]
  },
  {
   "cell_type": "code",
   "execution_count": 461,
   "metadata": {
    "collapsed": true
   },
   "outputs": [],
   "source": [
    "pl.rcParams['figure.figsize']  = 12, 7.5\n",
    "pl.rcParams['lines.linewidth'] = 1.5\n",
    "pl.rcParams['font.family']     = 'serif'\n",
    "pl.rcParams['font.weight']     = 'bold'\n",
    "pl.rcParams['font.size']       = 20  \n",
    "pl.rcParams['font.sans-serif'] = 'serif'\n",
    "pl.rcParams['text.usetex']     = True\n",
    "pl.rcParams['axes.linewidth']  = 1.5\n",
    "pl.rcParams['axes.titlesize']  = 'medium'\n",
    "pl.rcParams['axes.labelsize']  = 'medium'\n",
    "\n",
    "pl.rcParams['xtick.major.size'] = 8     \n",
    "pl.rcParams['xtick.minor.size'] = 4     \n",
    "pl.rcParams['xtick.major.pad']  = 8     \n",
    "pl.rcParams['xtick.minor.pad']  = 8     \n",
    "pl.rcParams['xtick.color']      = 'k'     \n",
    "pl.rcParams['xtick.labelsize']  = 'medium'\n",
    "pl.rcParams['xtick.direction']  = 'in'    \n",
    "\n",
    "pl.rcParams['ytick.major.size'] = 8     \n",
    "pl.rcParams['ytick.minor.size'] = 4     \n",
    "pl.rcParams['ytick.major.pad']  = 8     \n",
    "pl.rcParams['ytick.minor.pad']  = 8     \n",
    "pl.rcParams['ytick.color']      = 'k'     \n",
    "pl.rcParams['ytick.labelsize']  = 'medium'\n",
    "pl.rcParams['ytick.direction']  = 'in'  "
   ]
  },
  {
   "cell_type": "code",
   "execution_count": 462,
   "metadata": {
    "collapsed": true
   },
   "outputs": [],
   "source": [
    "# Setting velocity and spatial grid points\n",
    "N_positions = 101\n",
    "ghost_zones = 3\n",
    "N_velocity  = 101"
   ]
  },
  {
   "cell_type": "code",
   "execution_count": 463,
   "metadata": {
    "collapsed": true
   },
   "outputs": [],
   "source": [
    "# Boundaries of domain\n",
    "left_boundary  = 0\n",
    "right_boundary = 1.0\n",
    "length         = right_boundary - left_boundary"
   ]
  },
  {
   "cell_type": "code",
   "execution_count": 464,
   "metadata": {
    "collapsed": true
   },
   "outputs": [],
   "source": [
    "# Setting mass of the particle, boltzmann-constant\n",
    "mass_particle      = 1.0\n",
    "boltzmann_constant = 1.0"
   ]
  },
  {
   "cell_type": "code",
   "execution_count": 465,
   "metadata": {
    "collapsed": true
   },
   "outputs": [],
   "source": [
    "# Scattering time scale\n",
    "tau   = 1\n",
    "# Magnitude of maximum velocity\n",
    "v_max = 10.0"
   ]
  },
  {
   "cell_type": "code",
   "execution_count": 466,
   "metadata": {
    "collapsed": true
   },
   "outputs": [],
   "source": [
    "# Time Parameters for the simulation:\n",
    "dt         = 0.05 # Size of the time-step\n",
    "final_time = 2.0\n",
    "time       = np.arange(dt, final_time, dt)"
   ]
  },
  {
   "cell_type": "code",
   "execution_count": 467,
   "metadata": {
    "collapsed": false
   },
   "outputs": [],
   "source": [
    "# Setting up the temperature parameters for the simulations:\n",
    "T_left   = 1.0\n",
    "T_right  = 1.1\n",
    "T_initial = 1.0"
   ]
  },
  {
   "cell_type": "code",
   "execution_count": 468,
   "metadata": {
    "collapsed": false
   },
   "outputs": [],
   "source": [
    "# Setting up of spatial and velocity grids:\n",
    "x  = np.linspace(left_boundary, right_boundary, N_positions)\n",
    "dx = x[1] - x[0]"
   ]
  },
  {
   "cell_type": "code",
   "execution_count": 469,
   "metadata": {
    "collapsed": true
   },
   "outputs": [],
   "source": [
    "# Obtaining the coordinates for the ghost-zones:\n",
    "x_ghost_left  = np.linspace(-(ghost_zones)*dx + left_boundary, left_boundary - dx, ghost_zones)\n",
    "x_ghost_right = np.linspace(right_boundary + dx, right_boundary + ghost_zones*dx , ghost_zones)"
   ]
  },
  {
   "cell_type": "code",
   "execution_count": 470,
   "metadata": {
    "collapsed": true
   },
   "outputs": [],
   "source": [
    "# Combining them to obtain the entire spatial grid\n",
    "x  = np.concatenate([x_ghost_left, x, x_ghost_right])"
   ]
  },
  {
   "cell_type": "code",
   "execution_count": 471,
   "metadata": {
    "collapsed": false
   },
   "outputs": [],
   "source": [
    "# Obtaining the velocity grid\n",
    "v  = np.linspace(-v_max, v_max, N_velocity)\n",
    "x  = af.to_array(x)\n",
    "v  = af.to_array(v)"
   ]
  },
  {
   "cell_type": "code",
   "execution_count": 472,
   "metadata": {
    "collapsed": false
   },
   "outputs": [],
   "source": [
    "# Conversion to allow for easy vectorization\n",
    "x = af.tile(x, 1, N_velocity)\n",
    "v = af.tile(af.reorder(v), N_positions + 2*ghost_zones, 1)"
   ]
  },
  {
   "cell_type": "code",
   "execution_count": 473,
   "metadata": {
    "collapsed": true
   },
   "outputs": [],
   "source": [
    "def calculate_density(f, v):\n",
    "    deltav           = af.sum(v[0, 1]-v[0, 0])\n",
    "    value_of_density = af.sum(f, 1)*deltav\n",
    "    return(value_of_density)"
   ]
  },
  {
   "cell_type": "code",
   "execution_count": 474,
   "metadata": {
    "collapsed": true
   },
   "outputs": [],
   "source": [
    "def calculate_temperature(f, v):\n",
    "    deltav               = af.sum(v[0, 1]-v[0, 0])\n",
    "    value_of_temperature = af.sum(f*v**2, 1)*deltav\n",
    "    return(value_of_temperature)"
   ]
  },
  {
   "cell_type": "code",
   "execution_count": 475,
   "metadata": {
    "collapsed": true
   },
   "outputs": [],
   "source": [
    "def calculate_heatflux(f, v):\n",
    "    deltav               = af.sum(v[0, 1]-v[0, 0])\n",
    "    value_of_heatflux    = af.sum(f*v**3, 1)*deltav\n",
    "    return(value_of_heatflux)"
   ]
  },
  {
   "cell_type": "code",
   "execution_count": 476,
   "metadata": {
    "collapsed": true
   },
   "outputs": [],
   "source": [
    "def f_MB(x, v, f):\n",
    "    n = af.tile(calculate_density(f, v), 1, N_velocity)\n",
    "    T = af.tile(calculate_temperature(f, v), 1, N_velocity)\n",
    "    f_MB = n*af.sqrt(mass_particle/(2*np.pi*boltzmann_constant*T))*\\\n",
    "             af.exp(-mass_particle*v**2/(2*boltzmann_constant*T))\n",
    "    return(f_MB)\n"
   ]
  },
  {
   "cell_type": "code",
   "execution_count": 477,
   "metadata": {
    "collapsed": true
   },
   "outputs": [],
   "source": [
    "def f_interp(dt, x, v, f):\n",
    "    x_new     = x - v*dt\n",
    "    step_size = af.sum(x[1,0] - x[0,0])\n",
    "    f_inter   = af.constant(0, N_positions + 2*ghost_zones, N_velocity)\n",
    "    f_inter[ghost_zones:-ghost_zones,:] = af.approx1(f, (x_new[ghost_zones:-ghost_zones,:]/step_size), af.INTERP.CUBIC)\n",
    "    \n",
    "    f_inter   = af.Array.as_type(f_inter, af.Dtype.f64)\n",
    "    \n",
    "    f_left    = np.sqrt(mass_particle/(2*np.pi*boltzmann_constant*T_left))*\\\n",
    "                af.exp(-mass_particle*v**2/(2*boltzmann_constant*T_left))\n",
    "    \n",
    "    f_right   = np.sqrt(mass_particle/(2*np.pi*boltzmann_constant*T_right))*\\\n",
    "                af.exp(-mass_particle*v**2/(2*boltzmann_constant*T_right))\n",
    "    \n",
    "    f_inter[ghost_zones:-ghost_zones,:] = af.select(x_new[ghost_zones:-ghost_zones, :]<=left_boundary, \\\n",
    "                                                     f_left[ghost_zones:-ghost_zones,:], \\\n",
    "                                                     f_inter[ghost_zones:-ghost_zones,:]\n",
    "                                                    )\n",
    "    \n",
    "    f_inter[ghost_zones:-ghost_zones,:] = af.select(x_new[ghost_zones:-ghost_zones, :]>=right_boundary, \\\n",
    "                                                     f_right[ghost_zones:-ghost_zones,:], \\\n",
    "                                                     f_inter[ghost_zones:-ghost_zones,:]\n",
    "                                                    )\n",
    "    \n",
    "    return f_inter\n"
   ]
  },
  {
   "cell_type": "code",
   "execution_count": 478,
   "metadata": {
    "collapsed": true
   },
   "outputs": [],
   "source": [
    "# Intializing the values for f\n",
    "f_initial = np.sqrt(mass_particle/(2*np.pi*boltzmann_constant*T_initial)) * \\\n",
    "            af.exp(-mass_particle*v**2/(2*boltzmann_constant*T_initial))"
   ]
  },
  {
   "cell_type": "code",
   "execution_count": 479,
   "metadata": {
    "collapsed": false
   },
   "outputs": [],
   "source": [
    "f_initial[:ghost_zones,:] = np.sqrt(mass_particle/(2*np.pi*boltzmann_constant*T_left)) * \\\n",
    "                            af.exp(-mass_particle*v[:ghost_zones, :]**2/(2*boltzmann_constant*T_left))\n",
    "    \n",
    "f_initial[N_positions + ghost_zones:N_positions + 2 * ghost_zones, :] = np.sqrt(mass_particle/(2*np.pi*boltzmann_constant*T_right)) * \\\n",
    "                                                                        af.exp(-mass_particle*v[:ghost_zones, :]**2/(2*boltzmann_constant*T_right))"
   ]
  },
  {
   "cell_type": "code",
   "execution_count": 480,
   "metadata": {
    "collapsed": false
   },
   "outputs": [],
   "source": [
    "f_current = f_initial\n",
    "sol2 = np.zeros(time.size)"
   ]
  },
  {
   "cell_type": "code",
   "execution_count": 481,
   "metadata": {
    "collapsed": false
   },
   "outputs": [],
   "source": [
    "for time_index, t0 in enumerate(time):\n",
    "    #print(\"Computing For Time Index = \", time_index)\n",
    "    #print(\"Physical Time            = \", t0)\n",
    "    # We shall split the Boltzmann-Equation and solve it:\n",
    "    # In this step we are solving the collisionless equation\n",
    "    fstar = f_interp(dt, x, v, f_current)\n",
    "    \n",
    "    fstar[:ghost_zones,:] = np.sqrt(mass_particle/(2*np.pi*boltzmann_constant*T_left)) * \\\n",
    "                            af.exp(-mass_particle*v[:ghost_zones, :]**2/(2*boltzmann_constant*T_left))\n",
    "    \n",
    "    fstar[N_positions + ghost_zones:N_positions + 2 * ghost_zones, :] = np.sqrt(mass_particle/(2*np.pi*boltzmann_constant*T_right)) * \\\n",
    "                                                                        af.exp(-mass_particle*v[:ghost_zones, :]**2/(2*boltzmann_constant*T_right))\n",
    "\n",
    "    # We turn off the term v(df/dx) for the following two steps\n",
    "    f0             = f_MB(x, v, fstar)\n",
    "    f_new          = f0 + (fstar - f0)*np.exp(-dt/tau)\n",
    "    \n",
    "    f_new[:ghost_zones,:] = np.sqrt(mass_particle/(2*np.pi*boltzmann_constant*T_left)) * \\\n",
    "                            af.exp(-mass_particle*v[:ghost_zones, :]**2/(2*boltzmann_constant*T_left))\n",
    "    \n",
    "    f_new[N_positions + ghost_zones:N_positions + 2 * ghost_zones, :] = np.sqrt(mass_particle/(2*np.pi*boltzmann_constant*T_right)) * \\\n",
    "                                                                        af.exp(-mass_particle*v[:ghost_zones, :]**2/(2*boltzmann_constant*T_right))\n",
    "\n",
    "\n",
    "    f_current = f_new\n",
    "    #f_current = fstar\n",
    "    temp      = calculate_temperature(f_current[ghost_zones:-ghost_zones, :], v[ghost_zones:-ghost_zones, :])\n",
    "    sol2[time_index] = af.sum(temp)/af.Array.elements(temp)"
   ]
  },
  {
   "cell_type": "code",
   "execution_count": 482,
   "metadata": {
    "collapsed": false
   },
   "outputs": [
    {
     "name": "stdout",
     "output_type": "stream",
     "text": [
      "[ 1.00662744  1.01116999  1.01570324  1.02018943  1.02463282  1.02897351\n",
      "  1.03305897  1.03672645  1.03986503  1.0424739   1.0446138   1.04633766\n",
      "  1.04765579  1.04876921  1.04957057  1.05027046  1.05075692  1.05114985\n",
      "  1.05148358  1.05171831  1.05188483  1.05202136  1.05213263  1.05222291\n",
      "  1.05227229  1.05230206  1.05232237  1.05233481  1.05234083  1.05234151\n",
      "  1.05233779  1.05233061  1.05231651  1.05229879  1.05228015  1.05226093\n",
      "  1.05224131  1.05222146  1.05220163]\n"
     ]
    },
    {
     "data": {
      "image/png": "[encoded data removed]",
      "text/plain": [
       "<matplotlib.figure.Figure at 0x7f0f785a55f8>"
      ]
     },
     "metadata": {},
     "output_type": "display_data"
    }
   ],
   "source": [
    "#flux = calculate_heatflux(f_current, v)\n",
    "#avg  = af.sum(flux[3:-3])/(N_positions)\n",
    "#print(avg)\n",
    "pl.plot(temp)\n",
    "print(sol2)"
   ]
  },
  {
   "cell_type": "code",
   "execution_count": 483,
   "metadata": {
    "collapsed": false
   },
   "outputs": [],
   "source": [
    "# deltaT = 0.1*np.arange(1, 11)\n",
    "# q_x = np.array([-0.0989624012124193,\\\n",
    "# -0.20331882890922767,\\\n",
    "# -0.31284980228686665,\\\n",
    "# -0.42736068843081526,\\\n",
    "# -0.5466773486686046,\\\n",
    "# -0.6706427765659095,\\\n",
    "# -0.7991144589476223,\\\n",
    "# -0.9319622727811506,\\\n",
    "# -1.069066789400572,\\\n",
    "# -1.2103178806008192 \\\n",
    "# ])"
   ]
  },
  {
   "cell_type": "code",
   "execution_count": 484,
   "metadata": {
    "collapsed": true
   },
   "outputs": [],
   "source": [
    "# deltaT = 0.01*np.arange(1, 11)\n",
    "# q_x = np.array([-1.80904584449086e-05,\\\n",
    "# -3.6349960261074263e-05,\\\n",
    "# -5.4778314018725176e-05,\\\n",
    "# -7.337533157176087e-05,\\\n",
    "# -9.214083556117072e-05,\\\n",
    "# -0.00011107464789662132,\\\n",
    "# -0.00013017658633379813,\\\n",
    "# -0.0001494464766615207,\\\n",
    "# -0.00016888414457364947,\\\n",
    "# -0.00018848941731804087\\\n",
    "# ])"
   ]
  },
  {
   "cell_type": "code",
   "execution_count": 485,
   "metadata": {
    "collapsed": false
   },
   "outputs": [],
   "source": [
    "# pl.plot(deltaT, q_x)\n",
    "# pl.xlabel('$\\Delta$T')\n",
    "# pl.ylabel('$q$')\n",
    "# pl.title('$\\mathrm{HeatFlux}$ $\\mathrm{vs}$ $\\Delta$T')"
   ]
  },
  {
   "cell_type": "code",
   "execution_count": null,
   "metadata": {
    "collapsed": true
   },
   "outputs": [],
   "source": []
  }
 ],
 "metadata": {
  "anaconda-cloud": {},
  "kernelspec": {
   "display_name": "Python [default]",
   "language": "python",
   "name": "python3"
  },
  "language_info": {
   "codemirror_mode": {
    "name": "ipython",
    "version": 3
   },
   "file_extension": ".py",
   "mimetype": "text/x-python",
   "name": "python",
   "nbconvert_exporter": "python",
   "pygments_lexer": "ipython3",
   "version": "3.5.2"
  }
 },
 "nbformat": 4,
 "nbformat_minor": 1
}
