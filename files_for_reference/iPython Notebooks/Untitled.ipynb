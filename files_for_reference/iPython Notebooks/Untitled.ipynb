{
 "cells": [
  {
   "cell_type": "code",
   "execution_count": 1,
   "metadata": {
    "collapsed": true
   },
   "outputs": [],
   "source": [
    "import numpy as np\n",
    "import pylab as pl\n",
    "%matplotlib inline"
   ]
  },
  {
   "cell_type": "code",
   "execution_count": 2,
   "metadata": {
    "collapsed": true
   },
   "outputs": [],
   "source": [
    "pl.rcParams['figure.figsize']  = 12, 7.5\n",
    "pl.rcParams['lines.linewidth'] = 1.5\n",
    "pl.rcParams['font.family']     = 'serif'\n",
    "pl.rcParams['font.weight']     = 'bold'\n",
    "pl.rcParams['font.size']       = 20  \n",
    "pl.rcParams['font.sans-serif'] = 'serif'\n",
    "pl.rcParams['text.usetex']     = True\n",
    "pl.rcParams['axes.linewidth']  = 1.5\n",
    "pl.rcParams['axes.titlesize']  = 'medium'\n",
    "pl.rcParams['axes.labelsize']  = 'medium'\n",
    "\n",
    "pl.rcParams['xtick.major.size'] = 8     \n",
    "pl.rcParams['xtick.minor.size'] = 4     \n",
    "pl.rcParams['xtick.major.pad']  = 8     \n",
    "pl.rcParams['xtick.minor.pad']  = 8     \n",
    "pl.rcParams['xtick.color']      = 'k'     \n",
    "pl.rcParams['xtick.labelsize']  = 'medium'\n",
    "pl.rcParams['xtick.direction']  = 'in'    \n",
    "\n",
    "pl.rcParams['ytick.major.size'] = 8     \n",
    "pl.rcParams['ytick.minor.size'] = 4     \n",
    "pl.rcParams['ytick.major.pad']  = 8     \n",
    "pl.rcParams['ytick.minor.pad']  = 8     \n",
    "pl.rcParams['ytick.color']      = 'k'     \n",
    "pl.rcParams['ytick.labelsize']  = 'medium'\n",
    "pl.rcParams['ytick.direction']  = 'in'    "
   ]
  },
  {
   "cell_type": "code",
   "execution_count": 3,
   "metadata": {
    "collapsed": true
   },
   "outputs": [],
   "source": [
    "# Setting velocity and spatial grid points\n",
    "N_positions = 100\n",
    "ghost_zones = 3\n",
    "N_velocity  = 1000"
   ]
  },
  {
   "cell_type": "code",
   "execution_count": 4,
   "metadata": {
    "collapsed": true
   },
   "outputs": [],
   "source": [
    "# Boundaries of domain\n",
    "left_boundary  = 0\n",
    "right_boundary = 1.0\n",
    "length         = right_boundary - left_boundary"
   ]
  },
  {
   "cell_type": "code",
   "execution_count": 5,
   "metadata": {
    "collapsed": true
   },
   "outputs": [],
   "source": [
    "# Setting mass of the particle, boltzmann-constant\n",
    "mass_particle      = 1.0\n",
    "boltzmann_constant = 1.0"
   ]
  },
  {
   "cell_type": "code",
   "execution_count": 6,
   "metadata": {
    "collapsed": true
   },
   "outputs": [],
   "source": [
    "# Scattering time scale\n",
    "tau   = 1.0\n",
    "# Magnitude of maximum velocity\n",
    "v_max = 10"
   ]
  },
  {
   "cell_type": "code",
   "execution_count": 7,
   "metadata": {
    "collapsed": true
   },
   "outputs": [],
   "source": [
    "# Time Parameters for the simulation:\n",
    "dt         = 0.001 # Size of the time-step\n",
    "final_time = 5.0\n",
    "time       = np.arange(dt, final_time, dt)"
   ]
  },
  {
   "cell_type": "code",
   "execution_count": 8,
   "metadata": {
    "collapsed": true
   },
   "outputs": [],
   "source": [
    "# Setting up the temperature parameters for the simulations:\n",
    "T_initial = 1.5\n",
    "T_walls   = 2.0"
   ]
  },
  {
   "cell_type": "code",
   "execution_count": 9,
   "metadata": {
    "collapsed": false
   },
   "outputs": [],
   "source": [
    "# Setting up of spatial and velocity grids:\n",
    "x  = np.linspace(left_boundary, right_boundary, N_positions)\n",
    "dx = x[1] - x[0]\n",
    "\n",
    "# Obtaining the coordinates for the ghost-zones:\n",
    "x_ghost_left  = np.linspace(-(ghost_zones)*dx + left_boundary, left_boundary - dx, ghost_zones)\n",
    "x_ghost_right = np.linspace(right_boundary + dx, right_boundary + ghost_zones*dx , ghost_zones)\n",
    "\n",
    "# Combining them to obtain the entire spatial grid\n",
    "x  = np.concatenate([x_ghost_left, x, x_ghost_right])\n",
    "\n",
    "# Obtaining the velocity grid\n",
    "v  = np.linspace(-v_max, v_max, N_velocity)"
   ]
  },
  {
   "cell_type": "code",
   "execution_count": 10,
   "metadata": {
    "collapsed": false
   },
   "outputs": [],
   "source": [
    "# Conversion to allow for easy vectorization\n",
    "x = x * np.ones([N_velocity , N_positions + 2*ghost_zones])\n",
    "v = v * np.ones([N_positions + 2*ghost_zones, N_velocity])\n",
    "v = np.transpose(v)"
   ]
  },
  {
   "cell_type": "code",
   "execution_count": 11,
   "metadata": {
    "collapsed": true
   },
   "outputs": [],
   "source": [
    "def calculate_density(f, v):\n",
    "    deltav           = v[1, 0]-v[0, 0]\n",
    "    value_of_density = np.sum(f, axis = 0)*deltav\n",
    "    return(value_of_density)"
   ]
  },
  {
   "cell_type": "code",
   "execution_count": 12,
   "metadata": {
    "collapsed": true
   },
   "outputs": [],
   "source": [
    "def calculate_temperature(f, v):\n",
    "    deltav               = v[1, 0]-v[0, 0]\n",
    "    value_of_temperature = np.sum(f*v**2, axis = 0)*deltav\n",
    "    return(value_of_temperature)"
   ]
  },
  {
   "cell_type": "code",
   "execution_count": 13,
   "metadata": {
    "collapsed": true
   },
   "outputs": [],
   "source": [
    "def f_MB(x, v, f):\n",
    "    n = calculate_n(f, v) * np.ones((N_velocity, N_positions + 2*ghost_zones), dtype = np.float)\n",
    "    T = calculate_T(f, v) * np.ones((N_velocity, N_positions + 2*ghost_zones), dtype = np.float)\n",
    "    f_MB = n*np.sqrt(mass_particle/(2*np.pi*boltzmann_constant*T))*\\\n",
    "           np.exp(-mass_particle*v**2/(2*boltzmann_constant*T))\n",
    "    return(f_MB)"
   ]
  },
  {
   "cell_type": "code",
   "execution_count": 14,
   "metadata": {
    "collapsed": true
   },
   "outputs": [],
   "source": [
    "# Function that return's the distribution function at the walls.\n",
    "def f_walls(v):\n",
    "    f_walls = np.sqrt(mass_particle/(2*np.pi*boltzmann_constant*T_walls))*\\\n",
    "              np.exp(-mass_particle*v**2/(2*boltzmann_constant*T_walls))\n",
    "    return(f_walls)"
   ]
  },
  {
   "cell_type": "code",
   "execution_count": 15,
   "metadata": {
    "collapsed": true
   },
   "outputs": [],
   "source": [
    "def f_interp(dt, x, v, f):\n",
    "    x_new     = x - v*dt\n",
    "    f_interp  = np.zeros([N_velocity, N_positions + 2*ghost_zones])\n",
    "    f_interp  = np.sqrt(mass_particle/(2*np.pi*boltzmann_constant*T_walls)) * \\\n",
    "                np.exp(-mass_particle*v**2/(2*boltzmann_constant*T_walls))\n",
    "\n",
    "    for i in range(N_velocity):\n",
    "        wall_indices = np.where(  (x_new[i, ghost_zones:-ghost_zones]<=left_boundary) \\\n",
    "                                + (x_new[i, ghost_zones:-ghost_zones]>=right_boundary) \\\n",
    "                               )[0]\n",
    "\n",
    "        f_interp[i, ghost_zones:-ghost_zones]   = np.interp(x_new[i, ghost_zones:-ghost_zones], x[i, :], f[i, :])\n",
    "        f_interp[i, wall_indices + ghost_zones] = f_walls(v[:, 0])[i]\n",
    "    return f_interp"
   ]
  },
  {
   "cell_type": "code",
   "execution_count": 16,
   "metadata": {
    "collapsed": false
   },
   "outputs": [],
   "source": [
    "# Intializing the values for f\n",
    "f_initial = np.sqrt(mass_particle/(2*np.pi*boltzmann_constant*T_initial)) * \\\n",
    "            np.exp(-mass_particle*v**2/(2*boltzmann_constant*T_initial))\n",
    "\n",
    "# Declaring the indices of the ghost cells at the left and right walls\n",
    "indices_left  = np.arange(ghost_zones)\n",
    "indices_right = np.arange(N_positions + 1, N_positions + ghost_zones + 1)\n",
    "indices_walls = np.concatenate([indices_left, indices_right])\n",
    "\n",
    "# Setting temperature at the walls:\n",
    "for i in indices_walls:\n",
    "    f_initial[:, i] = np.sqrt(mass_particle/(2*np.pi*boltzmann_constant*T_walls)) * \\\n",
    "                      np.exp(-mass_particle*v[:, 0]**2/(2*boltzmann_constant*T_walls))\n",
    "\n",
    "f_current = f_initial"
   ]
  },
  {
   "cell_type": "code",
   "execution_count": 17,
   "metadata": {
    "collapsed": false
   },
   "outputs": [],
   "source": [
    "fstar = f_interp(dt, x, v, f_current)"
   ]
  },
  {
   "cell_type": "code",
   "execution_count": 18,
   "metadata": {
    "collapsed": false
   },
   "outputs": [
    {
     "data": {
      "text/plain": [
       "array([[  3.91771663e-12,   3.91771663e-12,   3.91771663e-12, ...,\n",
       "          3.91771663e-12,   3.91771663e-12,   3.91771663e-12],\n",
       "       [  4.32974605e-12,   4.32974605e-12,   4.32974605e-12, ...,\n",
       "          4.32974605e-12,   4.32974605e-12,   4.32974605e-12],\n",
       "       [  4.78415010e-12,   4.78415010e-12,   4.78415010e-12, ...,\n",
       "          4.78415010e-12,   4.78415010e-12,   4.78415010e-12],\n",
       "       ..., \n",
       "       [  4.78415010e-12,   4.78415010e-12,   4.78415010e-12, ...,\n",
       "          4.78415010e-12,   4.78415010e-12,   4.78415010e-12],\n",
       "       [  4.32974605e-12,   4.32974605e-12,   4.32974605e-12, ...,\n",
       "          4.32974605e-12,   4.32974605e-12,   4.32974605e-12],\n",
       "       [  3.91771663e-12,   3.91771663e-12,   3.91771663e-12, ...,\n",
       "          3.91771663e-12,   3.91771663e-12,   3.91771663e-12]])"
      ]
     },
     "execution_count": 18,
     "metadata": {},
     "output_type": "execute_result"
    }
   ],
   "source": [
    "fstar"
   ]
  },
  {
   "cell_type": "code",
   "execution_count": 19,
   "metadata": {
    "collapsed": false
   },
   "outputs": [],
   "source": [
    "# Now we shall do the analytical calculations for the same:"
   ]
  },
  {
   "cell_type": "code",
   "execution_count": 20,
   "metadata": {
    "collapsed": true
   },
   "outputs": [],
   "source": [
    "def initial_density(x):\n",
    "    return 1.000\n",
    "\n",
    "initial_density = np.vectorize(initial_density)"
   ]
  },
  {
   "cell_type": "code",
   "execution_count": 27,
   "metadata": {
    "collapsed": true
   },
   "outputs": [],
   "source": [
    "def initial_temperature(x):\n",
    "    if(x<=left_boundary or x>=right_boundary):\n",
    "        return T_walls\n",
    "    \n",
    "    else:\n",
    "        return T_initial\n",
    "\n",
    "initial_temperature = np.vectorize(initial_temperature)"
   ]
  },
  {
   "cell_type": "code",
   "execution_count": 28,
   "metadata": {
    "collapsed": true
   },
   "outputs": [],
   "source": [
    "def f_MB_analytical(x, v):\n",
    "    f_MB_analytical = initial_density(x)*np.sqrt(mass_particle/(2*np.pi*boltzmann_constant*initial_temperature(x)))*\\\n",
    "                      np.exp(-mass_particle*v**2/(2*boltzmann_constant*initial_temperature(x)))\n",
    "    return(f_MB_analytical)\n",
    "\n",
    "f_MB_analytical = np.vectorize(f_MB_analytical)"
   ]
  },
  {
   "cell_type": "code",
   "execution_count": 29,
   "metadata": {
    "collapsed": false
   },
   "outputs": [],
   "source": [
    "f0 = f_MB_analytical(x - v*dt, v)"
   ]
  },
  {
   "cell_type": "code",
   "execution_count": 31,
   "metadata": {
    "collapsed": false
   },
   "outputs": [
    {
     "data": {
      "text/plain": [
       "[<matplotlib.lines.Line2D at 0x7f8c61d5e668>]"
      ]
     },
     "execution_count": 31,
     "metadata": {},
     "output_type": "execute_result"
    },
    {
     "data": {
      "image/png": "[encoded data removed]",
      "text/plain": [
       "<matplotlib.figure.Figure at 0x7f8c61d5e6d8>"
      ]
     },
     "metadata": {},
     "output_type": "display_data"
    }
   ],
   "source": [
    "pl.plot(x[0,ghost_zones:-ghost_zones], f0[500,ghost_zones:-ghost_zones])\n",
    "pl.plot(x[0,ghost_zones:-ghost_zones], fstar[500,ghost_zones:-ghost_zones])"
   ]
  },
  {
   "cell_type": "code",
   "execution_count": 48,
   "metadata": {
    "collapsed": false
   },
   "outputs": [
    {
     "data": {
      "text/plain": [
       "array([ 0.28208773,  0.28208773,  0.32572413,  0.32572413,  0.32572413,\n",
       "        0.32572413,  0.32572413,  0.32572413,  0.32572413,  0.32572413,\n",
       "        0.32572413,  0.32572413,  0.32572413,  0.32572413,  0.32572413,\n",
       "        0.32572413,  0.32572413,  0.32572413,  0.32572413,  0.32572413,\n",
       "        0.32572413,  0.32572413,  0.32572413,  0.32572413,  0.32572413,\n",
       "        0.32572413,  0.32572413,  0.32572413,  0.32572413,  0.32572413,\n",
       "        0.32572413,  0.32572413,  0.32572413,  0.32572413,  0.32572413,\n",
       "        0.32572413,  0.32572413,  0.32572413,  0.32572413,  0.32572413,\n",
       "        0.32572413,  0.32572413,  0.32572413,  0.32572413,  0.32572413,\n",
       "        0.32572413,  0.32572413,  0.32572413,  0.32572413,  0.32572413,\n",
       "        0.32572413,  0.32572413,  0.32572413,  0.32572413,  0.32572413,\n",
       "        0.32572413,  0.32572413,  0.32572413,  0.32572413,  0.32572413,\n",
       "        0.32572413,  0.32572413,  0.32572413,  0.32572413,  0.32572413,\n",
       "        0.32572413,  0.32572413,  0.32572413,  0.32572413,  0.32572413,\n",
       "        0.32572413,  0.32572413,  0.32572413,  0.32572413,  0.32572413,\n",
       "        0.32572413,  0.32572413,  0.32572413,  0.32572413,  0.32572413,\n",
       "        0.32572413,  0.32572413,  0.32572413,  0.32572413,  0.32572413,\n",
       "        0.32572413,  0.32572413,  0.32572413,  0.32572413,  0.32572413,\n",
       "        0.32572413,  0.32572413,  0.32572413,  0.32572413,  0.32572413,\n",
       "        0.32572413,  0.32572413,  0.32572413,  0.32572413,  0.32572413,\n",
       "        0.32572413,  0.28208773])"
      ]
     },
     "execution_count": 48,
     "metadata": {},
     "output_type": "execute_result"
    }
   ],
   "source": [
    "fstar[500,:]"
   ]
  },
  {
   "cell_type": "code",
   "execution_count": 49,
   "metadata": {
    "collapsed": false
   },
   "outputs": [
    {
     "data": {
      "text/plain": [
       "array([ 0.32572413,  0.32572413,  0.32572413,  0.32572413,  0.32572413,\n",
       "        0.32572413,  0.32572413,  0.32572413,  0.32572413,  0.32572413,\n",
       "        0.32572413,  0.32572413,  0.32572413,  0.32572413,  0.32572413,\n",
       "        0.32572413,  0.32572413,  0.32572413,  0.32572413,  0.32572413,\n",
       "        0.32572413,  0.32572413,  0.32572413,  0.32572413,  0.32572413,\n",
       "        0.32572413,  0.32572413,  0.32572413,  0.32572413,  0.32572413,\n",
       "        0.32572413,  0.32572413,  0.32572413,  0.32572413,  0.32572413,\n",
       "        0.32572413,  0.32572413,  0.32572413,  0.32572413,  0.32572413,\n",
       "        0.32572413,  0.32572413,  0.32572413,  0.32572413,  0.32572413,\n",
       "        0.32572413,  0.32572413,  0.32572413,  0.32572413,  0.32572413,\n",
       "        0.32572413,  0.32572413,  0.32572413,  0.32572413,  0.32572413,\n",
       "        0.32572413,  0.32572413,  0.32572413,  0.32572413,  0.32572413,\n",
       "        0.32572413,  0.32572413,  0.32572413,  0.32572413,  0.32572413,\n",
       "        0.32572413,  0.32572413,  0.32572413,  0.32572413,  0.32572413,\n",
       "        0.32572413,  0.32572413,  0.32572413,  0.32572413,  0.32572413,\n",
       "        0.32572413,  0.32572413,  0.32572413,  0.32572413,  0.32572413,\n",
       "        0.32572413,  0.32572413,  0.32572413,  0.32572413,  0.32572413,\n",
       "        0.32572413,  0.32572413,  0.32572413,  0.32572413,  0.32572413,\n",
       "        0.32572413,  0.32572413,  0.32572413,  0.32572413,  0.32572413,\n",
       "        0.32572413,  0.32572413,  0.32572413,  0.32572413,  0.32572413])"
      ]
     },
     "execution_count": 49,
     "metadata": {},
     "output_type": "execute_result"
    }
   ],
   "source": [
    "f0[500,ghost_zones:-ghost_zones]"
   ]
  },
  {
   "cell_type": "code",
   "execution_count": 2,
   "metadata": {
    "collapsed": false
   },
   "outputs": [],
   "source": [
    "from scipy.interpolate import interp1d"
   ]
  },
  {
   "cell_type": "code",
   "execution_count": 3,
   "metadata": {
    "collapsed": true
   },
   "outputs": [],
   "source": [
    "interp1d?"
   ]
  },
  {
   "cell_type": "code",
   "execution_count": null,
   "metadata": {
    "collapsed": true
   },
   "outputs": [],
   "source": []
  }
 ],
 "metadata": {
  "anaconda-cloud": {},
  "kernelspec": {
   "display_name": "Python [conda root]",
   "language": "python",
   "name": "conda-root-py"
  },
  "language_info": {
   "codemirror_mode": {
    "name": "ipython",
    "version": 3
   },
   "file_extension": ".py",
   "mimetype": "text/x-python",
   "name": "python",
   "nbconvert_exporter": "python",
   "pygments_lexer": "ipython3",
   "version": "3.5.2"
  }
 },
 "nbformat": 4,
 "nbformat_minor": 1
}
