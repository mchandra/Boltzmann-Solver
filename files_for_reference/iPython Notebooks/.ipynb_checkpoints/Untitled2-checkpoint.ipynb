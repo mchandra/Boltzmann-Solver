{
 "cells": [
  {
   "cell_type": "code",
   "execution_count": 374,
   "metadata": {
    "collapsed": true
   },
   "outputs": [],
   "source": [
    "import numpy as np\n",
    "import pylab as pl\n",
    "import arrayfire as af\n",
    "af.set_backend(\"cpu\")\n",
    "%matplotlib inline"
   ]
  },
  {
   "cell_type": "code",
   "execution_count": 375,
   "metadata": {
    "collapsed": true
   },
   "outputs": [],
   "source": [
    "pl.rcParams['figure.figsize']  = 12, 7.5\n",
    "pl.rcParams['lines.linewidth'] = 1.5\n",
    "pl.rcParams['font.family']     = 'serif'\n",
    "pl.rcParams['font.weight']     = 'bold'\n",
    "pl.rcParams['font.size']       = 20  \n",
    "pl.rcParams['font.sans-serif'] = 'serif'\n",
    "pl.rcParams['text.usetex']     = True\n",
    "pl.rcParams['axes.linewidth']  = 1.5\n",
    "pl.rcParams['axes.titlesize']  = 'medium'\n",
    "pl.rcParams['axes.labelsize']  = 'medium'\n",
    "\n",
    "pl.rcParams['xtick.major.size'] = 8     \n",
    "pl.rcParams['xtick.minor.size'] = 4     \n",
    "pl.rcParams['xtick.major.pad']  = 8     \n",
    "pl.rcParams['xtick.minor.pad']  = 8     \n",
    "pl.rcParams['xtick.color']      = 'k'     \n",
    "pl.rcParams['xtick.labelsize']  = 'medium'\n",
    "pl.rcParams['xtick.direction']  = 'in'    \n",
    "\n",
    "pl.rcParams['ytick.major.size'] = 8     \n",
    "pl.rcParams['ytick.minor.size'] = 4     \n",
    "pl.rcParams['ytick.major.pad']  = 8     \n",
    "pl.rcParams['ytick.minor.pad']  = 8     \n",
    "pl.rcParams['ytick.color']      = 'k'     \n",
    "pl.rcParams['ytick.labelsize']  = 'medium'\n",
    "pl.rcParams['ytick.direction']  = 'in'  "
   ]
  },
  {
   "cell_type": "code",
   "execution_count": 376,
   "metadata": {
    "collapsed": true
   },
   "outputs": [],
   "source": [
    "# Setting velocity and spatial grid points\n",
    "N_positions = 101\n",
    "ghost_zones = 3\n",
    "N_velocity  = 501"
   ]
  },
  {
   "cell_type": "code",
   "execution_count": 377,
   "metadata": {
    "collapsed": true
   },
   "outputs": [],
   "source": [
    "# Boundaries of domain\n",
    "left_boundary  = 0\n",
    "right_boundary = 1.0\n",
    "length         = right_boundary - left_boundary"
   ]
  },
  {
   "cell_type": "code",
   "execution_count": 378,
   "metadata": {
    "collapsed": true
   },
   "outputs": [],
   "source": [
    "# Setting mass of the particle, boltzmann-constant\n",
    "mass_particle      = 1.0\n",
    "boltzmann_constant = 1.0"
   ]
  },
  {
   "cell_type": "code",
   "execution_count": 379,
   "metadata": {
    "collapsed": true
   },
   "outputs": [],
   "source": [
    "# Scattering time scale\n",
    "tau   = 1.0\n",
    "# Magnitude of maximum velocity\n",
    "v_max = 10.0"
   ]
  },
  {
   "cell_type": "code",
   "execution_count": 399,
   "metadata": {
    "collapsed": true
   },
   "outputs": [],
   "source": [
    "# Time Parameters for the simulation:\n",
    "dt         = 0.05 # Size of the time-step\n",
    "final_time = 3.0\n",
    "time       = np.arange(dt, final_time, dt)"
   ]
  },
  {
   "cell_type": "code",
   "execution_count": 400,
   "metadata": {
    "collapsed": false
   },
   "outputs": [],
   "source": [
    "# Setting up the temperature parameters for the simulations:\n",
    "T_left   = 2.0\n",
    "T_right  = 2.0\n",
    "T_initial = 1.5"
   ]
  },
  {
   "cell_type": "code",
   "execution_count": 401,
   "metadata": {
    "collapsed": false
   },
   "outputs": [],
   "source": [
    "# Setting up of spatial and velocity grids:\n",
    "x  = np.linspace(left_boundary, right_boundary, N_positions)\n",
    "dx = x[1] - x[0]"
   ]
  },
  {
   "cell_type": "code",
   "execution_count": 402,
   "metadata": {
    "collapsed": true
   },
   "outputs": [],
   "source": [
    "# Obtaining the coordinates for the ghost-zones:\n",
    "x_ghost_left  = np.linspace(-(ghost_zones)*dx + left_boundary, left_boundary - dx, ghost_zones)\n",
    "x_ghost_right = np.linspace(right_boundary + dx, right_boundary + ghost_zones*dx , ghost_zones)"
   ]
  },
  {
   "cell_type": "code",
   "execution_count": 403,
   "metadata": {
    "collapsed": true
   },
   "outputs": [],
   "source": [
    "# Combining them to obtain the entire spatial grid\n",
    "x  = np.concatenate([x_ghost_left, x, x_ghost_right])"
   ]
  },
  {
   "cell_type": "code",
   "execution_count": 404,
   "metadata": {
    "collapsed": false
   },
   "outputs": [],
   "source": [
    "# Obtaining the velocity grid\n",
    "v  = np.linspace(-v_max, v_max, N_velocity)\n",
    "x  = af.to_array(x)\n",
    "v  = af.to_array(v)"
   ]
  },
  {
   "cell_type": "code",
   "execution_count": 405,
   "metadata": {
    "collapsed": false
   },
   "outputs": [],
   "source": [
    "# Conversion to allow for easy vectorization\n",
    "x = af.tile(x, 1, N_velocity)\n",
    "v = af.tile(af.reorder(v), N_positions + 2*ghost_zones, 1)"
   ]
  },
  {
   "cell_type": "code",
   "execution_count": 406,
   "metadata": {
    "collapsed": true
   },
   "outputs": [],
   "source": [
    "def calculate_density(f, v):\n",
    "    deltav           = af.sum(v[0, 1]-v[0, 0])\n",
    "    value_of_density = af.sum(f, 1)*deltav\n",
    "    return(value_of_density)"
   ]
  },
  {
   "cell_type": "code",
   "execution_count": 407,
   "metadata": {
    "collapsed": true
   },
   "outputs": [],
   "source": [
    "def calculate_temperature(f, v):\n",
    "    deltav               = af.sum(v[0, 1]-v[0, 0])\n",
    "    value_of_temperature = af.sum(f*v**2, 1)*deltav\n",
    "    return(value_of_temperature)"
   ]
  },
  {
   "cell_type": "code",
   "execution_count": 408,
   "metadata": {
    "collapsed": true
   },
   "outputs": [],
   "source": [
    "def calculate_heatflux(f, v):\n",
    "    deltav               = af.sum(v[0, 1]-v[0, 0])\n",
    "    value_of_heatflux    = af.sum(f*v**3, 1)*deltav\n",
    "    return(value_of_heatflux)"
   ]
  },
  {
   "cell_type": "code",
   "execution_count": 409,
   "metadata": {
    "collapsed": true
   },
   "outputs": [],
   "source": [
    "def f_MB(x, v, f):\n",
    "    n = af.tile(calculate_density(f, v), 1, N_velocity)\n",
    "    T = af.tile(calculate_temperature(f, v), 1, N_velocity)\n",
    "    f_MB = n*af.sqrt(mass_particle/(2*np.pi*boltzmann_constant*T))*\\\n",
    "             af.exp(-mass_particle*v**2/(2*boltzmann_constant*T))\n",
    "    return(f_MB)\n"
   ]
  },
  {
   "cell_type": "code",
   "execution_count": 410,
   "metadata": {
    "collapsed": true
   },
   "outputs": [],
   "source": [
    "def f_interp(dt, x, v, f):\n",
    "    x_new     = x - v*dt\n",
    "    step_size = af.sum(x[1,0] - x[0,0])\n",
    "    f_inter   = af.constant(0, N_positions + 2*ghost_zones, N_velocity)\n",
    "    f_inter[ghost_zones:-ghost_zones,:] = af.approx1(f, x_new[ghost_zones:-ghost_zones,:]/step_size, af.INTERP.CUBIC)\n",
    "    \n",
    "    f_inter = af.Array.as_type(f_inter, af.Dtype.f64)\n",
    "    \n",
    "    f_left    = np.sqrt(mass_particle/(2*np.pi*boltzmann_constant*T_left))*\\\n",
    "                af.exp(-mass_particle*v**2/(2*boltzmann_constant*T_left))\n",
    "    \n",
    "    f_right   = np.sqrt(mass_particle/(2*np.pi*boltzmann_constant*T_right))*\\\n",
    "                af.exp(-mass_particle*v**2/(2*boltzmann_constant*T_right))\n",
    "    \n",
    "    f_inter[ghost_zones:-ghost_zones,:] = af.select(x_new[ghost_zones:-ghost_zones, :]<=left_boundary, \\\n",
    "                                                     f_left[ghost_zones:-ghost_zones,:], \\\n",
    "                                                     f_inter[ghost_zones:-ghost_zones,:]\n",
    "                                                    )\n",
    "    \n",
    "    f_inter[ghost_zones:-ghost_zones,:] = af.select(x_new[ghost_zones:-ghost_zones, :]>=right_boundary, \\\n",
    "                                                     f_right[ghost_zones:-ghost_zones,:], \\\n",
    "                                                     f_inter[ghost_zones:-ghost_zones,:]\n",
    "                                                    )\n",
    "    \n",
    "    return f_inter\n"
   ]
  },
  {
   "cell_type": "code",
   "execution_count": 411,
   "metadata": {
    "collapsed": true
   },
   "outputs": [],
   "source": [
    "# Intializing the values for f\n",
    "f_initial = np.sqrt(mass_particle/(2*np.pi*boltzmann_constant*T_initial)) * \\\n",
    "            af.exp(-mass_particle*v**2/(2*boltzmann_constant*T_initial))"
   ]
  },
  {
   "cell_type": "code",
   "execution_count": 412,
   "metadata": {
    "collapsed": false
   },
   "outputs": [],
   "source": [
    "f_initial[:ghost_zones,:] = np.sqrt(mass_particle/(2*np.pi*boltzmann_constant*T_left)) * \\\n",
    "                            af.exp(-mass_particle*v[:ghost_zones, :]**2/(2*boltzmann_constant*T_left))\n",
    "    \n",
    "f_initial[N_positions + ghost_zones:N_positions + 2 * ghost_zones, :] = np.sqrt(mass_particle/(2*np.pi*boltzmann_constant*T_right)) * \\\n",
    "                                                                        af.exp(-mass_particle*v[:ghost_zones, :]**2/(2*boltzmann_constant*T_right))"
   ]
  },
  {
   "cell_type": "code",
   "execution_count": 413,
   "metadata": {
    "collapsed": false
   },
   "outputs": [],
   "source": [
    "f_current = f_initial\n",
    "sol2 = np.zeros(time.size)"
   ]
  },
  {
   "cell_type": "code",
   "execution_count": 414,
   "metadata": {
    "collapsed": false
   },
   "outputs": [],
   "source": [
    "for time_index, t0 in enumerate(time):\n",
    "    #print(\"Computing For Time Index = \", time_index)\n",
    "    #print(\"Physical Time            = \", t0)\n",
    "    # We shall split the Boltzmann-Equation and solve it:\n",
    "    # In this step we are solving the collisionless equation\n",
    "    fstar = f_interp(dt, x, v, f_current)\n",
    "    \n",
    "    fstar[:ghost_zones,:] = np.sqrt(mass_particle/(2*np.pi*boltzmann_constant*T_left)) * \\\n",
    "                            af.exp(-mass_particle*v[:ghost_zones, :]**2/(2*boltzmann_constant*T_left))\n",
    "    \n",
    "    fstar[N_positions + ghost_zones:N_positions + 2 * ghost_zones, :] = np.sqrt(mass_particle/(2*np.pi*boltzmann_constant*T_right)) * \\\n",
    "                                                                        af.exp(-mass_particle*v[:ghost_zones, :]**2/(2*boltzmann_constant*T_right))\n",
    "\n",
    "    # We turn off the term v(df/dx) for the following two steps\n",
    "    f0             = f_MB(x, v, fstar)\n",
    "    f_new          = f0 + (fstar - f0)*np.exp(-dt/tau)\n",
    "    \n",
    "    f_new[:ghost_zones,:] = np.sqrt(mass_particle/(2*np.pi*boltzmann_constant*T_left)) * \\\n",
    "                            af.exp(-mass_particle*v[:ghost_zones, :]**2/(2*boltzmann_constant*T_left))\n",
    "    \n",
    "    f_new[N_positions + ghost_zones:N_positions + 2 * ghost_zones, :] = np.sqrt(mass_particle/(2*np.pi*boltzmann_constant*T_right)) * \\\n",
    "                                                                        af.exp(-mass_particle*v[:ghost_zones, :]**2/(2*boltzmann_constant*T_right))\n",
    "\n",
    "\n",
    "    f_current = f_new\n",
    "    temp      = calculate_temperature(f_current[ghost_zones:-ghost_zones, :], v[ghost_zones:-ghost_zones, :])\n",
    "    sol2[time_index] = af.sum(temp)/af.Array.elements(temp)"
   ]
  },
  {
   "cell_type": "code",
   "execution_count": 415,
   "metadata": {
    "collapsed": true
   },
   "outputs": [],
   "source": [
    "import h5py\n",
    "h5f = h5py.File('analytical.h5', 'r')\n",
    "sol = h5f['soln'][:]\n",
    "time2 = h5f['time'][:]\n",
    "h5f.close()"
   ]
  },
  {
   "cell_type": "code",
   "execution_count": 416,
   "metadata": {
    "collapsed": false
   },
   "outputs": [
    {
     "name": "stdout",
     "output_type": "stream",
     "text": [
      "[ 1.58781108  1.66564925  1.74333971  1.81930088  1.88554579  1.93419419\n",
      "  1.9664135   1.98723455  2.00075979  2.00968186  2.01547392  2.01916259\n",
      "  2.02141563  2.02251223  2.02298143  2.02286729  2.02246965  2.02184297\n",
      "  2.0210494   2.02019035  2.01929442  2.01837307  2.01745038  2.01654963\n",
      "  2.01567527  2.01483361  2.01402243  2.01324788  2.01251306  2.01181581\n",
      "  2.01115611  2.01053313  2.00994323  2.00938667  2.00886137  2.00836299\n",
      "  2.00789699  2.0074525   2.00703897  2.00664525  2.00627974  2.00593395\n",
      "  2.00560731  2.00530136  2.00501321  2.00474085  2.00448371  2.00424121\n",
      "  2.00401239  2.00379701  2.00359379  2.00340204  2.00321969  2.00304937\n",
      "  2.00288681  2.00273151  2.00258799  2.00244999  2.002317  ]\n"
     ]
    }
   ],
   "source": [
    "new=np.zeros(time2.size)\n",
    "for i in range(1,31):\n",
    "    new+=sol[i][:]\n",
    "new=new/30\n",
    "print(sol2)"
   ]
  },
  {
   "cell_type": "code",
   "execution_count": 417,
   "metadata": {
    "collapsed": false
   },
   "outputs": [
    {
     "data": {
      "text/plain": [
       "<matplotlib.text.Text at 0x7f2133a80c18>"
      ]
     },
     "execution_count": 417,
     "metadata": {},
     "output_type": "execute_result"
    },
    {
     "data": {
      "image/png": "[encoded data removed]",
      "text/plain": [
       "<matplotlib.figure.Figure at 0x7f2133abb358>"
      ]
     },
     "metadata": {},
     "output_type": "display_data"
    }
   ],
   "source": [
    "pl.plot(time2, np.abs(new),'b', label='$\\mathrm{Analytical}$')\n",
    "pl.plot(time,  np.abs(sol2),'r', label='$\\mathrm{Numerical}$')\n",
    "pl.title('$\\mathrm{Analytical/Numerical}$ $\\mathrm{Solution}$')"
   ]
  }
 ],
 "metadata": {
  "anaconda-cloud": {},
  "kernelspec": {
   "display_name": "Python [default]",
   "language": "python",
   "name": "python3"
  },
  "language_info": {
   "codemirror_mode": {
    "name": "ipython",
    "version": 3
   },
   "file_extension": ".py",
   "mimetype": "text/x-python",
   "name": "python",
   "nbconvert_exporter": "python",
   "pygments_lexer": "ipython3",
   "version": "3.5.2"
  }
 },
 "nbformat": 4,
 "nbformat_minor": 1
}
